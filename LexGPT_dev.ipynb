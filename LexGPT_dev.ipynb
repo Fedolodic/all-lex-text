{
  "nbformat": 4,
  "nbformat_minor": 0,
  "metadata": {
    "colab": {
      "provenance": [],
      "include_colab_link": true
    },
    "kernelspec": {
      "name": "python3",
      "display_name": "Python 3"
    },
    "language_info": {
      "name": "python"
    }
  },
  "cells": [
    {
      "cell_type": "markdown",
      "metadata": {
        "id": "view-in-github",
        "colab_type": "text"
      },
      "source": [
        "<a href=\"https://colab.research.google.com/github/Fedolodic/all-lex-text/blob/main/LexGPT_dev.ipynb\" target=\"_parent\"><img src=\"https://colab.research.google.com/assets/colab-badge.svg\" alt=\"Open In Colab\"/></a>"
      ]
    },
    {
      "cell_type": "markdown",
      "source": [
        "## Building a GPT\n",
        "\n",
        "Companion notebook to the [Zero To Hero](https://karpathy.ai/zero-to-hero.html) video on GPT."
      ],
      "metadata": {
        "id": "wJpXpmjEYC_T"
      }
    },
    {
      "cell_type": "code",
      "execution_count": null,
      "metadata": {
        "colab": {
          "base_uri": "https://localhost:8080/"
        },
        "id": "h5hjCcLDr2WC",
        "outputId": "ccc60f0c-fd78-4dbe-8598-0512d1036aad"
      },
      "outputs": [
        {
          "output_type": "stream",
          "name": "stdout",
          "text": [
            "--2023-01-17 01:39:27--  https://raw.githubusercontent.com/karpathy/char-rnn/master/data/tinyshakespeare/input.txt\n",
            "Resolving raw.githubusercontent.com (raw.githubusercontent.com)... 185.199.108.133, 185.199.109.133, 185.199.110.133, ...\n",
            "Connecting to raw.githubusercontent.com (raw.githubusercontent.com)|185.199.108.133|:443... connected.\n",
            "HTTP request sent, awaiting response... 200 OK\n",
            "Length: 1115394 (1.1M) [text/plain]\n",
            "Saving to: ‘input.txt’\n",
            "\n",
            "input.txt           100%[===================>]   1.06M  --.-KB/s    in 0.04s   \n",
            "\n",
            "2023-01-17 01:39:28 (29.0 MB/s) - ‘input.txt’ saved [1115394/1115394]\n",
            "\n"
          ]
        }
      ],
      "source": [
        "# We always start with a dataset to train on. Let's download the tiny shakespeare dataset\n",
        "# !wget https://raw.githubusercontent.com/karpathy/char-rnn/master/data/tinyshakespeare/input.txt"
      ]
    },
    {
      "cell_type": "code",
      "source": [
        "# read it in to inspect it\n",
        "with open('input.txt', 'r', encoding='utf-8') as f:\n",
        "    text = f.read()"
      ],
      "metadata": {
        "id": "O6medjfRsLD9"
      },
      "execution_count": 1,
      "outputs": []
    },
    {
      "cell_type": "code",
      "source": [
        "print(\"length of dataset in characters: \", len(text))"
      ],
      "metadata": {
        "colab": {
          "base_uri": "https://localhost:8080/"
        },
        "id": "6xWI_VyAsN8F",
        "outputId": "8d3ea27b-ad3d-47a4-89fb-98b903836fab"
      },
      "execution_count": 2,
      "outputs": [
        {
          "output_type": "stream",
          "name": "stdout",
          "text": [
            "length of dataset in characters:  1050695\n"
          ]
        }
      ]
    },
    {
      "cell_type": "code",
      "source": [
        "# let's look at the first 1000 characters\n",
        "print(text[:1000])"
      ],
      "metadata": {
        "colab": {
          "base_uri": "https://localhost:8080/"
        },
        "id": "2c5V0FvqseE0",
        "outputId": "397c7aba-a64f-40b6-d0c3-37259cce78d0"
      },
      "execution_count": 3,
      "outputs": [
        {
          "output_type": "stream",
          "name": "stdout",
          "text": [
            "As part of MIT course 6S099, Artificial General Intelligence,\n",
            "I've gotten the chance to sit down with Max Tegmark.\n",
            "He is a professor here at MIT.\n",
            "He's a physicist, spent a large part of his career\n",
            "studying the mysteries of our cosmological universe.\n",
            "But he's also studied and delved into the beneficial\n",
            "possibilities and the existential risks\n",
            "of artificial intelligence.\n",
            "Amongst many other things, he is the cofounder\n",
            "of the Future of Life Institute, author of two books,\n",
            "both of which I highly recommend.\n",
            "First, Our Mathematical Universe.\n",
            "Second is Life 3.0.\n",
            "He's truly an out of the box thinker and a fun personality,\n",
            "so I really enjoy talking to him.\n",
            "If you'd like to see more of these videos in the future,\n",
            "please subscribe and also click the little bell icon\n",
            "to make sure you don't miss any videos.\n",
            "Also, Twitter, LinkedIn, agi.mit.edu\n",
            "if you wanna watch other lectures\n",
            "or conversations like this one.\n",
            "Better yet, go read Max's book, Life 3.0.\n",
            "Chapter seven on goals is my favorite.\n",
            "It's really \n"
          ]
        }
      ]
    },
    {
      "cell_type": "code",
      "source": [
        "# here are all the unique characters that occur in this text\n",
        "chars = sorted(list(set(text)))\n",
        "vocab_size = len(chars)\n",
        "print(''.join(chars))\n",
        "print(vocab_size)"
      ],
      "metadata": {
        "colab": {
          "base_uri": "https://localhost:8080/"
        },
        "id": "0e-Rbyr8sfM8",
        "outputId": "aef0ec5e-d007-4988-8023-fa74f19a5eb6"
      },
      "execution_count": 4,
      "outputs": [
        {
          "output_type": "stream",
          "name": "stdout",
          "text": [
            "\n",
            " $%&'+,.0123456789?ABCDEFGHIJKLMNOPQRSTUVWXYZabcdefghijklmnopqrstuvwxyzéö–…\n",
            "76\n"
          ]
        }
      ]
    },
    {
      "cell_type": "code",
      "source": [
        "# create a mapping from characters to integers\n",
        "stoi = { ch:i for i,ch in enumerate(chars) }\n",
        "itos = { i:ch for i,ch in enumerate(chars) }\n",
        "encode = lambda s: [stoi[c] for c in s] # encoder: take a string, output a list of integers\n",
        "decode = lambda l: ''.join([itos[i] for i in l]) # decoder: take a list of integers, output a string\n",
        "\n",
        "print(encode(\"hii there\"))\n",
        "print(decode(encode(\"hii there\")))"
      ],
      "metadata": {
        "colab": {
          "base_uri": "https://localhost:8080/"
        },
        "id": "Yw1LKNCgwjj1",
        "outputId": "f246cd87-d339-41ce-9d29-c6795c18b3ea"
      },
      "execution_count": 5,
      "outputs": [
        {
          "output_type": "stream",
          "name": "stdout",
          "text": [
            "[53, 54, 54, 1, 65, 53, 50, 63, 50]\n",
            "hii there\n"
          ]
        }
      ]
    },
    {
      "cell_type": "code",
      "source": [
        "# let's now encode the entire text dataset and store it into a torch.Tensor\n",
        "import torch # we use PyTorch: https://pytorch.org\n",
        "data = torch.tensor(encode(text), dtype=torch.long)\n",
        "print(data.shape, data.dtype)\n",
        "print(data[:1000]) # the 1000 characters we looked at earier will to the GPT look like this"
      ],
      "metadata": {
        "colab": {
          "base_uri": "https://localhost:8080/"
        },
        "id": "YJb0OXPwzvqg",
        "outputId": "5d8fb5d5-953f-438e-b8c5-1799eaf252c9"
      },
      "execution_count": 6,
      "outputs": [
        {
          "output_type": "stream",
          "name": "stdout",
          "text": [
            "torch.Size([1050695]) torch.int64\n",
            "tensor([20, 64,  1, 61, 46, 63, 65,  1, 60, 51,  1, 32, 28, 39,  1, 48, 60, 66,\n",
            "        63, 64, 50,  1, 15, 38,  9, 18, 18,  7,  1, 20, 63, 65, 54, 51, 54, 48,\n",
            "        54, 46, 57,  1, 26, 50, 59, 50, 63, 46, 57,  1, 28, 59, 65, 50, 57, 57,\n",
            "        54, 52, 50, 59, 48, 50,  7,  0, 28,  5, 67, 50,  1, 52, 60, 65, 65, 50,\n",
            "        59,  1, 65, 53, 50,  1, 48, 53, 46, 59, 48, 50,  1, 65, 60,  1, 64, 54,\n",
            "        65,  1, 49, 60, 68, 59,  1, 68, 54, 65, 53,  1, 32, 46, 69,  1, 39, 50,\n",
            "        52, 58, 46, 63, 56,  8,  0, 27, 50,  1, 54, 64,  1, 46,  1, 61, 63, 60,\n",
            "        51, 50, 64, 64, 60, 63,  1, 53, 50, 63, 50,  1, 46, 65,  1, 32, 28, 39,\n",
            "         8,  0, 27, 50,  5, 64,  1, 46,  1, 61, 53, 70, 64, 54, 48, 54, 64, 65,\n",
            "         7,  1, 64, 61, 50, 59, 65,  1, 46,  1, 57, 46, 63, 52, 50,  1, 61, 46,\n",
            "        63, 65,  1, 60, 51,  1, 53, 54, 64,  1, 48, 46, 63, 50, 50, 63,  0, 64,\n",
            "        65, 66, 49, 70, 54, 59, 52,  1, 65, 53, 50,  1, 58, 70, 64, 65, 50, 63,\n",
            "        54, 50, 64,  1, 60, 51,  1, 60, 66, 63,  1, 48, 60, 64, 58, 60, 57, 60,\n",
            "        52, 54, 48, 46, 57,  1, 66, 59, 54, 67, 50, 63, 64, 50,  8,  0, 21, 66,\n",
            "        65,  1, 53, 50,  5, 64,  1, 46, 57, 64, 60,  1, 64, 65, 66, 49, 54, 50,\n",
            "        49,  1, 46, 59, 49,  1, 49, 50, 57, 67, 50, 49,  1, 54, 59, 65, 60,  1,\n",
            "        65, 53, 50,  1, 47, 50, 59, 50, 51, 54, 48, 54, 46, 57,  0, 61, 60, 64,\n",
            "        64, 54, 47, 54, 57, 54, 65, 54, 50, 64,  1, 46, 59, 49,  1, 65, 53, 50,\n",
            "         1, 50, 69, 54, 64, 65, 50, 59, 65, 54, 46, 57,  1, 63, 54, 64, 56, 64,\n",
            "         0, 60, 51,  1, 46, 63, 65, 54, 51, 54, 48, 54, 46, 57,  1, 54, 59, 65,\n",
            "        50, 57, 57, 54, 52, 50, 59, 48, 50,  8,  0, 20, 58, 60, 59, 52, 64, 65,\n",
            "         1, 58, 46, 59, 70,  1, 60, 65, 53, 50, 63,  1, 65, 53, 54, 59, 52, 64,\n",
            "         7,  1, 53, 50,  1, 54, 64,  1, 65, 53, 50,  1, 48, 60, 51, 60, 66, 59,\n",
            "        49, 50, 63,  0, 60, 51,  1, 65, 53, 50,  1, 25, 66, 65, 66, 63, 50,  1,\n",
            "        60, 51,  1, 31, 54, 51, 50,  1, 28, 59, 64, 65, 54, 65, 66, 65, 50,  7,\n",
            "         1, 46, 66, 65, 53, 60, 63,  1, 60, 51,  1, 65, 68, 60,  1, 47, 60, 60,\n",
            "        56, 64,  7,  0, 47, 60, 65, 53,  1, 60, 51,  1, 68, 53, 54, 48, 53,  1,\n",
            "        28,  1, 53, 54, 52, 53, 57, 70,  1, 63, 50, 48, 60, 58, 58, 50, 59, 49,\n",
            "         8,  0, 25, 54, 63, 64, 65,  7,  1, 34, 66, 63,  1, 32, 46, 65, 53, 50,\n",
            "        58, 46, 65, 54, 48, 46, 57,  1, 40, 59, 54, 67, 50, 63, 64, 50,  8,  0,\n",
            "        38, 50, 48, 60, 59, 49,  1, 54, 64,  1, 31, 54, 51, 50,  1, 12,  8,  9,\n",
            "         8,  0, 27, 50,  5, 64,  1, 65, 63, 66, 57, 70,  1, 46, 59,  1, 60, 66,\n",
            "        65,  1, 60, 51,  1, 65, 53, 50,  1, 47, 60, 69,  1, 65, 53, 54, 59, 56,\n",
            "        50, 63,  1, 46, 59, 49,  1, 46,  1, 51, 66, 59,  1, 61, 50, 63, 64, 60,\n",
            "        59, 46, 57, 54, 65, 70,  7,  0, 64, 60,  1, 28,  1, 63, 50, 46, 57, 57,\n",
            "        70,  1, 50, 59, 55, 60, 70,  1, 65, 46, 57, 56, 54, 59, 52,  1, 65, 60,\n",
            "         1, 53, 54, 58,  8,  0, 28, 51,  1, 70, 60, 66,  5, 49,  1, 57, 54, 56,\n",
            "        50,  1, 65, 60,  1, 64, 50, 50,  1, 58, 60, 63, 50,  1, 60, 51,  1, 65,\n",
            "        53, 50, 64, 50,  1, 67, 54, 49, 50, 60, 64,  1, 54, 59,  1, 65, 53, 50,\n",
            "         1, 51, 66, 65, 66, 63, 50,  7,  0, 61, 57, 50, 46, 64, 50,  1, 64, 66,\n",
            "        47, 64, 48, 63, 54, 47, 50,  1, 46, 59, 49,  1, 46, 57, 64, 60,  1, 48,\n",
            "        57, 54, 48, 56,  1, 65, 53, 50,  1, 57, 54, 65, 65, 57, 50,  1, 47, 50,\n",
            "        57, 57,  1, 54, 48, 60, 59,  0, 65, 60,  1, 58, 46, 56, 50,  1, 64, 66,\n",
            "        63, 50,  1, 70, 60, 66,  1, 49, 60, 59,  5, 65,  1, 58, 54, 64, 64,  1,\n",
            "        46, 59, 70,  1, 67, 54, 49, 50, 60, 64,  8,  0, 20, 57, 64, 60,  7,  1,\n",
            "        39, 68, 54, 65, 65, 50, 63,  7,  1, 31, 54, 59, 56, 50, 49, 28, 59,  7,\n",
            "         1, 46, 52, 54,  8, 58, 54, 65,  8, 50, 49, 66,  0, 54, 51,  1, 70, 60,\n",
            "        66,  1, 68, 46, 59, 59, 46,  1, 68, 46, 65, 48, 53,  1, 60, 65, 53, 50,\n",
            "        63,  1, 57, 50, 48, 65, 66, 63, 50, 64,  0, 60, 63,  1, 48, 60, 59, 67,\n",
            "        50, 63, 64, 46, 65, 54, 60, 59, 64,  1, 57, 54, 56, 50,  1, 65, 53, 54,\n",
            "        64,  1, 60, 59, 50,  8,  0, 21, 50, 65, 65, 50, 63,  1, 70, 50, 65,  7,\n",
            "         1, 52, 60,  1, 63, 50, 46, 49,  1, 32, 46, 69,  5, 64,  1, 47, 60, 60,\n",
            "        56,  7,  1, 31, 54, 51, 50,  1, 12,  8,  9,  8,  0, 22, 53, 46, 61, 65,\n",
            "        50, 63,  1, 64, 50, 67, 50, 59,  1, 60, 59,  1, 52, 60, 46, 57, 64,  1,\n",
            "        54, 64,  1, 58, 70,  1, 51, 46, 67, 60, 63, 54, 65, 50,  8,  0, 28, 65,\n",
            "         5, 64,  1, 63, 50, 46, 57, 57, 70,  1])\n"
          ]
        }
      ]
    },
    {
      "cell_type": "code",
      "source": [
        "# Let's now split up the data into train and validation sets\n",
        "n = int(0.9*len(data)) # first 90% will be train, rest val\n",
        "train_data = data[:n]\n",
        "val_data = data[n:]"
      ],
      "metadata": {
        "id": "f_WIXqxz0lU5"
      },
      "execution_count": 7,
      "outputs": []
    },
    {
      "cell_type": "code",
      "source": [
        "block_size = 8\n",
        "train_data[:block_size+1]"
      ],
      "metadata": {
        "colab": {
          "base_uri": "https://localhost:8080/"
        },
        "id": "TD5Bj8Y6IAD4",
        "outputId": "a6f3f80c-80b7-4135-efea-8a4f3cd8318c"
      },
      "execution_count": 8,
      "outputs": [
        {
          "output_type": "execute_result",
          "data": {
            "text/plain": [
              "tensor([20, 64,  1, 61, 46, 63, 65,  1, 60])"
            ]
          },
          "metadata": {},
          "execution_count": 8
        }
      ]
    },
    {
      "cell_type": "code",
      "source": [
        "x = train_data[:block_size]\n",
        "y = train_data[1:block_size+1]\n",
        "for t in range(block_size):\n",
        "    context = x[:t+1]\n",
        "    target = y[t]\n",
        "    print(f\"when input is {context} the target: {target}\")"
      ],
      "metadata": {
        "colab": {
          "base_uri": "https://localhost:8080/"
        },
        "id": "9HXDe8vGJCEn",
        "outputId": "edb21624-5b62-4ec5-beb3-948cfa3ef68d"
      },
      "execution_count": 9,
      "outputs": [
        {
          "output_type": "stream",
          "name": "stdout",
          "text": [
            "when input is tensor([20]) the target: 64\n",
            "when input is tensor([20, 64]) the target: 1\n",
            "when input is tensor([20, 64,  1]) the target: 61\n",
            "when input is tensor([20, 64,  1, 61]) the target: 46\n",
            "when input is tensor([20, 64,  1, 61, 46]) the target: 63\n",
            "when input is tensor([20, 64,  1, 61, 46, 63]) the target: 65\n",
            "when input is tensor([20, 64,  1, 61, 46, 63, 65]) the target: 1\n",
            "when input is tensor([20, 64,  1, 61, 46, 63, 65,  1]) the target: 60\n"
          ]
        }
      ]
    },
    {
      "cell_type": "code",
      "source": [
        "torch.manual_seed(1337)\n",
        "batch_size = 4 # how many independent sequences will we process in parallel?\n",
        "block_size = 8 # what is the maximum context length for predictions?\n",
        "\n",
        "def get_batch(split):\n",
        "    # generate a small batch of data of inputs x and targets y\n",
        "    data = train_data if split == 'train' else val_data\n",
        "    ix = torch.randint(len(data) - block_size, (batch_size,))\n",
        "    x = torch.stack([data[i:i+block_size] for i in ix])\n",
        "    y = torch.stack([data[i+1:i+block_size+1] for i in ix])\n",
        "    return x, y\n",
        "\n",
        "xb, yb = get_batch('train')\n",
        "print('inputs:')\n",
        "print(xb.shape)\n",
        "print(xb)\n",
        "print('targets:')\n",
        "print(yb.shape)\n",
        "print(yb)\n",
        "\n",
        "print('----')\n",
        "\n",
        "for b in range(batch_size): # batch dimension\n",
        "    for t in range(block_size): # time dimension\n",
        "        context = xb[b, :t+1]\n",
        "        target = yb[b,t]\n",
        "        print(f\"when input is {context.tolist()} the target: {target}\")"
      ],
      "metadata": {
        "colab": {
          "base_uri": "https://localhost:8080/"
        },
        "id": "Q3k1Czf7LuA9",
        "outputId": "ceb7ac72-a421-4e0a-a8f0-530d21c00acd"
      },
      "execution_count": 10,
      "outputs": [
        {
          "output_type": "stream",
          "name": "stdout",
          "text": [
            "inputs:\n",
            "torch.Size([4, 8])\n",
            "tensor([[46, 58, 50,  0, 47, 50, 46, 66],\n",
            "        [46, 65,  1, 70, 60, 66,  1, 58],\n",
            "        [63,  1, 61, 50, 60, 61, 57, 50],\n",
            "        [ 1, 57, 54, 65, 50, 63, 46, 65]])\n",
            "targets:\n",
            "torch.Size([4, 8])\n",
            "tensor([[58, 50,  0, 47, 50, 46, 66, 65],\n",
            "        [65,  1, 70, 60, 66,  1, 58, 54],\n",
            "        [ 1, 61, 50, 60, 61, 57, 50,  1],\n",
            "        [57, 54, 65, 50, 63, 46, 65, 66]])\n",
            "----\n",
            "when input is [46] the target: 58\n",
            "when input is [46, 58] the target: 50\n",
            "when input is [46, 58, 50] the target: 0\n",
            "when input is [46, 58, 50, 0] the target: 47\n",
            "when input is [46, 58, 50, 0, 47] the target: 50\n",
            "when input is [46, 58, 50, 0, 47, 50] the target: 46\n",
            "when input is [46, 58, 50, 0, 47, 50, 46] the target: 66\n",
            "when input is [46, 58, 50, 0, 47, 50, 46, 66] the target: 65\n",
            "when input is [46] the target: 65\n",
            "when input is [46, 65] the target: 1\n",
            "when input is [46, 65, 1] the target: 70\n",
            "when input is [46, 65, 1, 70] the target: 60\n",
            "when input is [46, 65, 1, 70, 60] the target: 66\n",
            "when input is [46, 65, 1, 70, 60, 66] the target: 1\n",
            "when input is [46, 65, 1, 70, 60, 66, 1] the target: 58\n",
            "when input is [46, 65, 1, 70, 60, 66, 1, 58] the target: 54\n",
            "when input is [63] the target: 1\n",
            "when input is [63, 1] the target: 61\n",
            "when input is [63, 1, 61] the target: 50\n",
            "when input is [63, 1, 61, 50] the target: 60\n",
            "when input is [63, 1, 61, 50, 60] the target: 61\n",
            "when input is [63, 1, 61, 50, 60, 61] the target: 57\n",
            "when input is [63, 1, 61, 50, 60, 61, 57] the target: 50\n",
            "when input is [63, 1, 61, 50, 60, 61, 57, 50] the target: 1\n",
            "when input is [1] the target: 57\n",
            "when input is [1, 57] the target: 54\n",
            "when input is [1, 57, 54] the target: 65\n",
            "when input is [1, 57, 54, 65] the target: 50\n",
            "when input is [1, 57, 54, 65, 50] the target: 63\n",
            "when input is [1, 57, 54, 65, 50, 63] the target: 46\n",
            "when input is [1, 57, 54, 65, 50, 63, 46] the target: 65\n",
            "when input is [1, 57, 54, 65, 50, 63, 46, 65] the target: 66\n"
          ]
        }
      ]
    },
    {
      "cell_type": "code",
      "source": [
        "print(xb) # our input to the transformer"
      ],
      "metadata": {
        "colab": {
          "base_uri": "https://localhost:8080/"
        },
        "id": "qpyyAeIzQjlO",
        "outputId": "bf0d59a1-d6ee-4402-a73c-ce9ef5b74c07"
      },
      "execution_count": 11,
      "outputs": [
        {
          "output_type": "stream",
          "name": "stdout",
          "text": [
            "tensor([[46, 58, 50,  0, 47, 50, 46, 66],\n",
            "        [46, 65,  1, 70, 60, 66,  1, 58],\n",
            "        [63,  1, 61, 50, 60, 61, 57, 50],\n",
            "        [ 1, 57, 54, 65, 50, 63, 46, 65]])\n"
          ]
        }
      ]
    },
    {
      "cell_type": "code",
      "source": [
        "import torch\n",
        "import torch.nn as nn\n",
        "from torch.nn import functional as F\n",
        "torch.manual_seed(1337)\n",
        "\n",
        "class BigramLanguageModel(nn.Module):\n",
        "\n",
        "    def __init__(self, vocab_size):\n",
        "        super().__init__()\n",
        "        # each token directly reads off the logits for the next token from a lookup table\n",
        "        self.token_embedding_table = nn.Embedding(vocab_size, vocab_size)\n",
        "\n",
        "    def forward(self, idx, targets=None):\n",
        "\n",
        "        # idx and targets are both (B,T) tensor of integers\n",
        "        logits = self.token_embedding_table(idx) # (B,T,C)\n",
        "        \n",
        "        if targets is None:\n",
        "            loss = None\n",
        "        else:\n",
        "            B, T, C = logits.shape\n",
        "            logits = logits.view(B*T, C)\n",
        "            targets = targets.view(B*T)\n",
        "            loss = F.cross_entropy(logits, targets)\n",
        "\n",
        "        return logits, loss\n",
        "    \n",
        "    def generate(self, idx, max_new_tokens):\n",
        "        # idx is (B, T) array of indices in the current context\n",
        "        for _ in range(max_new_tokens):\n",
        "            # get the predictions\n",
        "            logits, loss = self(idx)\n",
        "            # focus only on the last time step\n",
        "            logits = logits[:, -1, :] # becomes (B, C)\n",
        "            # apply softmax to get probabilities\n",
        "            probs = F.softmax(logits, dim=-1) # (B, C)\n",
        "            # sample from the distribution\n",
        "            idx_next = torch.multinomial(probs, num_samples=1) # (B, 1)\n",
        "            # append sampled index to the running sequence\n",
        "            idx = torch.cat((idx, idx_next), dim=1) # (B, T+1)\n",
        "        return idx\n",
        "\n",
        "m = BigramLanguageModel(vocab_size)\n",
        "logits, loss = m(xb, yb)\n",
        "print(logits.shape)\n",
        "print(loss)\n",
        "\n",
        "print(decode(m.generate(idx = torch.zeros((1, 1), dtype=torch.long), max_new_tokens=100)[0].tolist()))\n"
      ],
      "metadata": {
        "colab": {
          "base_uri": "https://localhost:8080/"
        },
        "id": "nql_1ER53oCf",
        "outputId": "add0f108-8fc6-4d12-9483-24fee2e842f3"
      },
      "execution_count": 12,
      "outputs": [
        {
          "output_type": "stream",
          "name": "stdout",
          "text": [
            "torch.Size([32, 76])\n",
            "tensor(4.7052, grad_fn=<NllLossBackward0>)\n",
            "\n",
            "6dZ2NJ&jWoOfzFNOxAZLD,\n",
            "LOBEgaeedKryx…j&PzBVdUDweY&'oOU,févNqwSg.BtqAsRoU4n6Yxeg3fö9bwv5YD+8Erug6wVC,\n"
          ]
        }
      ]
    },
    {
      "cell_type": "code",
      "source": [
        "# create a PyTorch optimizer\n",
        "optimizer = torch.optim.AdamW(m.parameters(), lr=1e-3)"
      ],
      "metadata": {
        "id": "eTyJ8qAaDdiF"
      },
      "execution_count": 13,
      "outputs": []
    },
    {
      "cell_type": "code",
      "source": [
        "batch_size = 32\n",
        "for steps in range(100): # increase number of steps for good results... \n",
        "    \n",
        "    # sample a batch of data\n",
        "    xb, yb = get_batch('train')\n",
        "\n",
        "    # evaluate the loss\n",
        "    logits, loss = m(xb, yb)\n",
        "    optimizer.zero_grad(set_to_none=True)\n",
        "    loss.backward()\n",
        "    optimizer.step()\n",
        "\n",
        "print(loss.item())\n"
      ],
      "metadata": {
        "colab": {
          "base_uri": "https://localhost:8080/"
        },
        "id": "Hs4kI8YdEkQj",
        "outputId": "b602db9f-0dbd-4b1d-8526-12f856c092a4"
      },
      "execution_count": 14,
      "outputs": [
        {
          "output_type": "stream",
          "name": "stdout",
          "text": [
            "4.706178188323975\n"
          ]
        }
      ]
    },
    {
      "cell_type": "code",
      "source": [
        "print(decode(m.generate(idx = torch.zeros((1, 1), dtype=torch.long), max_new_tokens=500)[0].tolist()))"
      ],
      "metadata": {
        "colab": {
          "base_uri": "https://localhost:8080/"
        },
        "id": "EcVIDWAZEtjN",
        "outputId": "22ac730b-feca-4384-aba6-2b1b7d24800c"
      },
      "execution_count": 15,
      "outputs": [
        {
          "output_type": "stream",
          "name": "stdout",
          "text": [
            "\n",
            "oajDb …phizdh+YsRXcOXHv q.l,zXHj&?MBJ5 zI8aHV1.eyPJOai8?cIfzAYKiv9$f1J1qU,&T…öNZézPM–e'he45eco2'.lSj$xlMlyvqjZCx'eIsf%K?OIXBPWxlcGbzsHzo2 lxl6RXVNHT4p\n",
            "PxJjAp,öC&7jcjDbmDl8W6&?0I925y…jtBkUWYSv.lOööL–Y…jqZT0péxiVvqoyVMoLaöLj'V$pz…jdjZkVr'BrU6'+HG7ZLbbD2XxstH%3öCX%+5C9T71p0B?Gk2eWq%Wcz%+hF8SgGöTöYIrEneYyxl%BVHIDF8Cg.lcpY0pz4ve%Hj5edxAi2tW x8jX$kU?B?tVd6YbifBVx?éN1éqOR Ezhö59y,\n",
            "iRJIXBVY0oL1O&?aoLfV&OkRfyNJs7RxK.BYY––tSöézo40Yh wGyEZ6OwN%5pb1S.ksQZM3fzy,MMtS2520Br.OQé9e\n",
            "Ru%es…?Wf…X2$27j1e+gA6PNEZl–Jx\n"
          ]
        }
      ]
    },
    {
      "cell_type": "markdown",
      "source": [
        "## The mathematical trick in self-attention"
      ],
      "metadata": {
        "id": "XinV8nmAnmKN"
      }
    },
    {
      "cell_type": "code",
      "source": [
        "# toy example illustrating how matrix multiplication can be used for a \"weighted aggregation\"\n",
        "torch.manual_seed(42)\n",
        "a = torch.tril(torch.ones(3, 3))\n",
        "a = a / torch.sum(a, 1, keepdim=True)\n",
        "b = torch.randint(0,10,(3,2)).float()\n",
        "c = a @ b\n",
        "print('a=')\n",
        "print(a)\n",
        "print('--')\n",
        "print('b=')\n",
        "print(b)\n",
        "print('--')\n",
        "print('c=')\n",
        "print(c)"
      ],
      "metadata": {
        "colab": {
          "base_uri": "https://localhost:8080/"
        },
        "id": "tukiH-NbRBhA",
        "outputId": "0e8a4672-7d4a-4bab-9963-f167fbe80aa5"
      },
      "execution_count": 16,
      "outputs": [
        {
          "output_type": "stream",
          "name": "stdout",
          "text": [
            "a=\n",
            "tensor([[1.0000, 0.0000, 0.0000],\n",
            "        [0.5000, 0.5000, 0.0000],\n",
            "        [0.3333, 0.3333, 0.3333]])\n",
            "--\n",
            "b=\n",
            "tensor([[2., 7.],\n",
            "        [6., 4.],\n",
            "        [6., 5.]])\n",
            "--\n",
            "c=\n",
            "tensor([[2.0000, 7.0000],\n",
            "        [4.0000, 5.5000],\n",
            "        [4.6667, 5.3333]])\n"
          ]
        }
      ]
    },
    {
      "cell_type": "code",
      "source": [
        "# consider the following toy example:\n",
        "\n",
        "torch.manual_seed(1337)\n",
        "B,T,C = 4,8,2 # batch, time, channels\n",
        "x = torch.randn(B,T,C)\n",
        "x.shape"
      ],
      "metadata": {
        "colab": {
          "base_uri": "https://localhost:8080/"
        },
        "id": "Hs_E24uRE8kr",
        "outputId": "04f35174-e496-487b-8fa6-2a15365b7b53"
      },
      "execution_count": 17,
      "outputs": [
        {
          "output_type": "execute_result",
          "data": {
            "text/plain": [
              "torch.Size([4, 8, 2])"
            ]
          },
          "metadata": {},
          "execution_count": 17
        }
      ]
    },
    {
      "cell_type": "code",
      "source": [
        "# We want x[b,t] = mean_{i<=t} x[b,i]\n",
        "xbow = torch.zeros((B,T,C))\n",
        "for b in range(B):\n",
        "    for t in range(T):\n",
        "        xprev = x[b,:t+1] # (t,C)\n",
        "        xbow[b,t] = torch.mean(xprev, 0)\n"
      ],
      "metadata": {
        "id": "86NuXX0fn7ps"
      },
      "execution_count": 18,
      "outputs": []
    },
    {
      "cell_type": "code",
      "source": [
        "# version 2: using matrix multiply for a weighted aggregation\n",
        "wei = torch.tril(torch.ones(T, T))\n",
        "wei = wei / wei.sum(1, keepdim=True)\n",
        "xbow2 = wei @ x # (B, T, T) @ (B, T, C) ----> (B, T, C)\n",
        "torch.allclose(xbow, xbow2)"
      ],
      "metadata": {
        "colab": {
          "base_uri": "https://localhost:8080/"
        },
        "id": "yhdOAd6-wXkZ",
        "outputId": "e89212bd-3c64-4153-9ff1-791bc2a1afcb"
      },
      "execution_count": 19,
      "outputs": [
        {
          "output_type": "execute_result",
          "data": {
            "text/plain": [
              "True"
            ]
          },
          "metadata": {},
          "execution_count": 19
        }
      ]
    },
    {
      "cell_type": "code",
      "source": [
        "# version 3: use Softmax\n",
        "tril = torch.tril(torch.ones(T, T))\n",
        "wei = torch.zeros((T,T))\n",
        "wei = wei.masked_fill(tril == 0, float('-inf'))\n",
        "wei = F.softmax(wei, dim=-1)\n",
        "xbow3 = wei @ x\n",
        "torch.allclose(xbow, xbow3)\n"
      ],
      "metadata": {
        "colab": {
          "base_uri": "https://localhost:8080/"
        },
        "id": "wOURrfG-ysoL",
        "outputId": "2db109e2-6a74-4306-bb7f-eaf5c32c8140"
      },
      "execution_count": 20,
      "outputs": [
        {
          "output_type": "execute_result",
          "data": {
            "text/plain": [
              "True"
            ]
          },
          "metadata": {},
          "execution_count": 20
        }
      ]
    },
    {
      "cell_type": "code",
      "source": [
        "# version 4: self-attention!\n",
        "torch.manual_seed(1337)\n",
        "B,T,C = 4,8,32 # batch, time, channels\n",
        "x = torch.randn(B,T,C)\n",
        "\n",
        "# let's see a single Head perform self-attention\n",
        "head_size = 16\n",
        "key = nn.Linear(C, head_size, bias=False)\n",
        "query = nn.Linear(C, head_size, bias=False)\n",
        "value = nn.Linear(C, head_size, bias=False)\n",
        "k = key(x)   # (B, T, 16)\n",
        "q = query(x) # (B, T, 16)\n",
        "wei =  q @ k.transpose(-2, -1) # (B, T, 16) @ (B, 16, T) ---> (B, T, T)\n",
        "\n",
        "tril = torch.tril(torch.ones(T, T))\n",
        "#wei = torch.zeros((T,T))\n",
        "wei = wei.masked_fill(tril == 0, float('-inf'))\n",
        "wei = F.softmax(wei, dim=-1)\n",
        "\n",
        "v = value(x)\n",
        "out = wei @ v\n",
        "#out = wei @ x\n",
        "\n",
        "out.shape"
      ],
      "metadata": {
        "colab": {
          "base_uri": "https://localhost:8080/"
        },
        "id": "EDarxEWIRMKq",
        "outputId": "5c1a97b0-1879-4fa1-a8c0-c5199195a859"
      },
      "execution_count": 21,
      "outputs": [
        {
          "output_type": "execute_result",
          "data": {
            "text/plain": [
              "torch.Size([4, 8, 16])"
            ]
          },
          "metadata": {},
          "execution_count": 21
        }
      ]
    },
    {
      "cell_type": "code",
      "source": [
        "wei[0]"
      ],
      "metadata": {
        "colab": {
          "base_uri": "https://localhost:8080/"
        },
        "id": "vT1hdtzXCjgL",
        "outputId": "7e4ea021-4d88-41c7-9dfd-d8d1844f028a"
      },
      "execution_count": 22,
      "outputs": [
        {
          "output_type": "execute_result",
          "data": {
            "text/plain": [
              "tensor([[1.0000, 0.0000, 0.0000, 0.0000, 0.0000, 0.0000, 0.0000, 0.0000],\n",
              "        [0.1574, 0.8426, 0.0000, 0.0000, 0.0000, 0.0000, 0.0000, 0.0000],\n",
              "        [0.2088, 0.1646, 0.6266, 0.0000, 0.0000, 0.0000, 0.0000, 0.0000],\n",
              "        [0.5792, 0.1187, 0.1889, 0.1131, 0.0000, 0.0000, 0.0000, 0.0000],\n",
              "        [0.0294, 0.1052, 0.0469, 0.0276, 0.7909, 0.0000, 0.0000, 0.0000],\n",
              "        [0.0176, 0.2689, 0.0215, 0.0089, 0.6812, 0.0019, 0.0000, 0.0000],\n",
              "        [0.1691, 0.4066, 0.0438, 0.0416, 0.1048, 0.2012, 0.0329, 0.0000],\n",
              "        [0.0210, 0.0843, 0.0555, 0.2297, 0.0573, 0.0709, 0.2423, 0.2391]],\n",
              "       grad_fn=<SelectBackward0>)"
            ]
          },
          "metadata": {},
          "execution_count": 22
        }
      ]
    },
    {
      "cell_type": "markdown",
      "source": [
        "Notes:\n",
        "- Attention is a **communication mechanism**. Can be seen as nodes in a directed graph looking at each other and aggregating information with a weighted sum from all nodes that point to them, with data-dependent weights.\n",
        "- There is no notion of space. Attention simply acts over a set of vectors. This is why we need to positionally encode tokens.\n",
        "- Each example across batch dimension is of course processed completely independently and never \"talk\" to each other\n",
        "- In an \"encoder\" attention block just delete the single line that does masking with `tril`, allowing all tokens to communicate. This block here is called a \"decoder\" attention block because it has triangular masking, and is usually used in autoregressive settings, like language modeling.\n",
        "- \"self-attention\" just means that the keys and values are produced from the same source as queries. In \"cross-attention\", the queries still get produced from x, but the keys and values come from some other, external source (e.g. an encoder module)\n",
        "- \"Scaled\" attention additional divides `wei` by 1/sqrt(head_size). This makes it so when input Q,K are unit variance, wei will be unit variance too and Softmax will stay diffuse and not saturate too much. Illustration below"
      ],
      "metadata": {
        "id": "M5CvobiQ0pLr"
      }
    },
    {
      "cell_type": "code",
      "source": [
        "k = torch.randn(B,T,head_size)\n",
        "q = torch.randn(B,T,head_size)\n",
        "wei = q @ k.transpose(-2, -1) * head_size**-0.5"
      ],
      "metadata": {
        "id": "4SNbLq5z3oBw"
      },
      "execution_count": 23,
      "outputs": []
    },
    {
      "cell_type": "code",
      "source": [
        "k.var()"
      ],
      "metadata": {
        "colab": {
          "base_uri": "https://localhost:8080/"
        },
        "id": "Nl6I9n9IRTSo",
        "outputId": "dcbe5290-94fb-49c8-c822-3f52187e0808"
      },
      "execution_count": 24,
      "outputs": [
        {
          "output_type": "execute_result",
          "data": {
            "text/plain": [
              "tensor(1.0449)"
            ]
          },
          "metadata": {},
          "execution_count": 24
        }
      ]
    },
    {
      "cell_type": "code",
      "source": [
        "q.var()"
      ],
      "metadata": {
        "colab": {
          "base_uri": "https://localhost:8080/"
        },
        "id": "T1tQx7oeRvtc",
        "outputId": "911524fe-0c88-42ec-e619-7b3b6cd9fcd1"
      },
      "execution_count": 25,
      "outputs": [
        {
          "output_type": "execute_result",
          "data": {
            "text/plain": [
              "tensor(1.0700)"
            ]
          },
          "metadata": {},
          "execution_count": 25
        }
      ]
    },
    {
      "cell_type": "code",
      "source": [
        "wei.var()"
      ],
      "metadata": {
        "colab": {
          "base_uri": "https://localhost:8080/"
        },
        "id": "MLb_odHU3iKM",
        "outputId": "1a2cee1f-6aec-4908-a9c6-d8a3a0f2f7cb"
      },
      "execution_count": 26,
      "outputs": [
        {
          "output_type": "execute_result",
          "data": {
            "text/plain": [
              "tensor(1.0918)"
            ]
          },
          "metadata": {},
          "execution_count": 26
        }
      ]
    },
    {
      "cell_type": "code",
      "source": [
        "torch.softmax(torch.tensor([0.1, -0.2, 0.3, -0.2, 0.5]), dim=-1)"
      ],
      "metadata": {
        "colab": {
          "base_uri": "https://localhost:8080/"
        },
        "id": "JB82yzt44REI",
        "outputId": "ccc2e3c0-94b7-4acd-9d4b-08785a60cdc1"
      },
      "execution_count": 27,
      "outputs": [
        {
          "output_type": "execute_result",
          "data": {
            "text/plain": [
              "tensor([0.1925, 0.1426, 0.2351, 0.1426, 0.2872])"
            ]
          },
          "metadata": {},
          "execution_count": 27
        }
      ]
    },
    {
      "cell_type": "code",
      "source": [
        "torch.softmax(torch.tensor([0.1, -0.2, 0.3, -0.2, 0.5])*8, dim=-1) # gets too peaky, converges to one-hot"
      ],
      "metadata": {
        "colab": {
          "base_uri": "https://localhost:8080/"
        },
        "id": "Mpt8569BB9_f",
        "outputId": "7002b493-a57e-4c49-e9f9-bff78b30de78"
      },
      "execution_count": 28,
      "outputs": [
        {
          "output_type": "execute_result",
          "data": {
            "text/plain": [
              "tensor([0.0326, 0.0030, 0.1615, 0.0030, 0.8000])"
            ]
          },
          "metadata": {},
          "execution_count": 28
        }
      ]
    },
    {
      "cell_type": "code",
      "source": [
        "class LayerNorm1d: # (used to be BatchNorm1d)\n",
        "  \n",
        "  def __init__(self, dim, eps=1e-5, momentum=0.1):\n",
        "    self.eps = eps\n",
        "    self.gamma = torch.ones(dim)\n",
        "    self.beta = torch.zeros(dim)\n",
        "  \n",
        "  def __call__(self, x):\n",
        "    # calculate the forward pass\n",
        "    xmean = x.mean(1, keepdim=True) # batch mean\n",
        "    xvar = x.var(1, keepdim=True) # batch variance\n",
        "    xhat = (x - xmean) / torch.sqrt(xvar + self.eps) # normalize to unit variance\n",
        "    self.out = self.gamma * xhat + self.beta\n",
        "    return self.out\n",
        "  \n",
        "  def parameters(self):\n",
        "    return [self.gamma, self.beta]\n",
        "\n",
        "torch.manual_seed(1337)\n",
        "module = LayerNorm1d(100)\n",
        "x = torch.randn(32, 100) # batch size 32 of 100-dimensional vectors\n",
        "x = module(x)\n",
        "x.shape"
      ],
      "metadata": {
        "colab": {
          "base_uri": "https://localhost:8080/"
        },
        "id": "2Num7sX9CKOH",
        "outputId": "3bed159b-3209-482b-bd66-67c39f21aa10"
      },
      "execution_count": 29,
      "outputs": [
        {
          "output_type": "execute_result",
          "data": {
            "text/plain": [
              "torch.Size([32, 100])"
            ]
          },
          "metadata": {},
          "execution_count": 29
        }
      ]
    },
    {
      "cell_type": "code",
      "source": [
        "x[:,0].mean(), x[:,0].std() # mean,std of one feature across all batch inputs"
      ],
      "metadata": {
        "colab": {
          "base_uri": "https://localhost:8080/"
        },
        "id": "633T2cmnW1uk",
        "outputId": "9ae1763e-0352-487b-ba08-035c505a923b"
      },
      "execution_count": 30,
      "outputs": [
        {
          "output_type": "execute_result",
          "data": {
            "text/plain": [
              "(tensor(0.1469), tensor(0.8803))"
            ]
          },
          "metadata": {},
          "execution_count": 30
        }
      ]
    },
    {
      "cell_type": "code",
      "source": [
        "x[0,:].mean(), x[0,:].std() # mean,std of a single input from the batch, of its features"
      ],
      "metadata": {
        "colab": {
          "base_uri": "https://localhost:8080/"
        },
        "id": "LN9cK9BoXCYb",
        "outputId": "2c2e8a14-60c2-47d3-905f-d475fc555362"
      },
      "execution_count": 31,
      "outputs": [
        {
          "output_type": "execute_result",
          "data": {
            "text/plain": [
              "(tensor(-9.5367e-09), tensor(1.0000))"
            ]
          },
          "metadata": {},
          "execution_count": 31
        }
      ]
    },
    {
      "cell_type": "code",
      "source": [
        "# French to English translation example:\n",
        "\n",
        "# <--------- ENCODE ------------------><--------------- DECODE ----------------->\n",
        "# les réseaux de neurones sont géniaux! <START> neural networks are awesome!<END>\n",
        "\n"
      ],
      "metadata": {
        "id": "dRJH6wM_XFfU"
      },
      "execution_count": 32,
      "outputs": []
    },
    {
      "cell_type": "markdown",
      "source": [
        "### Full finished code, for reference\n",
        "\n",
        "You may want to refer directly to the git repo instead though."
      ],
      "metadata": {
        "id": "ZcvKeBXoZFOY"
      }
    },
    {
      "cell_type": "code",
      "source": [
        "import torch\n",
        "import torch.nn as nn\n",
        "from torch.nn import functional as F\n",
        "\n",
        "# hyperparameters\n",
        "batch_size = 16 # how many independent sequences will we process in parallel?\n",
        "block_size = 32 # what is the maximum context length for predictions?\n",
        "max_iters = 5000\n",
        "eval_interval = 100\n",
        "learning_rate = 1e-3\n",
        "device = 'cuda' if torch.cuda.is_available() else 'cpu'\n",
        "eval_iters = 200\n",
        "n_embd = 64\n",
        "n_head = 4\n",
        "n_layer = 4\n",
        "dropout = 0.0\n",
        "# ------------\n",
        "\n",
        "torch.manual_seed(1337)\n",
        "\n",
        "# wget https://raw.githubusercontent.com/karpathy/char-rnn/master/data/tinyshakespeare/input.txt\n",
        "with open('input.txt', 'r', encoding='utf-8') as f:\n",
        "    text = f.read()\n",
        "\n",
        "# here are all the unique characters that occur in this text\n",
        "chars = sorted(list(set(text)))\n",
        "vocab_size = len(chars)\n",
        "# create a mapping from characters to integers\n",
        "stoi = { ch:i for i,ch in enumerate(chars) }\n",
        "itos = { i:ch for i,ch in enumerate(chars) }\n",
        "encode = lambda s: [stoi[c] for c in s] # encoder: take a string, output a list of integers\n",
        "decode = lambda l: ''.join([itos[i] for i in l]) # decoder: take a list of integers, output a string\n",
        "\n",
        "# Train and test splits\n",
        "data = torch.tensor(encode(text), dtype=torch.long)\n",
        "n = int(0.9*len(data)) # first 90% will be train, rest val\n",
        "train_data = data[:n]\n",
        "val_data = data[n:]\n",
        "\n",
        "# data loading\n",
        "def get_batch(split):\n",
        "    # generate a small batch of data of inputs x and targets y\n",
        "    data = train_data if split == 'train' else val_data\n",
        "    ix = torch.randint(len(data) - block_size, (batch_size,))\n",
        "    x = torch.stack([data[i:i+block_size] for i in ix])\n",
        "    y = torch.stack([data[i+1:i+block_size+1] for i in ix])\n",
        "    x, y = x.to(device), y.to(device)\n",
        "    return x, y\n",
        "\n",
        "@torch.no_grad()\n",
        "def estimate_loss():\n",
        "    out = {}\n",
        "    model.eval()\n",
        "    for split in ['train', 'val']:\n",
        "        losses = torch.zeros(eval_iters)\n",
        "        for k in range(eval_iters):\n",
        "            X, Y = get_batch(split)\n",
        "            logits, loss = model(X, Y)\n",
        "            losses[k] = loss.item()\n",
        "        out[split] = losses.mean()\n",
        "    model.train()\n",
        "    return out\n",
        "\n",
        "class Head(nn.Module):\n",
        "    \"\"\" one head of self-attention \"\"\"\n",
        "\n",
        "    def __init__(self, head_size):\n",
        "        super().__init__()\n",
        "        self.key = nn.Linear(n_embd, head_size, bias=False)\n",
        "        self.query = nn.Linear(n_embd, head_size, bias=False)\n",
        "        self.value = nn.Linear(n_embd, head_size, bias=False)\n",
        "        self.register_buffer('tril', torch.tril(torch.ones(block_size, block_size)))\n",
        "\n",
        "        self.dropout = nn.Dropout(dropout)\n",
        "\n",
        "    def forward(self, x):\n",
        "        B,T,C = x.shape\n",
        "        k = self.key(x)   # (B,T,C)\n",
        "        q = self.query(x) # (B,T,C)\n",
        "        # compute attention scores (\"affinities\")\n",
        "        wei = q @ k.transpose(-2,-1) * C**-0.5 # (B, T, C) @ (B, C, T) -> (B, T, T)\n",
        "        wei = wei.masked_fill(self.tril[:T, :T] == 0, float('-inf')) # (B, T, T)\n",
        "        wei = F.softmax(wei, dim=-1) # (B, T, T)\n",
        "        wei = self.dropout(wei)\n",
        "        # perform the weighted aggregation of the values\n",
        "        v = self.value(x) # (B,T,C)\n",
        "        out = wei @ v # (B, T, T) @ (B, T, C) -> (B, T, C)\n",
        "        return out\n",
        "\n",
        "class MultiHeadAttention(nn.Module):\n",
        "    \"\"\" multiple heads of self-attention in parallel \"\"\"\n",
        "\n",
        "    def __init__(self, num_heads, head_size):\n",
        "        super().__init__()\n",
        "        self.heads = nn.ModuleList([Head(head_size) for _ in range(num_heads)])\n",
        "        self.proj = nn.Linear(n_embd, n_embd)\n",
        "        self.dropout = nn.Dropout(dropout)\n",
        "\n",
        "    def forward(self, x):\n",
        "        out = torch.cat([h(x) for h in self.heads], dim=-1)\n",
        "        out = self.dropout(self.proj(out))\n",
        "        return out\n",
        "\n",
        "class FeedFoward(nn.Module):\n",
        "    \"\"\" a simple linear layer followed by a non-linearity \"\"\"\n",
        "\n",
        "    def __init__(self, n_embd):\n",
        "        super().__init__()\n",
        "        self.net = nn.Sequential(\n",
        "            nn.Linear(n_embd, 4 * n_embd),\n",
        "            nn.ReLU(),\n",
        "            nn.Linear(4 * n_embd, n_embd),\n",
        "            nn.Dropout(dropout),\n",
        "        )\n",
        "\n",
        "    def forward(self, x):\n",
        "        return self.net(x)\n",
        "\n",
        "class Block(nn.Module):\n",
        "    \"\"\" Transformer block: communication followed by computation \"\"\"\n",
        "\n",
        "    def __init__(self, n_embd, n_head):\n",
        "        # n_embd: embedding dimension, n_head: the number of heads we'd like\n",
        "        super().__init__()\n",
        "        head_size = n_embd // n_head\n",
        "        self.sa = MultiHeadAttention(n_head, head_size)\n",
        "        self.ffwd = FeedFoward(n_embd)\n",
        "        self.ln1 = nn.LayerNorm(n_embd)\n",
        "        self.ln2 = nn.LayerNorm(n_embd)\n",
        "\n",
        "    def forward(self, x):\n",
        "        x = x + self.sa(self.ln1(x))\n",
        "        x = x + self.ffwd(self.ln2(x))\n",
        "        return x\n",
        "\n",
        "# super simple bigram model\n",
        "class BigramLanguageModel(nn.Module):\n",
        "\n",
        "    def __init__(self):\n",
        "        super().__init__()\n",
        "        # each token directly reads off the logits for the next token from a lookup table\n",
        "        self.token_embedding_table = nn.Embedding(vocab_size, n_embd)\n",
        "        self.position_embedding_table = nn.Embedding(block_size, n_embd)\n",
        "        self.blocks = nn.Sequential(*[Block(n_embd, n_head=n_head) for _ in range(n_layer)])\n",
        "        self.ln_f = nn.LayerNorm(n_embd) # final layer norm\n",
        "        self.lm_head = nn.Linear(n_embd, vocab_size)\n",
        "\n",
        "    def forward(self, idx, targets=None):\n",
        "        B, T = idx.shape\n",
        "\n",
        "        # idx and targets are both (B,T) tensor of integers\n",
        "        tok_emb = self.token_embedding_table(idx) # (B,T,C)\n",
        "        pos_emb = self.position_embedding_table(torch.arange(T, device=device)) # (T,C)\n",
        "        x = tok_emb + pos_emb # (B,T,C)\n",
        "        x = self.blocks(x) # (B,T,C)\n",
        "        x = self.ln_f(x) # (B,T,C)\n",
        "        logits = self.lm_head(x) # (B,T,vocab_size)\n",
        "\n",
        "        if targets is None:\n",
        "            loss = None\n",
        "        else:\n",
        "            B, T, C = logits.shape\n",
        "            logits = logits.view(B*T, C)\n",
        "            targets = targets.view(B*T)\n",
        "            loss = F.cross_entropy(logits, targets)\n",
        "\n",
        "        return logits, loss\n",
        "\n",
        "    def generate(self, idx, max_new_tokens):\n",
        "        # idx is (B, T) array of indices in the current context\n",
        "        for _ in range(max_new_tokens):\n",
        "            # crop idx to the last block_size tokens\n",
        "            idx_cond = idx[:, -block_size:]\n",
        "            # get the predictions\n",
        "            logits, loss = self(idx_cond)\n",
        "            # focus only on the last time step\n",
        "            logits = logits[:, -1, :] # becomes (B, C)\n",
        "            # apply softmax to get probabilities\n",
        "            probs = F.softmax(logits, dim=-1) # (B, C)\n",
        "            # sample from the distribution\n",
        "            idx_next = torch.multinomial(probs, num_samples=1) # (B, 1)\n",
        "            # append sampled index to the running sequence\n",
        "            idx = torch.cat((idx, idx_next), dim=1) # (B, T+1)\n",
        "        return idx\n",
        "\n",
        "model = BigramLanguageModel()\n",
        "m = model.to(device)\n",
        "# print the number of parameters in the model\n",
        "print(sum(p.numel() for p in m.parameters())/1e6, 'M parameters')\n",
        "\n",
        "# create a PyTorch optimizer\n",
        "optimizer = torch.optim.AdamW(model.parameters(), lr=learning_rate)\n",
        "\n",
        "for iter in range(max_iters):\n",
        "\n",
        "    # every once in a while evaluate the loss on train and val sets\n",
        "    if iter % eval_interval == 0 or iter == max_iters - 1:\n",
        "        losses = estimate_loss()\n",
        "        print(f\"step {iter}: train loss {losses['train']:.4f}, val loss {losses['val']:.4f}\")\n",
        "\n",
        "    # sample a batch of data\n",
        "    xb, yb = get_batch('train')\n",
        "\n",
        "    # evaluate the loss\n",
        "    logits, loss = model(xb, yb)\n",
        "    optimizer.zero_grad(set_to_none=True)\n",
        "    loss.backward()\n",
        "    optimizer.step()\n",
        "\n",
        "# generate from the model\n",
        "context = torch.zeros((1, 1), dtype=torch.long, device=device)\n",
        "print(decode(m.generate(context, max_new_tokens=2000)[0].tolist()))\n"
      ],
      "metadata": {
        "colab": {
          "base_uri": "https://localhost:8080/"
        },
        "id": "hoelkOrFY8bN",
        "outputId": "91006b17-6874-42b9-f37e-b989b57bce50"
      },
      "execution_count": 33,
      "outputs": [
        {
          "output_type": "stream",
          "name": "stdout",
          "text": [
            "0.211148 M parameters\n",
            "step 0: train loss 4.5327, val loss 4.5323\n",
            "step 100: train loss 2.5735, val loss 2.5740\n",
            "step 200: train loss 2.4569, val loss 2.4490\n",
            "step 300: train loss 2.3375, val loss 2.3442\n",
            "step 400: train loss 2.2428, val loss 2.2284\n",
            "step 500: train loss 2.1488, val loss 2.1518\n",
            "step 600: train loss 2.0861, val loss 2.0801\n",
            "step 700: train loss 2.0093, val loss 2.0039\n",
            "step 800: train loss 1.9684, val loss 1.9547\n",
            "step 900: train loss 1.9003, val loss 1.9104\n",
            "step 1000: train loss 1.8531, val loss 1.8716\n",
            "step 1100: train loss 1.8384, val loss 1.8541\n",
            "step 1200: train loss 1.8098, val loss 1.8221\n",
            "step 1300: train loss 1.7880, val loss 1.7953\n",
            "step 1400: train loss 1.7334, val loss 1.7590\n",
            "step 1500: train loss 1.7285, val loss 1.7540\n",
            "step 1600: train loss 1.6977, val loss 1.7282\n",
            "step 1700: train loss 1.6988, val loss 1.7202\n",
            "step 1800: train loss 1.6694, val loss 1.7010\n",
            "step 1900: train loss 1.6458, val loss 1.6785\n",
            "step 2000: train loss 1.6319, val loss 1.6743\n",
            "step 2100: train loss 1.6345, val loss 1.6733\n",
            "step 2200: train loss 1.6169, val loss 1.6427\n",
            "step 2300: train loss 1.6051, val loss 1.6258\n",
            "step 2400: train loss 1.5934, val loss 1.6262\n",
            "step 2500: train loss 1.5941, val loss 1.6229\n",
            "step 2600: train loss 1.5741, val loss 1.6114\n",
            "step 2700: train loss 1.5618, val loss 1.6023\n",
            "step 2800: train loss 1.5698, val loss 1.6142\n",
            "step 2900: train loss 1.5389, val loss 1.5831\n",
            "step 3000: train loss 1.5391, val loss 1.5712\n",
            "step 3100: train loss 1.5286, val loss 1.5725\n",
            "step 3200: train loss 1.5268, val loss 1.5507\n",
            "step 3300: train loss 1.5222, val loss 1.5655\n",
            "step 3400: train loss 1.5206, val loss 1.5586\n",
            "step 3500: train loss 1.4936, val loss 1.5351\n",
            "step 3600: train loss 1.5011, val loss 1.5368\n",
            "step 3700: train loss 1.4967, val loss 1.5371\n",
            "step 3800: train loss 1.4989, val loss 1.5480\n",
            "step 3900: train loss 1.4813, val loss 1.5132\n",
            "step 4000: train loss 1.4839, val loss 1.5057\n",
            "step 4100: train loss 1.4757, val loss 1.5152\n",
            "step 4200: train loss 1.4702, val loss 1.5118\n",
            "step 4300: train loss 1.4761, val loss 1.4991\n",
            "step 4400: train loss 1.4653, val loss 1.5022\n",
            "step 4500: train loss 1.4661, val loss 1.5101\n",
            "step 4600: train loss 1.4702, val loss 1.4975\n",
            "step 4700: train loss 1.4398, val loss 1.4926\n",
            "step 4800: train loss 1.4298, val loss 1.4935\n",
            "step 4900: train loss 1.4457, val loss 1.4935\n",
            "step 4999: train loss 1.4354, val loss 1.4770\n",
            "\n",
            "And you so fam was a shill,\n",
            "wain or Jovang there too incomplexs of any sovietive,\n",
            "It I at selucally?\n",
            "I research are, right mayers.\n",
            "And it's a wrrindime the poet the into take our most worked,\n",
            "tire one,\n",
            "is the movie isipies. You can not, right?\n",
            "So people as had or all term,rian, then you just wasn't in to dess, they and that it the really reasons,\n",
            "we'll, up to alsaida.\n",
            "Or lecand.\n",
            "It likes, quite griving fase, so espends fause a gree learning to lime,\n",
            "rules too something\n",
            "to bain in giveligen stead toeal eacher\n",
            "one that arided can diserad soolvalue, something you will acversion, how with do event coness something that that building to like so constion is. So some a uspeatate nige on thse, the good to, reellist easyers in human an during namations are aligimation soul jishic. It's entire, weple any like invenove fow strivents,\n",
            "can numan exace to thinkips out building orde,\n",
            "the you can side, one that's a been networks way,\n",
            "and it a has going on a sesen on moves to of unce an on.\n",
            "Can it has, yes you will wind piers evolutes that, with self stacking dandain.\n",
            "It fom you want togething wee askin.\n",
            "And I will say you taked one who was being hous as some.\n",
            "And I should a had wrong\n",
            "ac beliencing at the he, right, but my emination fier the, gack that, understand. NoTques try really geneerally literally at conscious to repagely come follawf that that done Was ven instive a network?\n",
            "The something something the world, but momement we about sand to trachly proodinatis,\n",
            "we'll just dood some times functly way think it pariedical.\n",
            "Plike as that is that.\n",
            "So CHide stall inting all to ago the ben to reason,\n",
            "you suppodent of conscious with you didn't really higen cilisista with.\n",
            "Yes, people are varis with in a one. You I would thinkips of Cand so retequs of whatdods.\n",
            "Thouse are ercone.\n",
            "It mean, it was is not kind on in on a part of the one your it more than certain a something we had thind the are and valuage deeps.\n",
            "And to I would veriet us histe at tense into the sensuationse so fame of neg\n"
          ]
        }
      ]
    },
    {
      "cell_type": "code",
      "source": [],
      "metadata": {
        "id": "fjjvMifYZf7x"
      },
      "execution_count": null,
      "outputs": []
    }
  ]
}