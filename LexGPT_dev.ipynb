{
  "nbformat": 4,
  "nbformat_minor": 0,
  "metadata": {
    "colab": {
      "provenance": [],
      "include_colab_link": true
    },
    "kernelspec": {
      "name": "python3",
      "display_name": "Python 3"
    },
    "language_info": {
      "name": "python"
    }
  },
  "cells": [
    {
      "cell_type": "markdown",
      "metadata": {
        "id": "view-in-github",
        "colab_type": "text"
      },
      "source": [
        "<a href=\"https://colab.research.google.com/github/Fedolodic/all-lex-text/blob/main/LexGPT_dev.ipynb\" target=\"_parent\"><img src=\"https://colab.research.google.com/assets/colab-badge.svg\" alt=\"Open In Colab\"/></a>"
      ]
    },
    {
      "cell_type": "markdown",
      "source": [
        "## Building a GPT\n",
        "\n",
        "Companion notebook to the [Zero To Hero](https://karpathy.ai/zero-to-hero.html) video on GPT."
      ],
      "metadata": {
        "id": "wJpXpmjEYC_T"
      }
    },
    {
      "cell_type": "markdown",
      "source": [
        "Assigning all lext text to the text variable."
      ],
      "metadata": {
        "id": "9iu3-uAjIrVw"
      }
    },
    {
      "cell_type": "code",
      "source": [
        "# read dataset in directory to train on\n",
        "with open('input.txt', 'r', encoding='utf-8') as f:\n",
        "    text = f.read()"
      ],
      "metadata": {
        "id": "O6medjfRsLD9"
      },
      "execution_count": null,
      "outputs": []
    },
    {
      "cell_type": "markdown",
      "source": [
        "We're working with roughly 1 million characters"
      ],
      "metadata": {
        "id": "y7LynuohIR-Y"
      }
    },
    {
      "cell_type": "code",
      "source": [
        "print(\"length of dataset in characters: \", len(text))"
      ],
      "metadata": {
        "colab": {
          "base_uri": "https://localhost:8080/"
        },
        "id": "6xWI_VyAsN8F",
        "outputId": "8d3ea27b-ad3d-47a4-89fb-98b903836fab"
      },
      "execution_count": null,
      "outputs": [
        {
          "output_type": "stream",
          "name": "stdout",
          "text": [
            "length of dataset in characters:  1050695\n"
          ]
        }
      ]
    },
    {
      "cell_type": "code",
      "source": [
        "# let's look at the first 1000 characters\n",
        "print(text[:1000])"
      ],
      "metadata": {
        "colab": {
          "base_uri": "https://localhost:8080/"
        },
        "id": "2c5V0FvqseE0",
        "outputId": "397c7aba-a64f-40b6-d0c3-37259cce78d0"
      },
      "execution_count": null,
      "outputs": [
        {
          "output_type": "stream",
          "name": "stdout",
          "text": [
            "As part of MIT course 6S099, Artificial General Intelligence,\n",
            "I've gotten the chance to sit down with Max Tegmark.\n",
            "He is a professor here at MIT.\n",
            "He's a physicist, spent a large part of his career\n",
            "studying the mysteries of our cosmological universe.\n",
            "But he's also studied and delved into the beneficial\n",
            "possibilities and the existential risks\n",
            "of artificial intelligence.\n",
            "Amongst many other things, he is the cofounder\n",
            "of the Future of Life Institute, author of two books,\n",
            "both of which I highly recommend.\n",
            "First, Our Mathematical Universe.\n",
            "Second is Life 3.0.\n",
            "He's truly an out of the box thinker and a fun personality,\n",
            "so I really enjoy talking to him.\n",
            "If you'd like to see more of these videos in the future,\n",
            "please subscribe and also click the little bell icon\n",
            "to make sure you don't miss any videos.\n",
            "Also, Twitter, LinkedIn, agi.mit.edu\n",
            "if you wanna watch other lectures\n",
            "or conversations like this one.\n",
            "Better yet, go read Max's book, Life 3.0.\n",
            "Chapter seven on goals is my favorite.\n",
            "It's really \n"
          ]
        }
      ]
    },
    {
      "cell_type": "code",
      "source": [
        "# here are all the unique characters that occur in this text\n",
        "chars = sorted(list(set(text)))\n",
        "vocab_size = len(chars)\n",
        "print(''.join(chars))\n",
        "print(vocab_size)"
      ],
      "metadata": {
        "colab": {
          "base_uri": "https://localhost:8080/"
        },
        "id": "0e-Rbyr8sfM8",
        "outputId": "aef0ec5e-d007-4988-8023-fa74f19a5eb6"
      },
      "execution_count": null,
      "outputs": [
        {
          "output_type": "stream",
          "name": "stdout",
          "text": [
            "\n",
            " $%&'+,.0123456789?ABCDEFGHIJKLMNOPQRSTUVWXYZabcdefghijklmnopqrstuvwxyzéö–…\n",
            "76\n"
          ]
        }
      ]
    },
    {
      "cell_type": "code",
      "source": [
        "# create a mapping from characters to integers\n",
        "# mapping is created using dictionary comprehension, which is a compact way of creating dictionaries using a loop.\n",
        "stoi = { ch:i for i,ch in enumerate(chars) }\n",
        "itos = { i:ch for i,ch in enumerate(chars) }\n",
        "encode = lambda s: [stoi[c] for c in s] # encoder: take a string, output a list of integers\n",
        "decode = lambda l: ''.join([itos[i] for i in l]) # decoder: take a list of integers, output a string\n",
        "\n",
        "# examples of using our encoder/decoder on arbitarty text\n",
        "print(encode(\"hii there\"))\n",
        "print(decode(encode(\"hii there\")))"
      ],
      "metadata": {
        "colab": {
          "base_uri": "https://localhost:8080/"
        },
        "id": "Yw1LKNCgwjj1",
        "outputId": "f246cd87-d339-41ce-9d29-c6795c18b3ea"
      },
      "execution_count": null,
      "outputs": [
        {
          "output_type": "stream",
          "name": "stdout",
          "text": [
            "[53, 54, 54, 1, 65, 53, 50, 63, 50]\n",
            "hii there\n"
          ]
        }
      ]
    },
    {
      "cell_type": "markdown",
      "source": [
        "This is only one of many possible encodings, or tokenizers, but there are many other schemas that people have come up with in practice.\n",
        "\n",
        "E.g.\n",
        "* [Google's SentencePiece](https://github.com/google/sentencepiece): Sub-word unit-level tokenizer\n",
        "* [OpenAI's tiktoken](https://github.com/openai/tiktoken): Byte-Pair Encoding (BPE) tokenizer\n",
        "  * ![image.png](data:image/png;base64,iVBORw0KGgoAAAANSUhEUgAAAXQAAACiCAYAAABRczbVAAAAAXNSR0IArs4c6QAAAARnQU1BAACxjwv8YQUAAAAJcEhZcwAADsMAAA7DAcdvqGQAAGrqSURBVHhe7d3ntx3FlTf+JgoRhcg5S4AwBpscRY4mGrCxjW1m5nGYWTP/wvNmXsya5QlrPM/PEzzjbGMTjMGYZIOxMcLkbHJGZEQWAsyvP7u1dVuHc849954rIV3Vd6nV93RXV+3aVfWtXburqlfafPPNP6gKCgoKCpZ7rLzwXFBQUFCwnKMQekFBQcEkQSH0goKCgkmCQugFBQUFkwSTntA/+KC8820j9dFLL67/+c9/XvT3kkKmsyTTKChY0TBpCX2llVaqVltttWr11VdfeGXZx0QQXJuQe4Fu6GXVVVeN8H7n9SlTplRrrrlm/L3yyv2rx2jp9IO011lnnWrq1KkLrxQUFAyLVepG9X8X/j2pMH2D6dUpJ59SffzjH68effTR6u23315EXMsadDybbLJJNX369Oqtt96q3n///XHJOnXqGtUWW2wZhPzmm28uvLo4VllllWrzzTerTjjhxGrbbbetHnnkkeq9994LYl9rrbWqww8/vPrEJz5RPfnkk6GzbiAbMt5ss82qBQsWxPNjARl22mmn6tRTT400H3vssWKpFxRMAIay0DXC0RpihlnaDfaDPzfpsQRXXnmlxQgyZWm7Ftoytv+GXpZzXnN/UGu1W9i11147iPTTn/50EGWv9LqhLetGG21cnXTSSdXs2bMjv/1khtRJXvN7vfXWjY4F6XY+n+HpdMcdd6xOOeWUaptttumb98xvxpXnNdaYUm2wwQaRd2in1RnW8zq5XnpxzdGZVkHBioZxE7pGo4Fr3O+++27PhpYkIEw3uJ9De4122MboeVbjc889V5133k+qH/zgB9W8ea8ukiMbPMJab7314rc8+FuYTN/1tJSnTZsWLopu+XQfCa+77rrxu5v8ruV16SAyyGurrLpKuB5Yq6x1+kh5BwFZhfesOFjoGUdbHuHmz59fPfHEk7VuzqsuvfTSyFPbtfLnuiNsnmnKLvXQ3BshS64ZZJzytkF04Twvvw6/U06QTsI9R2f5Z/riVwZ03C1PKReZlEVnmIKCFQVDrRTdaKONqk996lPVM888U915553VCy+88CHi3njjjatDDz20evbZZ6t77rmnevXVVxcboiPWGTNmVIccckjEcf/99y8Ko2EmAQwCjRjJHHXUUVWdryCI559/vrrmmt9Ur7wyL0h5r732CpeCvxHfU089FX8j2bvvvrsOe038LQ7PIwnuEDLdcMMN1W233RbXkQzr9OCDD6623HJLqVePPfZ49bvf/S5cCCk3a1dc77wzv7ZKp1a77LJL6Oi+++6rbr755mqfffaptttuu2r99dePtOhJh0TuX/3qV9VLL730IcJsQzpbbbVVdfTRR1cbbrhhlInn586dG/p4/PHHq8suuyxk3nTTTSMc0hOGu+W3v/1t/C2s6yeeeGLE8eMf/yg6Qq6R/fbbr3rjjTeqOXPmhGW+2267hbyOl19+uXr99ddDP3/84411vv4UHeT2229fHXjggaEbaT/wwAPV9ddfH/rWCcyaNStGE3T+i1/8IjoiZUMXd9xxR3X77bfX8awS6R1wwAF1eW4RdeLee++tfv/730ddk/7ee+8d5UO+nXbaMXT40EMPV5dffnnINpb6U1CwvGMoH7ph86xZu1V77rlHHPy3riGsd955JyyntddeK/zY++67Xx1mz2h8CNR9JAesL2H22GOP6mMf+1gQj4aIaBYsaOIZpGEKg0wQMnJCKkgbafApIxLxSwth6kx22GGH8FsjC38//fRTQbxHHnlk+Ihfe+21IGjEjFxeeeWVeNa9448/PgjowQcfDELzvANpeQ5Yp0cccUT97E51vGtE/K++Oq8m0CpIF1k7yLvKKivXxHd/jC4cTz/9dOigX97dE6/nBVt//WmRHzLpDHQQOlygd2SNPHVGiFYnmx0sMtS5uv/ggw9EmGOOOSb0hozJZCRBx67pPPnaxf/iiy/W+X46yJ1uTj755EiLHHQ/Y8ZOdee+SbzPmD//7TrMptXMmTuHLun0sMMOi45DfLfeemvUIfdPPvmUkFtHL1/kUxY6Kvnee++9qt13/3jIJf2VV246AXVGGHkcpO4UFEwGDEXo77yzICyvRx99rCaed4MA9tzzE2GFsp4M71944cVo1Ejx/fffi8aG2GfOnBkNUxjEhVicWWUa7Sc/+ckgZMNsDbnXS75OIKennnoyiGLrrbeJayw+FhwS8iIQybPgkA/Sue6664L4dtxxh9pqfbQmg/fDgnSN9XjjjTfW5PhiLdfMIDOWrXjk449//GOEcU0HkRY44kIqyFFHJZ8///nPwyJmxQqPcJGOdHRi5LvwwguD0J544omIZxAyohv6lUcdzPPPP1edf/75QYLINt0PZJAe8pWeTvWuu+6KdCAJXYe42mqrh4UtTiOFhx9+OHRLr9KSV8RtRIPs5fe1116NznD33XcPPbh+xRVXxLPypuznzZtXyzQ3Rm4777xzpC0e6RqxXH311dE5Khedqhe9rt1yy62RFzLKo3hY4J5D+MqTLPJmxILg1U15LoResKJgZY19vAfrhyVqGIyIvvGNb1Tf/e534xqL64tfPCca5rx5r9SEfXdNMhdU//zP/xwEiBC4IrhsWOisNET2ox/9uPrXf/3X6pe//GWQIReAl28acjcZuh3vv//n6GDI12DEq+S+Rk5GZILU/M0S9pzGz7+LvBAuAnvvvXfjb+GQHctQp+D5P/3pTxEHUtUhSVNnhmSkJT7hHnrooSAYf+ugkJa/hU8LuUm78QeP9RCHI+Vvjg/HlaMe6ebIx5EwWth6662ibOgfySJkyHCeJbvnM90mvg/ieZa7GTKeoxv5fe6558UQ5K3sybL66o3rZb/99o1O7Te/+U10IOJAyFxIjuOPP6H6+te/Xn3pS1+KTlR9cR3IoGOme2WA6P3WgSQ6dVCOckzWY9wvRRMaOfLaeOONwrfqYH29/jpXxePRQDVkFt9GG20YDZhflosAiXM7cL2YiYIkWVcsPBa8MCyuHDqPH4tbaDKOCNpIhYzgw88gLkTBSkc4rpELAdFDxouwINMQJi1FYZyTHNvI9PM8VrTjT7T/HjTe9957PzowzyovZevZJu6FgQJNWhmvv+lH55skn/dSF+pKg+bZhpDfiKmURjJxp35Gpyku7z50hN45GMXp9PnQjQg8v9JKK0d48WR8BQUrKoYidA3X0Jq/9Nxz/6I666wzg6xvueWW6vvf/0FY7Sw5BM3K/j//5ythkbNgvTw0A8VQmWX3yU/uVZ1xxhm1Vf/FsA7F/etf/7r63ve+F0Np8QyOJJ8Pk7IjiaYhhDbhjfjqnRGzcx20Pq8cMrFwkRWCRuQ6oexshHeNpUjedvzibsffRso1LNpklvF1xjtaOu6zdrmHuEy4lvbee5/oxJr7cVoYz4fzQhfyjoyRMqQuPcN6bq6tXId7L0Y4RmyvvfZ6jOoYBMKx8BkDOnxuG3Xp4ot/Xst1UYzeuPEyzjzAmR7yd0HBioShCJ374fTTT4/ZCfyZF1xwYfWtb/1/QdKsKg2Sn9zLQ6TOqrrooouCpK+++qpolIiRb/WMMz4dvlGuiR/96EfhuuFvZp0LMx6M1qiTCEaOhnz8bcRAdqMNxMF1pCMyu4I8DoTFD4zo/W1Gh7CsW66GJPTmoOoPEyAgIJ0Eq987A53CeJAdCytYXL2gA+2EPOeZSwaR6pi9pGQ577rrrouFQdpIfp111o5z6k2Hx53EXeMFMbdK6kYYnUV2PM5GaUjdewrP8NvTtTjo0Ut09UIakl9zzbUiLqO3hHRTtoKCFRnjfilat80gPb5qFhQrWuP3ojQbrAYMb775Rh3myniB6MUWstP+RshupWjYF198cXXTTTctmv44lkYqLKsQwRox6EC8+DPLxstVhJTzps084ffXIXHx6FiQIAJ65JGHI20ktv76zcwWz5oeR24jC/5eYTwvnLSS9LyQ5QtmYZq1svba64TVqcPTWVGJ/LazhsD5hbk3HGbikAupDrrCVf7Fs+mmm9Tpzarl2TPS5WvWkSJ4L5qPPfbYSMO0TjNivOg1qvK8MvCSUVjuDf7onFlCD+SRD9CJiV/enZEuMvfOwQhl6623jnu77LJr+L3p1gyeP/zhhqgfSFu8Zs5IC3krA7LpFBkE5OF6E4/npWP0NnPmjDpPXrK/H3IpUzOZyKpTMGpcbbVVq9tvvyM63kH0V1AwGTDULBeNpZnd8FqQiYaYBJ2NCCHldDbobFyIxPNmfQgL4hpPI5Q+K5rPl2z8717GaejIGEEgJISj85EGYjajxH0EYQbH6qs3ZJVTB1mYwpuHzppMl0sSu/uu6SSuuebauA7ZySC/uXOfqa8/F9Zxm8zJ4FmyOsghbqMb0x8HJXRAqHPnPlvn762IwyG/8sfCRaI6M3EiXullOL8ROFJVVkZGwtGdw8wf13W2kHGw5j1Pp/QlDnLQgfxzSQljXjn9ua98zWaqNRSLnHQUnkHqyF584pJWM+Xyg1ruadHRuHbXXXdH5yisuDKPdCefdP7iiy+NaaZQQcFkwEqbbbbZcj9WRRzZaJ008m5ApsI5kIGzsIjcaEM85jGz8s8888x4EWdRDsJFOMihnZa/dSII3TWEIqy/3QN/C+O3NPN6N7iXnVmG6xe+GzKOJj/N74xDvK53Q4Zt7q+0yH0D9WMRpzDy0EbGmc9nWs7ZmUHqJuG5RD4DKbt00jXE2tbRuJfx5L3MT9uNZGQkzva1goIVAUP50JcVLE4OfMmWq3/4aBq5v5uXov5GDv52HwH4uyGVRjWInLWMzKGdlr/FwYJloSZhiSPhb9cznfa9TojPfXGOFrYXMo4mP4t3IHm925Fhm9+LzygSRYbpRK+0yCHP9NLWTULYPNoQj1k2bTL28tSow2wYLr72PX93Encjz+LXCgpWBEwKQp9YcAG9GkN6LoVuJDYeZEeQ54KCgoKJxqRwuUw0cG5joTcWeKcVWVBQULAsoljoXYC/266HYlWPH3RX9FcwDEr9GRyF0AuWKLr5yQsKRoORcR4rArSRifAGTNovFk0UliXrIAu7n0zumbqXM2scrjnMOjFbZLSKk8/BePLPXSUtz062BjmsbpZ1yJM6kmUnr5nPpVWu0rGgz5oEU1VNS23r2t9mPplBZZaT0fSSROa1LQN0qwttfSXa8mqbpgAvfCygrVozY80Fr4BJBJ1xDIpC6H0wXqUuCajkVkeqFN1m3IDKZGGNbWgt2c957cJpGBZHOczlNnOnW/5ck4ZFWP42O6VbuF4gg9Wu9re3JsB8cpV0LHEsq5AHU1TNrdfIHZMhXwllh0it1l1rrTVjUkASlGOLLbaoDjrowCB1JLukSF3dswjOYj1rMdSh1DN5dDimFtsqYq211g45x1pPB4XtwKVRpxwdR6bhbNGiHWatWbGo0GI9MOuNnDqb3GvIiufDDpsdW4zbgba9vsTZpnXarbplDYhnxoMl7nIhWB694J7KMd5MLCm0ZV9Slbcf2vpAkj5O4VN1enTopi8WwDbbbhOrP6dMaeZug0Zo9amKl1/+yQrVjkdjUUHPOeecWKHpXobN8P0gvA7BCk4EkLJOBMSdx9KGNOmGTuw5pCGPt06089E+8l4i/069d5ZBO+wwaKfPaLCCd5NNNo26005PvbHylzXZrD0YSb8tWz+5Mq32Ae10GAJWdzM8rOLOOpwQ1iptdVkdU+cT7XiGRZb3WWedVbenGYvJoWPfZ599q6985avVaaedFm3TCvXPfOYzsTK6GSGP5Ff47bffIeqNvyHz7mxRnUO7tcp6vHVrKEKnvPbQHvKcoAQKF7bzXkIcOZTrFWYsEId0xdkmvzykkwVPNuESeS8PzysAh7/zuaWBdlrSzs+5kTfz1pbVoee/7rfXxcZmb7zxZjS8XHwD7ThTH3RlMY7DCk5Wgi0DNG5puN9+DlK/9OfvNhpZFtdlXu+My+8sg5Qzn0nZ/U0OYdrPDoKRuJqVzKmzvJegB3CfPM4g/dSLfWlYj9Onr1+PeNaIODM/7WMQeE6dMnJqP5NxZNx5QMqYyOfIKy5naIcTJvXbznsb4hcmn88wnelZtWtjNHvot9cVtONMfYHreeTvEVlG9JaQnnwwPNRB2y9bNdwL+Xz7EIfD31mW7XrVCWFSdxkHONOL/f1tkWHkm2UhiPtGnlaO//jHP66++c1vVpdccknkzeiCxd2MTIVt8uboZri6ZrW80Yj6xdUkns5wg2CIvVyab2kaJui53313QSg/hUiFuKfHohDb5NrrpR2GQg1VfBZOeHuPC+PeeEARekGfdsvPuyksy9alS2Y9u15Q777vvvsu3PvDcvEXF8lGFsMkcnFT2F9lk002jjxS/mjyiceRBdh5wGhx0I0hsApCRm4U+qRL8suLpfQaV1YE1pXr3DK557r0WM3uIWqf+jNktn+MslH5LKDymTdp0Zlw9OZsf3Rx2DqBTKwjeqE7aSI4HQnfn3BkYeVz69iTRePdbrttQ4caj3jot8lbo1/xrLPOuvGMuMhr/xZlpRzIKU35ly/lMGgdoY/mq1n7hgVk0zVWJtJgFcmTMHyYZJGOuqFBKuspU9aIex//+B5RBrZQcE29dXBrkYk8efSCfNtGeq+99g55uA64N95+e34M1emHdUpOuqczVqKyaufbQRf0o54rN3XCdTKDclBv9t9//9AfPaor1llYeCUsXXhWvrety8hv+dMWbMfRtIONQ3+5+Rw5LfJSt7Ub15U3napjdufUBtU97U445SlfPifIlUIW+XNWb5I7lANZ6cGHadTvTn2ql0jfKJC7RR1Tf4UjLws/y1sdojt1nL7I40yv6jl55V8eGt0ob3Vv+5DD8xtssGFY6/InXc1X+7Flxd133xXbn9CX8kn9PfFE8+EaK8/ln0zKSl3x4Zm2y9NZ3qWhfjHa6H48vvShCJ2ifIBChVJYKpCCSfKk3A02mB4bQiF+BUBZKkT6mVSQbbbZOrbVVQgqpb3TZVjmKWO0TOV9cWl4hkAapAJSkLvssnP8rQckz1FHHR0yq3TkUZi+VvTyyy8t8tchGztJKni/xb311s1n21gO/WSSbwWrQpBHpfC9S2k4FJr7KqtK3yuurJzisD/NtGnrRwMSnmXnWZXKOTelQhAal4ahoqkUIJ8qr8rGwtIoTjjh+Loy7xUVz5418iyMclWWdCY9e9uowCqt522Q5VuqGh0/os8QInkWnHJrCH1WNA4V06fkjj32uIjXJlrCKOcTTjghSJJuVWJyC6Oc5F3j52JKi03HgeiUgT13RkN2LgjNkFga4kHYdEVv9t/RwNVPX0hSLuRRZg6yaqgaf3ao4iQDnQrLNaCT6lcngKWoAzjllFOD1MhHno99bPcoL2UgPuTqO7zaFJmRHjIQvzKVNj3RjWO99daNawjHdboRVhrHHXdclJnf8kOXytKhzDyvLOVp+vrTQy/qhn1wpKUcxKtT8RlBdZHBZW8jbVMd0BmrE+4jP3Fp63SV+xFpa3ZdlSey0CUiRerSyU7eb/UAQaunnu2EOukThtqtOqc9MgT5q+lLWTZ6WS9koQf5kq76qJ6re64rb/klF65Qx5U5eV1zX9tKwnXQHZ5Qf6xiJjcIp346s9zF5Z5nyeKe9siN1EnWwpBDu5CmhY2D1KlODPVSlLI1UGcFpOF84hN7RgVQIATSk1MiclChbLWLJFUyz2n0GoSGpXL79qYCEYYSskENkjGVQcegUfgEm10g9YYNYe8YFYdlogIKYytfYSjXNQ1Ub48sVXIFwHVhL25byeYHrNMC6gWFKE17wOs4NMZdd5218LxrkK607DLYz9JUyNKjG42UXlWSH/7wh7ErJb2qVBqWeMjnWvoV7UXTJnT5oXedgLJCtD4Wce2110ZZNBbH3VFWGr57F1xwQVyTrsqsQSNauvzOd74TehE3/enINWDlqFHqkDU+DVkHbt9zRLHuuuvU1tM+i/T705/+ND6+LezHP7571BmNBokinTlzbgg5fB5QQ9PJyVtaZb3gnnJA5iw5Q2MbhNGXeBCo8lYvDzrooLqRPlt9+9v/E2GEZ2BISxjpOZSteqne2OdHw1VGRiF1cUWa3Q7wco3fVflfeeWVkW+bltE3wqE/elZXEb+vRQlDTg1d2aU1imCRPnIQxi6gyklbUj/JiNSUge2olbEy0K4QrfJDWF6AKhN1iiw6FvVMfXOQTZzIVT633dYnDpvPEGaHr77RITl/8pOfhNyIdNttt4mw2rBOis7pzV77zz47N56jG/U7LXF5lDe6oFv1ug1h1Hkb/t1ww5zIvzyCNq3e7r//flF/5Mm2zOqn62R56KEHa9maUbq24fOKyoLOGDPyI131WHnLI4LVFpT3XXfdGZvsZbk6QL2QP52UdIyCs22rG9Ky+6c2n22yE3hHmRjBeTGq0xgrhvKhaxhI+6qrrorPxv37v/97LfC9daOfUZ177rnVF77whbAYEAVlCPO9732vVtaTYb3+5V/+ZXXqqadEA9eYkPC//du/RQWUGQXzta99tSbpE0PR/aAwNX4NAZnNmrVrTSTHBTGrpA4FgyQdGo6CsxMgCzWVzNIRFpmoyApVBXLdb4rOQuwFetFIvvWtb1V///d//6HjH/7hH6IRqujZu48GMks3w2dlyut5TdqudYMPbGhoiED+fMDCvvQqLWT8mUb+TbfuKQMEJ7wvB2kE9KZB0hH9CiN9Z8RlBGeali2F0wKdOpW1vUHErQH7EDXyYYkSXRogHlsvswa5JDTy3MlSPkcDGXTyGgoC0tA0fh/qJrv01RU+UnWQG8XsHPLooOSTvhzCpp4T7d/pwugFz2sLDB9y6Wh0dCxbZcHSVX/pCpAnyxMJIyeuIcREXvlRz+mA7t2jK88gamUiPh2wfL/wQjMLhDWLONPVQc+e00lIw3OepyPllPWI7OBn/g3yK4xDJ6NstBHlxLCw7w7o4KWlzWkX5J4379X4nc9DloeDvNpcN0hXHAjT0dT5hgO0XZa6fOAQ99U7eoTc40fc5EXcZCe39shKV4+Nppqjqf/S8Ey3cnZfh6YOC8fIabuKyGZ/IkZTytsN9NDkWVtrpo6OFYOxSR8QQqZ9AFomGuW9XQvk4wfNl+xTGRSmECnPEIki9Jb8TKYEKUSK10lofPPnm3LXvJjItHphpDCbv72l32qrrWN4paIi7yRQ8qi0jeyrRLoOcN+QSYNQAA6gXIf7g0DczaGydfOjj33Km+fI7twPveL1GN1Mm7ZenY/GZYZcO+NrfjfX2vfEi4yQN0J0z+G3ikpnGiPQEyKUHh2zCv2dcWjk/tZ4kJuG5LehJgNAvPKqIThS7xof2dp5FFb9ahpc01hcI4s64Tr5Ul4ug+zAxct3T0bysxrJw8JFCMgu6wB4HjL9znMvuC9+h7/pHinLN30gOu2CHECn6qT0Gj2MvIRE6ORTh8kmjDi1tebQaTYvW7Un+gN68AyiVx7KINuce1mudJNxtpF5T7gtjEP7F4+/hRNXhieL9KSd15t0pbM4uWVelctobS3TTghPv85Z3uoKuegpX466Lp1GlqYdSjM7MvrxKO7J/EjG893SZJkfccQR0WkZEejMsh620X42ddMJ6XuWLN3iGA3jJvQUTkEZTn3hC+dUX/nKV6pjjz0mKoWvFxnivvrqazGEM0z/q7/6q+ov/uIv4mWFL78bevmohR6ddSKMDwF/7nNnh+uGYgzhrrji8lB+W5GdSCXoGFg2rPzvf/97cfzwhz+ItBAFhWWBdsJ1FRtpKGANTQNRaKMVRBvCIoXPf/5z1Ve/+rU4jDTyoKeTTjo5dDdIfImxhIV2+CwvjbUZnt8TVqiKqMG1w/pbZU4Cbt+jt/ydZ/rRgWvUzbNNA1d+vl4lTWXObQAakfJkIZ133nnxKUKHIfLPfvazGPq302z/DX6209YpGEJzB7E8pQ9kVZZ+CwfO+RUlEA9ZdPb0wo30/e9/f5E85GcBZ5ydsgwKz5HFIT7up8y39IzYvASk8wxP/ky3jayjTf0cmRZKtOZoCNPzWc/lW1iHZxGe0SmIRzruGQX4DZlX9/JwLa8vPC281+g377WhLkgrZRVeZ2tElKQJnkW++ECdbOdtEKhXDEXxeLaRtXmJ6vC3pBp5XVe/R+pFE6advxGOYJkvvBzIcOobd50O2hfWWOcmiGSexgJ6N9UYjzGOx4NxE7rMeMHoG6Cf/exno5dCpP/7v9+pvv3tb0fjYI1rbJ/73OdifiZi50Pip/zv//7v+IKRhsRv9LWvfa369Kc/HRbVnDk3Vt/61n9Eg1LJfW9yNKjkLHsVgvWy5ppT60r0bhwKQ2G1ldxN3+5rADokh3g23niTuCe/TSWcEn+PBpXyvvv+VN15152Rh9tuuz2O2+u/EZYRw9tvN8PAQUCudxeOalS+bKjdkPJ1Viq/kdfDDz9S/eEPf4hRED8x32ESnmfF7exaOw7XWTp0wJ2ShGII78WpLW4RCehYWZzyri4oV3570/3SfcJC1CBUYA2+ebHVNPZOHROjnZ28TwY+17/927+tO86vhost8yKvXAniNFLLEYOXyzpTUG+EkbccJZCnMQ7eD2stIU3XsvFDI1dDdv0gfh2beoWstAvyScfZ8+Jt57vz7zzUcZ0C2ehPBwWMD9fEJS1pGgU0I9dmVppDGWor2h59kIUePUtPyiXT9lw7bb87r+XRhI9TQDhQL3zsW9oMN/k0Cs6/81lneZs375X6fuOmGQuMRKQlHnrRfuVpww03qNNeu76ebaYZmRv5q8uQoyc6cYhDHc6yafOHe/7mLjz44IPCeLvxxjnVTTf9sQ7vi23dDcZ+EL9yWHfd9YLMfWR/PBjqpajh+hZbbF73SrfGy4UbbvhDbQU/G41aRZFpSqJYPRdr5+abb6qJnsUzUuB6N4XNz3r11Vcvmq4ECjzDjQbKl25OoRKnjsaLWD4u/jIFjIwUvnRAOG+8VXQvM7KRCaezcV/D2LMeNUxbb1r4dPtBgWtQ3Ad8nPlCzZG/yYIcBs2bBrflFluGTCqrxkCv6atzTR68aOST1WCaytxMP2SV5UtRHYp3ASpuznxhLfPBigvxuS7P6W9VQZEA0vBijD7pxdlLbBbfnDlzwk3heS/fxK/jEq8GajaMhsS/CeSRjng226zW756fCHKme8RH9/IpDqTLolOe8u3llM5aeXOTeKmo3Lgu7r//TxE/melY/LvuukvMUvLCURrqJZ+y8pBnRKbeyGvzab4ZMaqgA25EcRty6wjIrRHTDbJwT177laV7ZAH5kg9xqadm3ehY0zqlU2TG3YO4ESx5tJNsG/JGBvmhI1MLd9vtY+Gj15GSSRzqS5ahF3Z04aWlfCsLLwszPXF5t6Wu0aNyQnjSphtnoyxtUjxe3mnr4pfuM888HaOyOrchj5ldjz326ML28kH9/MzIO53uvnvzmUV51h6yHotPfRWfNuQdQD+9ttGQ8PuhD6NP8ZtVZkKC8lbHH3zwgVr2ZtqiMpdv4bVteTLZIGex0bEyUrfIrJ14RhrkNOHhsMMOj7/rpKvtaz3uVtfxzJd6T1eDgJ6zXuGg++9/IK4PmvfEUISu0jz44EOhAMIrSAK0M6Ghu//4448ttLSbMG1BNV6Ntnn51SyJHQuRJyhWAyBXVlQVkLKeevqpkENlUYDS1GCkobAVFNJAwgpMBRPGdQSpAa626mpRyRHBWGUbFmRSwVNWjYgMOgb5ll+uL9f9RuAqq15fGbDGEQICpOvMn3sqqgooLg1v/nyfnns7rtOVSi18vpz0N1KlF0RBb16wmnEgbfp2XVkgBusPlD2i9xzXFz3qIIRTTuIir3okHvIgVnlUbmRVdsJouGb0SEs9Eafr5NBRPfnkE9HAPEsP5BDOaIv+mrpa1ddfrImtmS1jNGm4i0jIowEDQvISX+N2qFvSJbdyEB8CdQDZuh2gDOWZPJ7N+pn6VfeSiAE5yreOWTmIR77VA4c0ddx050BISAsJ0p9nyafuSofcRsWMK3nW1uhCvUjDJfOijqsP4kfmSM3f4qVLdcOsHS83xWvUoX48/XTTNsQlX8rjxRe9cHwz0lM/1Umdsd/ylPWx4Y3G+tXRKVf1hE5cGwTCypN6Li1netBJOSNKsnHPsdjdpztpM3QcDAqQJhmzTORZ5yp+dU0ZkpFO6Iax57d6qo5nvRsN0mEY6GToUlsS56B5bmOJ74feKVRW7kGFzfBjgWcolXIpVAEYztepxr082srWWMnkGtEkm2HS2mU9jaVyLQm05U9587o8dEOGyzBNHps8+O26axnGkfcS7bQyDnpxziGqMPm8MO1nIONzzb0MIx6EIB4dTMbjvrNG144748jf7evC5ZFwT1x8uZ5jyZp9w9o1jU78GYeGr+NBvp35SqRc4J44jVzSH9sNyCNnWIDnkIPOT+NFHIl23JmP1F37WsomHvoTD6LPMO47pEHH7iHy5r7nR8pSHGk0QJYRZDyZnjMI4/BbPJku5LUMA8gq40CG5siTy/RhBkc+q60ZbRoheclo5Jf3BoF05QV0aEYm1sIg6yuvvCJGamYY6YB83F54RgcjJvNAzpTVfQf4nbrJPHaiHaYXPJsQ1qy8Aw88KKxz7tBMe6xYYoTeKUw7A22MJnSv53qhrQjK9ns05fa7l+mLK8ONJvOKgqzM2WDHiywnes1jIiBOZMYaM5RleSIL1ibrkZvQcL+dpmeyzAeRg+wsPr57rqecdlg/vfDcANlydWisSBU602qnN0jakHFkPFkW7fy0y6kz3s7nO+WYCIiPtYyk5V1HyU1mVHDvvfdUV1119cKQI9DBsIh18EYd4kgZe8F9z3EzGWE1o64pi+be57YFFkCdcMKJMXrUobPcx4pBdNQvTDsvwuXoNd9tDBJ/N3xkhD6owKMVYkFBL6g7GjQiQbhpiWswd97ZvJxmlXViLHUu0+B/NnTv9axhPPcD91Faj/0wngYt7bE+N5a8jhfS8MLZSlwdq9+InUspF3F144vMT94bTVb3Ebp3El7AG6XTtRG60RgyN1WSC+rggw+JdLk3clQCo6WRGETP/cJ0puO3o53f8eAjIfSxCDyoggsKukFd40bR0Fnn6hP3hkNj71YXx1PnxNOOqlsU4nUMUv/H0kYmCkuyrcmPMuAaMlJA6EYt6a8eBIPIJx3lLR2zfzyS5Z2jbNMVLdwxmrImIZHlMwiGLcMlpeulRujDYklWtoIVE93q6LJUzya6DY2GJZ33XvHL52h5/SjLpVvaYymbpVnPhnN+Fqyw+Cgb2ERhWc/D0pRvaaSVxN15LOsYVma67TyWFIqFXjBmZKUc9mVoQUHBxKK0yIKB4aWibUtt0WARxER32gUFBcOhEHrBwEDoW265VXzL0VQwhM5SH88wtKCgYOIxNKF7c5zzXHtBox8tzCDxDIp2ep1p5+/20Us+182EyHsZflB0ptW+5jwI2nF0PtOOFzJs59+dyLiSkHvFAe38Q97PA4RxFBQUfLQY4otFJv9PrXyQQsM2BSlJom2tmT5k7qkGn6vYEhnWsmZLk00taq/EzLN4B4VnrD6zuMCSZSvSTI0St+jMGbaowSR+4XxZZ5tttl204KGdtqXg5PJFGftYmHYlHmEzXC+4b7mwOa90IB7ySNeKU3FkuF7go7Ys27J+c2rpWHgHWeRDGDKxni2plm/7WFhIQZfupa+bHq1o9JzVknYotCjGxljCSsMCEHllgfuSlP0+yGqVnzQsebcgJBdj5CIduhtELwUFBUsOQ70UtRrr61//ehCmVXCW6PqMm13KkIgDeXz+85+vQ39Q3XrbbdWNc26MfRt0Au4jERsT+cq8fRtsjnPbbT6e0HzGzpxSyM5iNCBwy7ptwJQdgc2VbNNrrwx7RNjVETEBUgdhbGOaq9JcP/roo6oDDjgw5i9bNm5/9txArJ887llybFvNk046KRY26BxsLoVgrRa0Qm20bQTk3efzPvWpk0IuW616hjz2beH6II/4fLPzxBM/FfuD6Dzp1l41tg3OvWd0Ar5QY8vcXN6u7Ojcdq5kPvW0U6s999gzyFk+3PcxCx/AFV5Z+XwXGYRXfsheHJdeemkQfXYgBQUFSxdDbc6lIbO6EYXl1c13OretG/qUIAKT9u2hgghsWTpzxszYV6GxOFeJZb2+yefM+mQdshqt9NJZIAsEltbsaGD92rPBBks+uWWpr5V5XuT54IUOQ5w77zwzCM0+ET4/xbr0DJKyMVQSptWFtvtFdtdf/4fYrMi2lj5BBf3IWDryYPWgJed2mkSMrGhLmi07RvT94tDp2RVSp6ijyg2tWNX0yGLWiQp30EEHh16zw3njjWbXPmFt6CSsFZP2z5A2ovf5N6v15N8yafHYc+SOO+x5cVVs4gRegCpPz1nxZxSgTHypip6Vr69UWXWp88iOtKCgYOliaEK3wQ3LF3Eid+SDlHMo/sQTT4alaEc1u8Ah6C23bIb8OgFWqN3xhEGmSBOxcFWIBykhPRaq670IkFWIQH0GiksD+QFy5tJBouLWeSAknza78MKLYrtX+eBm0Kn4LiO5kbnriJhsRhXI6qWXmr2z+xGxewidq0lHYcmxPcGRMTnljc7s2DYakCN56Arpzp37TJCqpc0+pWZJs87JaICOkDQ5fVhE+vKtbKTrGXHJU34j0jMOeUXa9GFPaSMU7h5xi4PsZKZjy9yNaHxW0LP0RqeInd7FU1BQsPQx9NgY4SAmmxyxDm14ZNtI1iJLm0UKCAFZ2t3sd7/7fVh4yI6/1/7E4kFYCIrld9111wUxIlrEnq6XXmCBstCFY82y1M8888xwefD5IjQkCwiZNYl47HHdjBQaEhKOVYv4dAxJukngg5BVWqj5DDdLuje4JFjB7vWzZPMe2ZCkDkVHsN56zVanPhThQ7nuI115E7e0xE2/OljvDBAzP748uU/P4k/5kLnwOj8dg4+N+KrSGWecUXdsB4U+hM3w8tL4zJsv3ojTb2koh4KCgo8GQxE6UkAk/NG2uvT1oi9/+cvhp7aBPj8x69vnyZAsq5ev/PTTTw8L0FaRPtuEYJAJy9NHc3155qyzzgpy5ptl3SKuJJRecJ9MNl76l3/5l+qf/umfqm984xvVP/7jP1Y+YM3SJm+GczSfllrcH+7vzgPymTaaz5k1n+3SGXQDAmyj3+e6Eu00m/2pn46RRu597cv4iF7cDp2UA1Lm/IYieAcgnPiE60wbEbPoEbpNi3784x9V3/zmN6vzz78gOhN668xf5qNJa6iqVFBQMAFYWcMe78FyO/roo+ML//YX5kvn0/UtUS/wbKbvk0rHHXd8fOFfGMTA+v6f//mfCIf4kT2S1xlwC7AsdQY+ZXfhhReGn7eTVDsPVuYrr7xcW8EszSlhcbKujRaMDrgFbMbT7EvdHG3SE4ffrnNFIDGdDqu2fR9x+7u+ErNYfBv0a1/7enX22WcHITb3mvCZjr/b1/NvyN+9DmAB+xADS9wXZXwN5oknHo/8CUNf8kseLyqlSU5/2+dZfrzPcFZGXCiZV88jc5a8chAPX//tt9+xaIN+94VNeJZudMIgHSMGVnp+07Ec5SjH0j9WqUlinNMWmy+2H3LIIfF1DiR9/fW/r+65596w8BAsIvDVGSTEr9u4W34XljIyQhII3pQ+L/m4ZFjsZm14kceF0CaSfpAZs2u4XfjvzSrxm4ym4OXLSenxR4vXCIGFrmPi+kFIfMtcIwjRc+4Ji9jFizT5mWsNxDUvT7mOgK/aaAOk432CdwAs6fyUFjL1WSw6ENa10SB9h5eT0kLwOkvvL5JwWe+5epPspkjusMOOsWXrLbfcXOep+ZIQX7ew4sttX8mpPHQY8uwea56L56CDDow8e/+Qs4S8VE43DGJXdl5o06f0lEVBQcHSx7gJHXzkuLHmbo+XYz5PhgwSGrYXbBo6skb0LEBhksj8zRI07dGMEqQ7iJ+6jYzLC9cXXnixtjQ3CqLde++96mOfIGL3vJhFYsgbYZGLjMjJDBBESU7ps+pZnsjK7B3vA7JTQNyAAPn3kTRdiD8JHakiX52HEQZCR7ys4J133iU6rAw7KLi2xPnss3NjJotOE+iQla5jJGt2MtxdwjXTRJuPIdO/vO6zz94RlvxGL15Iy7+XnvLqO6zu0S1d6bR1QtxiM2fuHEROr8KRS9nZ21ocBQUFHw1Wqi2uSWVOsViRdk71YynrMHQ4LH6k6iUhEuSicUa+06dvUJPdO0Hk6Vd3HYEhLO4F8Zjd4WUpuJ9uDp0A4kxCI4eOwojBdWkjRy4P6fud7wX6WbTpHxefuIw4pCE/7efEY8TA7SOMfLCWM90mDLlWCStbOC8xkTzrmy5EN23aejH1VFxI3LoC+jQHX5zkl2cyyZ+/xWEERi+ZVkFBwdLHpCP0JEhHL3JJIkTIiCkPQJxtuC6ejLczzkwLOp+F9vNtIHWLfJBrPt8JlrPRD2se2uGk1U67E3m9M93MBzh33m+jHXfmwbXUFaQc/eIpKChYOph0UxOShPoRTJJTWr+AmLoRsmsZV7c4Xev1LLSfT/jpOsuXldyc1wjrNw+/zZ5xrx23uBxtsu2GDNeJTpLuh4wjw+Wzmd+Ua7R4CgoKlg4mnYW+PAABIse03nuRM8LM+/3CLQtIUl+WZSwomOyYdBb68oAkvSTstsXbPiDDLutESb5C5gUFHy0KoRcUFBRMEhRCLygoKJgkGNqHzmVgaiAXgSF3+lK9cMx50uCeHRZXW231+u8/VwsWNCsK2zCl0EtAcViqbiqgKYSQrglhoP1spuW+mSspQxv81cIUt0BBQcFkxVCEjjitOjz00ENjkQ3SRKqI01arVnzmNYtvcltc868tUrHs39xlc7ytntxll11jGp/f5jy7b7GOFZyI3iIdi4LEJ22HhTK33XZbhDP3fPbs2UHqCekjfIuabJfbnpddUFBQMJkwtMvF4hJEaxUlcrf4xTXT8RCnvVI22GB6dcwxx8TGT4jZYhS/dQTI1zUrOq3KBCsoEb8wrqVl3qxSnBln87gd0rKwx32bgPndPiwusuLR7o/tEUNBQUHBZMPQFrol5jbWsnTc1rlcJQnuEoRtfxBfubEE/oILzq+t9Y2rz372sxHm/PPPj9WXlpFbUZkbcdkz/cwzzwq3y3e/+92wslnfLHTPCOdzag1Y3M3OiW0geXuXnHrqqTFasAy+WOcFBQWTFRPyUhRJcpOwmKdOXbO2qFepCbjZyc91VjLXh42vbLnKYmals+JZ20jbnjCWqifh2gPG/iTpXmnQ+Og9t846a9dxT6nTyOXxDZlLR7rOwukoxJNxj8RVUFBQMLkwbkJHmkmcXCZ2VPzSl74Uhy11t9hi87CgWclI3eZVLHF7iHCb2P8DuSLmJG1xOfttLxF+eVY7P3mDlcKlYxvec8/9i7Dy999/v3C5eBY8C17U8sfzzfOf2yExZS4oKCiYjBg3oae1i2wRNZeLDaMQ6gEHHFAdfrgPEa9T/262WPVtTKTrI8M2l/K9Sr/NeoE20fJ92+dER2D3Q3t6u8/SttOhzaTs7e0l6DHHHFsdcOABQeAJcrHOfe1ojTWmxva19kVxvaCgoGCyYqjtc5EscjbDxP7cPh9nIyl7Y3sJaZvXl19+JYjVDoC2sJ01a9c67E3xHHeIXfoeeeThcNEAqxyZexnKDXPzzTeFS8Whw9AR2LDKDBikbj9vHcBDDz0YhJ8WPjePl7BehF5//fVh6RdCLygomMwYyoeOIBEtd4o55n4jatY65LdCXeNf9wm6xx57PDoAL0sRrymMI2S+VuzRzX2jc/j9738flnVCWH50z7LuWeo6BBtZTZmyRowGyMBa55tH9HznOoKCgoKCyY6hX4oibISce4gj2lz8wx3DQkbEyNvLT98IdZ3FrjNgZTvzg++xx57VXnt9ctGMGXPR6ygD7U/HZTrIG7kLI52UwW6FplH6qMO9994T6RbrvKCgYLJjKEJHpqYt5lf1ETl3iy/mIFZuDkTLkva3wyIh7hBuGL9Z0J71FZ0jjjiiJvF5McUQCXvZKg0zY9Zaa+34xJqv3gufX8zxkjU/FgHueaFqHvvcuc9WDz30cMhSUFBQMNkx7nnoSNKLR26Uww47rHr99dfCUvciE4nfdPNN1XW/vS7CcX3Mnn1orBT1mTrXHD5Z5huj/ObmivsOJvcMX3szx3yl+OTbBRdcEGmedtpp8fUgBI7oPWcR0lVXXVXdd999EadOwGfRLFrSMfiOKZIvKCgomOwYamERi9xME5YyFwpwofh+piOtZlh33XWqXXedFVsAvPf+e9Wjjzwai4OE0Qmw2Fnu3C/tL/F70dmQdRVhWOQscG4bUxF9uJiPnAsGEL1va5LHjBjTIwsKCgpWBAy9UjTP6TdHyA5oW8bIWbh8JgkY+vm3PQdNmA8iTguXXE+fehvtuPLZgoKCghUBQxF6QUFBQcGyg+JcLigoKJgkKIReUFBQMElQCL2goKBgkqAQ+goOL46HeXnsJXS+EF/SL6FHi3/YvPSDeL2AX9J5HAadsikbkwicl2W5CyYOhdBXYGjo5vJbWTtWeNZOmeb854dLEu6ZPopMEImz+0n8eV+6rg1CNhm+PXOqDXGa/mrF8XiBsM3QSuJuyyVu02Xb+fwo4WMuZJLv1OeUKc3vBF3svvvusTeSci6kPvkx1OZcBcsvNG5fmDrqqKNizr7VvJ1TQPsBgWy33fZB5hZ6+aQgIOgddtghtlC2p46FX1YSH3vssXHPmgEL0hCNfXvs1ZNbKXcDORG5sFYgi89q4ySyhMVrdvm0VsH+PtYp9IqzG4SVTq6nsDgunye3PFjJjDSfe+75MelqoqHcZs8+LD724hOOOrnDDz88dGq7jPzMojKyJmPfffcNfdBLweTGUBZ66fH7Y1nXDwvPQi8khrTGQoAs1W222SYs2jvvvHOxtQcIx70kRwRuQZgN2kAY95CNLRz66ck9spHTQea8ns9lGPH7cIq/+8XZDRazIe3Pfe7sIEYypj78TU6L6KZP3yB+f5Sge7Jsv/12tVzNKMeiPPv/s8RTPov2nnji8egAfVSGzseql4LlC0PVTBWHFQC9LJa0FHo1MvdZcsL4e9gKl41QfIbIncN093NXRgeyscsj+fLZhN/i0Zg1lM4h7WgQVn6cySGOzn3byWanSjJlWr2G9cIbRrNGxZdxpUziyvvOmT742yGfnpWO9FI3Nj9LZDw+JpLx5AHO7tki2WpdHxDxTKbVuCwW9zd7xu+8lmfPyS/dSKtdDs5ktK/PddddV1188cWRnuvtgx5sF2Grh1//+teLtlFup98PwtqXX/r2zycPOcTrPIKmLMmU8pLftYQ0Xcs6IywIk4f7rme9F86hs3IPxOO+Fdbu+TvTca/RcfxchFxhDcIKZ/tqK6Z1dMqrWz0vmDwYyuWikhx+xOHVhhtsGNaAfViyQoOKw2riw2NdsRQyTFYqYVlzhx56SF2hV4u9XjTOdphB4RkNxLD7kEMOiaGm/dIRmC0JEAMi8kFqX01ikRmm77bbrGg03AE51FbxNQCy77fffmG1sYrIZlg7CIjPWj3ggAMjHnHY1lcchsoaqQ3H9tpr79qC3SpcCg4bixk2O1KXCCL91c7yKF9kkS/yi9/eOvaSt9skPyt3hj125KmR5YBq//33j+0a/FY+dGMLBSTht+2L6Y8srGh65epIkNumbOLwARIfOEnQmzxyuxji2wJC2dO3cH4jLha7fJJr11m7VnvXeXKNayD1K882beNuIQcCtaGbOpSYPn39Os+HxIdTpKsOvfDCiwPtsDlSX3aq69/skFH+GQLyp+7IK3nkofnd5I9MfkvjpZdeCt25t/nmm0W9c9+3dNWZd99dUOvYfvxNm7CBnTol/7vssnNdNw4KXcqfzpEOlZ+y3G+/faudd54Z9XbevFeinemwlb+O5/77Hwh9+HauzshOpeRJqM/CiY9OnnjiibhWMDkxbkJXOZGIhoBgDOlUVGSVW+IiIxUxSUil84wwb7zxelQsDUojsMEXQtJIhHH/jTfejIaSDbNfA9U4NT5+RR+tFofGoXG6Jh47O06b1siDAMjLh2u4qgFruEhdOhrtWWedFZ1N7hJpYzDp+ALSaBBuww03qs4444zQDQLXGDVEQ2Pkhrw0ZPIgLDrTmHU0Rg4sK2E04KOOOrIm2UPFHFYqUiS/BqpB051P8yXpIRKdhQ6Sf3z99aeFnxWZ0zt9JCkgXoTuWYSPSNxH4uJRJuSfO3du6IZsyhLJ3XPPPYuRvTLX0Te7XT4TaRvqI2uyPvnkkyG7zlK8OhXPrLLKqpFvMigneVKedCWsQ37dU05ZF4TfbLPNQxZpkA2peX60+gLSoJsNaqNEB0nXLHz1b/78d0LXOkV1RDlOm9a4dJQLmTxLfzrfTTfbtDrq6KODyNUr5UnH5GrCNP5uebJZ3U47zajr1KYhC51oC0899WTUPWVJ9zon99JlYv8jMm+99VZx9kEZ9Ur9Fbffyh/kv+loVo0O1t+e1/766aZg+cVQFrpKy0JDnBqSyrvnnnvUlWu7qFzuq+jIAskjVzsqNpbq5hFG41HZ77rr7miEyCDDaEQwf/7btXXR36oQl0Z9wgknRIW95JJLqjlz5gQpsro0KmSi8SAjje2nP/1pfM0IWSE/sBEYy9BujRrW1VdfHXuz+0KSfGjcwveDNOiDlSYv5Ljsssviwx70QE/ySh5ySefmm2+OXSURlny4Jj06FAcyfvDBh6qLLvp5dcstN4ecyJIsSJlFrcFeeOGFkSdlopEjDzpAHOTxjHzzeyMmpCSsMNKVbzLQn7Jl7elsEO+jjz4SHQTiI5Py9DI0N0BLAhGfr03p+HQeCN8++Ag9yUucZLvttttCZl+c2mijjSMdMqbVm1Y+S1x6CKtN6PSIpMSN8OWJbkYjLfdSXvLR9XvvvVvrY+uQ9bLLfhXlRQ5xqotIUZn94he/CLnVIeGFcTAcZs6YGV/vyvImB8tfOp71jPqIoNV9ehbWB13oSz1m/DCELr/88uq3v/1tlIc6ybiQjt/ySMcvvfRy6EDHSqY2mQN9Ky/f1kXsdKVO9dNNwfKLEefyOIFQVODzzjuv+t73vlfdcMOcaJSnnHJKbHer8mrgtsn90Y9+VH3nO9+pyfvOsMY+/elPV8ccc0w0VNvk/uY3v6l++MMfVj/5yU+i4SI+YXyflPWicvaCCiotaa+xxpRwO5DhyCOPDOJwT2ehYWlUSEgDY2mxwlRyaWi8rDTPkIm1h5Q8ozGxrPvJkWA5sug1InEdf/xxYXUhQveQp7TIrdHTEUuLPhGMexp3WuI+3kEnZJL8O+8sCIvZyEEYDR755c6T8kdejRkZGbGIT55dRwKIMv3N5JSOcCzBww6bXZ144omhR9fo1Z708i48+fzdTRfSp1dnYYWhw86wXADy07iXXg8iVwZkIStkeXlUXN0gXuHa7wHGgpSx/it++9s1MrTTfP/996IzQZrqC13LA3nJTW/KVifJsFDeyFwc7imn1IGyVrd0pGT3W9ziaurwGmHpn3baqTG7Rh1qRiObRXwMHEfGR0c58spriSYLIz78gsmLoQk9oUJp5KxFhKpi+q3Cq2DZMN33ubi8D+6paMIJ4x4LNwk2w/SDxofUYMGCd4NQpI0skZjvkGowwkmnTTDO+Tc0Mk6J58XTRrtRZDzCZGMC9xs9rBHXyfDOQnlY6KxjllLGk7pJEmvLk7rwLBJ2PXWVskjHGSmIJ5/3xSb6o5cMk/l2pI6ArnUyGY8Ow/nV116NjoQFmZYded1LiKsNYfJItP9OiMeR91J/KV9nvG103m/i+HAag6JTvoy7nY5Ota0/cEb0nqdn+n9nwTuh1/nvzK9eePGF6o4774gRQOraM/7WeYsv03ZWDspKPHzvSFs56bxZ4I1BMaKn9rkN1/K6D8RkW5ReweTF0ISePvKvfvUr9fHV+Pvpp58JS/u73/1uENgmm2xczZ49u/rrv/7r6gtf+EIMNw1Hv//971e//OUvw0rcYovNw6L5m7/5m+qcc84JC56bg0V/6aWXLFbxu0HlRXgaAavHMN7BjXH++efHsDZnSGT4bnC9IboFi8gf2nu0J5A2OQ21jSaMNBLRoGvSkzdD55/99GfVz37WHGZr5JBdfIg3/06kdZjkqUFq7CALbV0kUbi/uJwrRV7oRafSJkzPizM7TOFY9eTl0lmkv/MvCBeNPKSrQ3ysac9mRzEWSL85mo4sn3duZBvJfxtNnj6MvJ7xdv49GjJsknUv0F+GTVmbo4lDORhdXfbLy6LOXXhBo7+LLryomjPnhroMfIqxt5UsDuWA6Js6fFHUX3VGGag3d911V62zD1vh/cAooE/xKrte6Rcs/xiK0A0Nzz777Oroo4+qf60UU8b+3//7f9UPfvCD8OlpIIb7p512esxiQQh80v/1X/9VV/ifheWnEXg59oUvnFP5nqgGoeL+53/+Z/gqG7/r4gTWDYiheXn5ZgxPvVBKawfRsj5V7NEagvvcGHyThsl8j6YremnHAuOOSYj32GOPqc4999xwL0kzgUDll3XNZ29VJVm4L7g2xJMWeS8gEPFwkQCfOJlYXDoTnalhPD0Lx8XjRazZLVxMDiTy8ssvRZ7EZ8juOa4Y8cmTPNPfCy88X//953gHwj1FXvJLk07pUzlITzlJ0/XR8tEL0u0sD/Hnt2EBAeo4XHf4OwkK8lr+7bqvXTna0/j6wXPyrS5mJ+Vo0hmJo1d80vSsclK+DBblm+WtDay/flNudWqRXifkNztvxKss+czNnBGPuuZa1ptucXSDMvOC2vOMK2VXMHkx1EtRZKKyeaHnC/0saiSmYmaD0yhUvltuuSVe1nmJxmfartjISUUz1zhfZKrUnY19NGhUiMnMEZYzEvciK6cC6hxUcH5N4bz0k4ZGYtYLl8Kd9fDYMJclo6PxPNKyKtKLWs9z4QAynDVrt+jYWLY6qCRfVjfCQ6Csdy+BEb5peHyjGi7/sZeD7hmSG0HQhSlmnuOaER+rrSGKXSIOhziE43tH1p7TcXjJ6pAfjfiWW28JuZCkjoRu6EK+EI/8GM7z59IfXWQ8ZODz32efvevOYf3wuSchKDt6QfbcR/IzKMmQFVl53rN8/+oSXThSj8rPzB7yuE42Bx+1tQOvvvpaXDdzR5m6rhOz+Md1dS/r42iyqWpTp64R5Uy2lAXEgUyVI32TWZzKXYdvROpFpc6gmYrY6Jg8poAawdGb8s3nxPXcc8/Gcwkyuq9D3nHHnSLfm266WZSzF9rySC9GUoPqWsdMBu1UG8z6WTA5MRShIyxv5lVyBAgqWruyCYMAhUFMnfcBwWskKmqvMIMgLUfxIAPEh8RSzmx0iFgYvxE6gkEECPbxx5uZGGTy0gspapzik0fEJw0dloanoSBUYRGejgjE4W+diDAaN3n8LayOTXwsZY2YLCwoJOQaCKOTIb8VfzqahtA3DwJ85pmnI1/CIB2dClkRMZl0jlw7iDo7EATuvjOdS1d+kOqCBe/Usj0XepSGqXFehPpwt86a3G3Ii45BWp4ftMzoLjtxrhtl4ZrRgI6WHukfGel0XKdLZEQ/fvPxP//8c1G+ZCCLPNIF3cifZ8g8qGGgPKQhLmVAJmWi7pJX/poXz3OjzKSz6qqmGjazcuhf52hEp5OmZ2HoPWc4iUNc6qCw4m7rTbwWAykTdVJ5cllys6hL6t+gnSddMWwYEXSK0Ol30HIqWP4wKb9YpAGrtBqNs0bersj5d44iXEaWfjfH4sN+DVzD1GCRUD6n8fmd6WlAeS/RjkND1hgRh3CeEYcw+Rv6XSMHstHxZTwJYRCZ+/KMyLvJg3CcTUEEYTrjkRejAlP53nrr7bjWDkMurgTvRtzj6x2ULKQtrLMO1jMO1zJtZYDE6DchfIIs8ip8xgXODvGJW1xjhTTFCZ4Xjzgzf36DtF0nS+bbb9eVtY5HOSmLdhgQV+dzkL8zfWUpn8paXJ3x9IPys4CJhX/FFVdE5z3oswXLJyb1J+g6G8kw6BZXXkv0SycbujAa5XghnrYsnWnm/W73Eu3ne0GYlLdXXIiNCwR5cSdMJjTZbV58jgeDlEMbvcpkrPG0keWjQzCCUJ4Fkxsr/DdF0xofFNnwumGsDW4yoBcRFSw7KGW04mD8puIkwVjIHEqjWBz0UXSybKOU0YqDFZ7QCwoKCiYLJpTQ+ei8UHIUf93khSF8KeeCgmUPK22yySZj8zn0gNkApliZw6uRm0bXzH9uZgJ0a/iu93prL/x4Xh6OdWhJBofnLEZpz24B1/N3xp3PZJ5c70y383fqYSyzFMaLTEs6o+lQmAwLmS9HPt+W14s288fNv37vvfdjKp459GZhtMMVFBQsfUwYoZteZdtVm2GZN23esuXPVuCZPug+skg0q+aazb3MYwb3c7oc4pjolW2dhOO36YRmApjiZ+4zedOvTp6ck4ywkrSQnEUo66673ofi9Ixpak1czTRDKzPNqTYVzZxre2N3dhwTgZzVYBEMPZrZYD5zToGTXiP71JDLNDhTMeXBPWczInIlK1IXh7xkOXjOhl2nnnpqXDMVzhYBnfOpCwoKlj4mjNCRBEK3os2Wn5b+Iy4LU+zvYoFINnhnhGNOtl0Yb731lvr3arEUPVdA2jL3kksujQURSwJkQNRWGVpJZ3GIfWVef/21IDX7Y1uZ59DBWEF6zTXXBokheatPPdu2YBEqkrQRGB2I3/7i8i6/gEBtz2rrUx3fRED6ZLQ6NLdeRdCW/Ntq4b77/hR5snf39tvvECteLZiycOnKK6+IRTriYHnbJdAiKnlp4ng59na59dbbIu/CKeutttqy1sE+oQtbNRRCLyj46DFhPnRtmcsCWHWIgBWKtLherFrMw859yAFpsNBZ65bZn3zyyUGgSGLttZv5sxNtxSakveWWWwQBWpFnLjVIDpkfd9xxsWjG0nbkt+aazSIlILuOxlYGtjxw2P6AJYu45R0sAdfB0Yd9aa666qq4Lk1W9ESBnnSCOhj6vvLKKxfu2X173YE0OyTK42GHHR4boFl56FuURk51yUUcwmSnIy+e19mKe7/99o/OVlk4jECef/6FCeuQCgoKJgZDLf1vwzcZNXrLnVl+abGlm8GyZQdL2DUEzh1www03xO90SdjPBYmwEln5yHBJWH6I2hfvEVsuGecm4nphgSJxe71Yam1PDwtn+Iq5ZGraD3dQ5snheeFY6IgQjDbsicLCzX005BH5WkI+UYtxjAR0HLYtZi3bA0bc5Go6zMa1JE/yQBZuFS4knS2ZgOtLnl3zvPJB8t6LuOfZ9MnTm2Xlq6/uM2j3L3LdFBQUfHSYMAs9MVqjRiwIze6DuQ8JQrHXBavQfs9+L0lyQID2t2Al33LLrWFZS65J0/czX4jtdn24o+03BxY8KzVdLQ5+ZS+EdRJJosKIlxVr/3edlCX3iJSFjyAnavQhfRs++VyZkYbNoJCtTpJ80tGp+oCIUQWdp+wJYfjMyStvmb/MK5kLCgqWbUw4ofcDgjDMt1GVDZ9Ydgn3kkSWJBArS9pOdixyOzsCbk2CJUN/eUZmvgBCZYmz9MWJ/BCjz4SJ346FZ555ZnXKKaeGS8kIhgU8UXllmRtVsKS9rLSV72c+85n42lN+Wg8yX72QeXJ2KCubgemgdLTcVAUFBcsuliqhI1MbOrFSzY7gllmaQNBmb+T2tVwjiLdNdMnTg5KtcPzTRh121bO7n2sI0UgDuSNGhM+KR/6uDRr/aJAnIwAjH3FzU/385z+vbrrpj7XVPj1eynph2g3tTqkT3DPcOF6Uesn72GOPTpjMBQUFSwZLldBZeLZk5YfmYmmuLS5CP5IZFtLnijBDg/WM1JEtUnQgRB8UGAs8wzLmxrFNsN0J7Q+DYM2eMfPEV2Z8sMMXnLiZcibPRICbhN9eJ8Evf+ONN0bevBB95pm54YrRkcCghKzTMzMJoet4fQN2rFskFBQULH0sVUI3nW6nnWaEuyVfCH6YKPzuPUcb8SJhFiQ3w1isRs962WoWixksf/d3f1edccYZ4UtH8meeeUa4YrohF9p0ghwImlsCoTb5aaZEipe/2jRFoxHWuxk+RipcGSBOcskLS99zY8kTPfHzS0cHNWL9N59EE7cXm6N1lJ5xIHNTMuWJtW/65euvv7Hofh6ZT38XFBQsG5hwQkcceST8jcTyk2es1HzZmECYjYvC9zWblYp+OzwvrLOXfoceemj4pE3Ty6l2o8GzyI71etllv4wXhNdee23MBzdjxUcFbr/9jmruXF/NJ3vjMnGQxfM+Buychzx5H8CFxMfM5eJ6podQPctaTyIkv3sZp7NrpjLqXHQ0OomMZxCQ0SwTnYG4fC0pRxxcSu5lODpwiN/h75RFp2KOOjI3o8Ue2jqi1EGiLdtY5CwoKFiymMBpiw1hm7bIndK50IR1jogRjdkjzXRElqE+5YMgI2TCReGlJVJDTqxcZOJ7oYAc991333BZICppIZzRkB2CLQmefPKpmD7JombZkvvtt9+qrrvut0HszRz1LSMdLhp+f7LIA7nITiZ/c0sgdHO3zXAB6UiPu4PF7zm/xSm8+H1JyLRAQKRI1MtTefEi1SyYtv56QRgHvZjdwsJWFubA+5KPr+LQtzBGBfvvv1+8KOWGofPMkxHG9OnrV8cee2zERd9m7QhLPzpO+U6QWfz0UqYtFhQsG5gwCx2JNXO0kfuqYR0mEJiXa4gRwSCyJny6MlaufLOSlcrq3mijDYPYkCFSRfDCN66J5gWg36xP57GgTTqNDI0lbWSQ7p+ce+2F4owZzSwRrhqy6XTclyfTAl3XeVlo1JbFCARpc7EgUoumTjzxhCBcLxl9/i1lEd/UNafG3/LEJz4WcLXo2BxInaVveT5d+3C3OJE8PR588CHRcSgfLh5ftKF3eVljjamLrHzxWPl7yCGHVAceeGB0bEBm8nq+EHhBwbKFCV36jwCRwLx5NuZ6IFZGpk8XCSMzRNc5BxsvWPpvNka7IwDuA1a0r/kjEtP+EJYl+ldccWX4eYfB6qtLt9m3xLxxHYmOY82aYF1PtMlfOH8jPi4kz3DbtPMEGcYogyUsHCvXKAFpS4duWMAIn46uueaasKjbLo5BoQyMCljc9KzjpGuQjvt0TN9tUeWpGRFU0bGCv6EJZ3Xo22HFp/V/+OGHR950GrZMkFYh+IKCjxYTRugsVsTFp5wuEq6DJKY22fVq+MI4ut1HfgiERXnMMceE9furX/0qSGZYpGyd6bZlbqMdrtezbWSe2vFleB0Ya9geKl4U29DMIqB+8fVCN3npLeF+tzAgPUe/jiQ7IC6m3FVT52YmTE7/LCgo+OgwYYQOSRYaejb+iQTyY6FzHXiZyQe+PJEI/STBpq7SFcKlwQ3jZeRE52mi41O+DvHmUVBQ8NFjwgi9V6PuZRGOF+JzLI9EknJ3YknnaUnpicwFBQXLDib4peiHj4kGcloS1v/SQC+Zl9c8kTePgoKCjx4TRugFyzfGS8o67XS/dMOS7NwLlh20y7lXWfe7VzAxmFAfesFgUKmXplXbL61sYOORxxYHtk12NgsmIa7MoxfZOc3UzB6zb/JeO83mT//pIEYafmc4yHtLEinjWNFLtozLOcO087ik0ZZrrOl100X7mtGlcnbo3JWzqbRtCOt9kfdg7plZtTTyvaKhEPpShIpv6qa567YByCmFSxq9Go7GZYGRGSpm2GiM3RpvNwhjtotZR3DppZfG85BxmCJp7v7ee+9VE/n8mGJqKqt7SF4D74SpnbmFQaIhDNNZV6plnR+ED20524Q1DKRleixyIgNZMm5n98ktTLN+oZGTLPTpuYRrnnEIm7KbEWa6a3Z0FmVlRzdRkHaOnHK6KpgC7ICUTZgkW3K210GkPsirDOTXFOJmVpM4qsizBYEWDrrvxb6V2GagiRvEYXquNQ+PP/5Y7DmU5VgwcZiwlaIFo0Ol9mEPc/URqPnoKnweSwq94jZn/YgjjogFRqYeItPR5EjS0YjNR58xY0YsaLLyNp/NMyIxK0k6PqohnEZuEZOOwAZgFjlZJWvqpk/1mfGDLOgGmZgKa28ZC8x0Pi+99PIiQppokBtx2StfGZnPbyYVkiKLe/JMbvLShUVliNM9i7kOO+ywyE9uoSBcbmH83HPPh06EM49fvty34E7HkesbJgrSsjhPWvSNdOnTtFhpyZOFZFb8WjyWi+asLSCH+xYEep7+P/nJvSL/OnLy5upt+VdmOiU6Ax+GEaYNG/FZZLfttttF/bd2IzFavSsYDEP50BV6WmX9IFy/ijra/bEg4yEXgnLuFnem6X6vPLTj0qjb4cZSATMd0GBYQxpLW67RZEm0w7WfT7ie+SYid0gbnhm531iVLMZOZDy90kDoPuGHoNv72reRsmrYVtLajRJcQwCIGQlkw7dtBMIBMiGjz372s/HhcR0HskdS3WSaCCSBNVtLbFvLsvEi3ZDrpJNOij3m7aJpHr6OCciTemXdJrn5rTMTpzwLo9OSH/XAdhH2xtfJG8noWCcK6piO5Oijjw5ZEahpsfLDWreq2/bK7ts7X+diOw2jx8wzfVi1jcTVf7IicZ2wDm/atPUW1RMdm/u91oXI+7x5zVe+pK+jp4NC5BOLcVvoCggZ6K2zUF2DLKSGMFar1ltPr73SIlJsF6K/fc7MF/TzvnjGW9Aqocqci19UHo2MfJAV2nAXKbH6hBVG+gnJW73KRWIPFmTj2XffFW70vWMSZNEoPE9fSICVYliaC4hs2atxbL75FkEA8k+etq6ckRlrjjzyQN6UOe8jD/HLX+MSGJFVOvIjz8hDGPPfDfktAksdiQeBiYf8qb+UhY7dR2yIWkPOe23Qr/ilJUyOSBAecr/77rvic3lcMSxGQ3JhbI0gX9L37D333B26MOS3Apll1y298SLjQnD7739A5I3e7Oujs7IpmzLcccedgpBsxGbfm6eeejryD+R13VYPeSBRcSmH3E+HlWzVsC9H2Y9fGFYtIjVKQpjD5k39Uc7Kx8jBl8CsQLYxnUO9U4bqIhL3W/mrU/5WN+kblJWy891c5aTcWPXq86uvvrbYWhDPi8/vtNDznrM6pA3pmMlFX2UPoInFuAldISAfX8hhCSCBtE6SGIRRUT/1qU+FhaWBI8T589+JCqNSKWCN/rTTTo1KgnTE0Ulog0BYG0rZf8TQlxXgQGAshzfeMNyfHkNIm2QZ7n7iE58Ii0Pa/No5nFdpWS2sKUPnmTNn1EPTHWv534sh6Whyua0jO/TQ2fFxZpYZWRCyfGtAyEvD41fk+iCPMIbASMA2ARonS0ZDOfLII+qh8/4L8zWjjmujWpZnQ1eIXByGzu5Ljy40UL56up8xY2Z8/FqeWYVW9cpnNmhAquIxRFeu4kJAdpJULvJNHuF0mL7QhJS6QZrCkQMxJqHL08gx4hpA4L5pikDUIcTNTUPf4kECfk80oQM9fOxju0ee6YJMyIbc9IucWLh+6+TUWYSO4OUj5cl86byVmbJEkPbEd43OkrzVN52qckDqSDDdGMPkT/raJtcR3ZFZPZMnbUrnI375QtCZRzqm2zahG2kot2yLylQ5qccIue1qUz79CB3UfQaUju7JJ5+o615TJwomBkP70DVuFRIZaZQqqwqlMagkClBBawCI037oLAP3EI2GK4yNoYSZNWu3IH9hVAjxtK3DfpCO/WT4Alkif/jDH4IUNSrxeRmjAe2+O1/ixtGo+HbFLYx0WFzyJD+2skV2rCnxIXty9yKwNjReHcEhhxwcVgwLR+NApMhahdd4EAiZ7YUijAaisiNSDV6YzTbbtDr22OPCgmS92l/dxyu8VMqNznRQSBzBWkXrmqGy/CIi5SI/RgI33jgn8qkTQLYavTAsLC+2XPPSSlo1PURHID/ICxkghuww6IWOu5WPxq+Bs7LbhJ7wt0PZsFz9rczSv0tP6gCypTfpLglC59tlNXK10MXDDz9U1+mto7x0LuRAaMpfugwE+VJWdNI2PJwdCFT5k92H0Ns7VRphIVwkrt6p98hR3rLTHAYNaTY7fSpTcthlU9tqOufnI2/kdlamRiAIXRnp0DJPnYf6o+ylYRSSIwr1LS106Efo6jcdqsPtLacLhsdQPnSE7AMI//u//1tddNFFQUAa5uc+d3Z1zjnnhIWLAK+++urqP/7jP2LoZ1OtffbZuzr33C9XX/rSl+rKsUtUoksvvaT69re/HbMgVGovnr785S/HRydUeuhV8OqKRolgkDnCZRFpRCwQcrEqNtlk0xhKq6xeUF1++eVRKe0Lo2KnDzMbgWvXXXddhNHYDJGR3CAVEJnxMbPoNWgkiyQRaX6lSRiELj6WKbn5InU0Oif3EOnWW28TI4g77rgz5CGLjoju5TFdJ9lxiMsQX1zyrSOQNwTCZfH7318feebuyA7VSElDEx65P/roIxH3o48+Fg2TLJ4nq7A2L8tGOig829adv1m70lV2yorM5EkkWSxJcPcxNtQLZWRGTqabO4gOCs94lr51xDpc9a9x170bHQDXBVI//vjjo577ypWymIiOKnXFQNKp6Mi105tuujnIt3nhe0jUq8QgaYpXfd1++x3qODeODtp3DfJZ50HioeMw0FZeqVo9Zi4VTCSGIvQkAsSHRBD2xRdfXDfMp8LiUVk1VGBp33bbrdUFF1xY/epXl9dk8XJYBPkyyBa6KpwGZYMqZItIdt11VlhOKmDTwD7sX1eHPb/uus1e4CxPuxd+/vOfr04//fQgO1YIWZvwdg98KzoOeZCOxiZevzUEhMo6R2quOdzPBtMPwiHZtdZaO+Ll7pG2zg3pLljwboQTJomW9UxeL900OvLKi0aUIxrWo3PKmRCPhkLWtPCka493fmduJp0UGehYg5KPl156cSGJNL5+Q2HhkNtZZ30m5LERGn8xKANxO4wOBtFFG/lsG2RHbmCon+6Adtydz0wUpCFP6qE6ky4P1+iXThBjW9ee6cx3p3yeF59nEXiWiREGg8csF2mp57Y3XnnlVeq2cmBYrWPVaS+oD3TJgLjkkkuqK6+8MqYSqiPSUdbSGpG9t45TdsYSI81oQnvPexnHWGSvn6r+/H7TWY7IUDAshiL0xDrrrB3De75X/muVhZXHNaCBIBLEtccee1ZHHnVkELShqOHsrbfeFkNsYfjl3DvuuGPDhaBSsmbuvPOOIKjRSHWVVVYNslLhVF4jA4ftXS+77LL6+lOLNc5uFdE1smRanWhfy7BcNHz/nfccGXfey9/Oed+wk+VtdEJenZlGyAp3P2Vux98J4eTdkb/rf0EWiImcbbg/8sKUrPTXdM5GN2RBAo6f//zi+HqRsiSDslBm/vZMP7naaGRaXNc6M4TOkuXCAOWeYQeNG4TNYzQII/42oTcd2VmLvhplhOVvBJjPtNGuS22o69wddGnUlbpnKHAdIVquJaMoozfkyOplBMn7MMh8MVKkr8wYU2TQsbw9/+3IM4JOHeeRSB1mfrMj8n7m5ZdfCpkZO51tKcP3QqYhnHpKvs60C4bDUISuoPl/v/zlc6Mh8K0ZMrPSf/KTn1Rz5swJMkH03Ceszx3qIRuXwnnnnRcWig8Q8+vZPvaLX/xinLfYYsuwYH76059WF110YXXvvfeNWugaAktYOJWZH5A/Od/s62AsiBit0olHAxCHis9CToJRCf2dlZfl7IXvV77ylbBo09IUhiWtwmpICN81QBSuiU8DI7MzS468OrCUOy1yYejRqEG6nk15smHYN551LS33pOFAHhp1E+bPcT+hU82GzTXEYhcfF5ghNdeOM1noM0cHCF0nJH4kNZpOu0GaZOHiQYA54yE70owz85rIsoDUhXwfeughUXfSvzsaPOd58amz8kdP9EUHkJ9CTLTlgJQlrzurM/nSUPm9+OILcU9aytCRZer5/BuUReZJ2TBuTJX0EttIZlB4Xj4c5GkbBKvWZSZdZQjC+t3OZztfnufy9OKefn7zm2uirNphHIOAHOkGkm+uoHa6BcNjqJeiXuz4ZJnCYW2w5rhMWFsqkznQSI/rxdQv/l2WXr5McY2rxIsU81o1LH7qq666MsJkpR8EWam87ORvfuedBUEQGgmidbAqVVAvXclnOhwgBCMM4ZEpn6aPW/AbI63XXns1iF288ozw8rk99vh4WHLS51NkuSTkXd7kQdpeHmukwuqwDH/FIR3xe5Z8Rjgakb9z9CIeadMJwuHKEp+G6dh0081qC2+ruO+38PJEp/zl4th2220iDukgDEQhDm6gnNnAWtXguGLoiHwsRySVL2AdyNiMDY00X6J1Qp7Eh7A7X4qKg37og2zeMZAr74M0hEGO0uK3J4N6A/IpHp2k2UTKlSvtgQe6z4vvhLTUXeUm/XyvoFzUF4RsdJduN7ogC4tdXVA2DvcWLHhHjGGcmC7oLE4zYRLyaSTgeZ04HSsPLjb1VH3MF+7ylIuB6JaMnhkE8iUteidn1gmuR1Mv5ce7IPUIwXrHQi55loY86XiUP1nNGPM7261n1l67MS7oL8uMwaHe+W30La68lzK5n7NvjEzaYQqGx1CErsCfeebpIHMF2LawEiqSl13CPPTQw2EpdhagRohQWPQsVdaxwh9rQatcSGOzzTYPS81MES83+f6QCytdxVSxyZWWv4YqLNlYpe6JR6M0dObHFx/CkEf5IZtGaCrjOuusG9YGYkvS0ljkS4P1XD7vnnSE1bAsB9d4zaoRxsHHqoHRhTDioROklrOJhEN2RjvSJnMz26iJw9Be4zM8Ruruc7+47j6yR9walPt8rfQnHBLmfqAT5CQ9MiCVNnGTm5waZ7cXenRugQ4ffvqnE9khKBuuFm4eabehY/PiEOkrCz5p8uvsXnvt9XjZKE1yyJP06Ew5DwrPq7Pqm4NcygzxyLO41HNkxUo17VMHp7OVd+nqHB9++JGIB4EiLPrQQagvqRe6U98233yzqDeeVT/Jf999zejMSAmQpvrinnxqH8pnUKh/0lMndAomH+yww/Z1Gbwa7Uyc6q/yPfHET4VO5ZHO1Q3pP/fcs3Ud2TDqoxGCeiG8Q91gNNF30+YbmekNlLc6264T0pMn9U6H4tnOOlMwHIbey0WlUSj9CkYlhn5hBolnEGiU5n8jdZXTb5Yfy4ebQOXTEKWDDEFl1RBVQJV4obhRwVktGrgGzDpE5klMrrHYVFSNTfxIoA1WkjgQEsuHtUQmDUpj9zdCIJO4kBKCJq8waZXpiDQElrJ3Fm+++VYQoTAaLyKSX/lA9GR0X4fgPpDTfenQN71kxyNvkIRGHvFk59bONwhnZOGdic7AyKsT8mzOP0IhC4sMmYByQFbSQn6ZfhvKhRzKoSGNpn7QiVEFeehFJ3fiiSeGbvn+uYiGqUfSoyNlmvpVTq7RP2T8yF65y59racWT0bPutyEeeWb5etmMFHWIwmbdSd16IS3f/O3eR2U5DoqsM2YRqWPqFb2RV5uUjvpJHrJnO806wV+++upmazWuRGjnW91SbuqsTl/Hu/7600IXl1xy6aJO3iEfOsLZsw+t29k7MfLRHjK+gonBpNycSx0xCwNpNb+bCpXXQeXNygbCCtOJbETCa4zdKqBr2Rg64XoeKUevtNphpZXPJPz2bD4vTBv5bN7vloZ7woC4U/bOsBmXI/OdzyUQHzJFzF5Ci7sNHUiOPHQMLPwk9HZcGXc7r4kMl3GnzBkWmXBNeE9zxx23V1deedWEEUVG0c42PbWJNeXrputuyDj55z3rSP3mvSlT1ggr+KijjgorFvkZRY0lT6lP5yxzv8mZ8bjWRv52znDtZ/OcyDzrOIycuPCEYSjpgNruFHnUMRgdG/WoC57vjLNgOJTdFguWGJZGY2URc4Ugiz/+8cbqgQceXHhn+QVrWkdoNbBRzZ133vWhznJ5RCHvJY9C6AXLNRAEK50FyGU2VrfEsgiWqz2QvPNg5XJvFCIsGASF0AuWe7D8YLKRHqtcngqZFwyKwRx/BQXLMCYr6bX93QUFg2BCCZ2llC9ROtHtWj8MEn6scU4G9NJvQUFBwYQROh+m6YLmrdo/pE06fJymMw262s10QAsXTKvqBWHMooDxEJxn+Fs7XzaxiMRNXi/c8k3+sgB+Vbvo0XOx3AoKCjox9Pa5CXOWTz75lPhM1fPPvxBzVJEOMjcP+eijj4mXVpYNu96NkJAskray1BxcOyJ2rh4EHYP5z/Z7MefVnNmxElzOyYb2gg3xmC8rL1ZjmjZmyt1Y459o6NzsdGfTMXOLrbxMH2tBQUEBrIxEhz0iongz3+x9klZt+565qs7dnu38G4HawjSt57zfDufNvxkASWqdYfod5DDN7cwzz4xVcJD3xGW0gfDlp76z2P2P6gCysdLpMtEtbDmW7yPR7V45ytHvmDB/QkbYDXkdISFKK9O4M9rWpT/tE46gLQO3O6IVdJ1Axlwllg5fe+21sfotF2YMgoas1wgrHzGSx+G3e22I0yIPlroRSDcXUONqWi+sZvEkPJuHdIRzFs7qx073E6KWDt3oFHshF0YVTF70a0sFBf2wylprrTUhLhckac8TRMUdkC4XJIjAttlm6yBHFvG+++4Te0ewxIVTeZHd3nvvEx+ttZeE5cpW/Fne3RBj80k325lyyeQ+F1bQdS637wWy2IPC13+crXREolYyWsihk+HCQdBkQKwseXu2S89vy6Z1KAh60003iY2LfDDAKjl7XdiQjEzyRG4dgVWMuYeKTcjs3yFdy/t1YHRx5JFHxc6V3FP0Zdm0zipBds+QwxJ3m4iVRl9QUNDGhFjoiIvlaM8PPu/OTXkAmduMCRn69BT/NWJmkQJi8ywyZOnaVKhxeaTF4oO1C6rnnn+uemWeb3GuHWGQ7KDEJpxOwt4juUcHmW185LDPBbHJjrDJZtUekkf2SJt/3SgBuc6efVhN/LtGp2QzInupHHXU0XVnsfNCmUb229aR7bRTs2GW/S/E59hii83ju6W+bmM5tLQsj9ax6QzE0+i3+VK+Z9t7qhQUFBQkJsxCRzZ2KuQKYV0mWJbIm6VrR0Z7pdtpkHXsun0fWL2AGG0ChSy5JsTnWoLf/Nm5zwYhb7BB83UdowGWbGcH0gusW2l6EWoDJGn4aow4dSg1nceGRSx45Mn1YxtUedp+++3qc/Olc6TLirdDni+qP/XUkxE3wjdKeeyxR+sRSLP9LOtfJ2dPDnueeIYOjFB8mNho5LrrfhtbD4tbhyF+zyD4pkP7IGTwrL0wdEYFBQUFbUyoDx3JOBrrdHHYY9xOhsgXUXE3IHtHm4w9my86+5F0+1uPo4VNJDHm357J73u24ToZEKgjd5YzQmC5I1zWuO1CEe8ZZ5xRnXba6fF5LqMLu+hNnbrmwtiaLYTNlsndHcVHD+JB5uLZa6+9q7PP/mzMYrFznXjs2icMpOzi8nxBQUFBJyaM0PsBEXHJ2GEuiRdh9oJ7iCzJtxual4PDvTxqSHKkQ0jZnN3zIYWMn0w6q5SNK4aVz7LnbnHwa/tAhz3IbY0LTTzNV4WSiDMd7w1Y81woLHb7xYvHRxa88PXBg3b+2n8XFBQUdGKpEHoCIY1GSnm/89wPg8TbCcTMys9n23GMFheC5l556603Yzc8e3Bzuzh8G7T5UMHIl1ygW5w6BJY6v75OgDtGHFxAzr7Q36/jKygoKGhjqRJ6N3JKouN6yXns3BrIsJlWuEZcZxULw6IdCTMy9929QUEOhFvbyuHLN6vF6lZxJhqCX/ijBXJxH73wwvO1fKsvmrFChnXXXSc+XLDJJpsK2TzQB947PP/8c5G+GTBkaVw208OV49NgBQUFBYNiwl6K9gKS9JUXLwv5kb3kc80LUVPwvJT0UtSMEqtDEaSwXiZ6OelTXWZ7CGNWi2mLyM/fiJCfGflxgfBzD+pfTrlMJ/S8Q+fAty89fmxW+IMPPlCTf/NyU7penHKzcB+RzwtP0w7NZPHpMYcPNj/xxJPRceRLUW4VLzOzA9MxuE9eL4x3221WxOFF7V57fbLWzczIT74wLigoKBgNS5zQERfrmZsCEebXZJAnMjNVD3HmVEXhkB9izZWg/NEWGTUvCjeKa+IxC4XbIl0gnhmU0Pm027NFvGyUrnSQvRGBGSf5GTHXjBiefXZukKznzciRvg7AnHhkrdPyCbScWijvniObKZltyAe5m+0QVo6ZO16QvvnWW9WDDzwYnR0d0FdBQUHBaFiptnD7O4wnAIgL2SFJ5JTWKTJFlH6773fj6lhcpCRYQK7uJ8nlOeMZCzItsoA0xJOy+Z3pZrjOaw7P6KA8g+ChLYvrfjvy2TYyfXHoAHQujnxGGgUFBQWjYakQ+lgxVgJrk+dHhbbM/eQZTdaMJ8MVMi8oKBgUS/Wl6KBYFgh6rCBzHsNgIuIoKChYMbFMEjq0CbLbkWj/XVBQULAiY5kl9NHQSezLC8biQinuloKCgrFguSX0yY5C5gUFBWPFMk3oxZ1SUFBQMDiWaUKfrFaqfI12FBQUFIwNVfX/A64HCZXhA4DVAAAAAElFTkSuQmCC)\n",
        "  * 50K tokens compared to 76\n",
        "\n",
        "In practice, people typically use sub-word encodings."
      ],
      "metadata": {
        "id": "aOvg31eLNpbg"
      }
    },
    {
      "cell_type": "markdown",
      "source": [
        "Encode all of lex text"
      ],
      "metadata": {
        "id": "3Nhx9hxtQT-0"
      }
    },
    {
      "cell_type": "code",
      "source": [
        "# let's now encode the entire text dataset and store it into a torch.Tensor\n",
        "import torch # we use PyTorch: https://pytorch.org\n",
        "data = torch.tensor(encode(text), dtype=torch.long)\n",
        "print(data.shape, data.dtype)\n",
        "print(data[:1000]) # the 1000 characters we looked at earier will to the GPT look like this"
      ],
      "metadata": {
        "colab": {
          "base_uri": "https://localhost:8080/"
        },
        "id": "YJb0OXPwzvqg",
        "outputId": "5d8fb5d5-953f-438e-b8c5-1799eaf252c9"
      },
      "execution_count": null,
      "outputs": [
        {
          "output_type": "stream",
          "name": "stdout",
          "text": [
            "torch.Size([1050695]) torch.int64\n",
            "tensor([20, 64,  1, 61, 46, 63, 65,  1, 60, 51,  1, 32, 28, 39,  1, 48, 60, 66,\n",
            "        63, 64, 50,  1, 15, 38,  9, 18, 18,  7,  1, 20, 63, 65, 54, 51, 54, 48,\n",
            "        54, 46, 57,  1, 26, 50, 59, 50, 63, 46, 57,  1, 28, 59, 65, 50, 57, 57,\n",
            "        54, 52, 50, 59, 48, 50,  7,  0, 28,  5, 67, 50,  1, 52, 60, 65, 65, 50,\n",
            "        59,  1, 65, 53, 50,  1, 48, 53, 46, 59, 48, 50,  1, 65, 60,  1, 64, 54,\n",
            "        65,  1, 49, 60, 68, 59,  1, 68, 54, 65, 53,  1, 32, 46, 69,  1, 39, 50,\n",
            "        52, 58, 46, 63, 56,  8,  0, 27, 50,  1, 54, 64,  1, 46,  1, 61, 63, 60,\n",
            "        51, 50, 64, 64, 60, 63,  1, 53, 50, 63, 50,  1, 46, 65,  1, 32, 28, 39,\n",
            "         8,  0, 27, 50,  5, 64,  1, 46,  1, 61, 53, 70, 64, 54, 48, 54, 64, 65,\n",
            "         7,  1, 64, 61, 50, 59, 65,  1, 46,  1, 57, 46, 63, 52, 50,  1, 61, 46,\n",
            "        63, 65,  1, 60, 51,  1, 53, 54, 64,  1, 48, 46, 63, 50, 50, 63,  0, 64,\n",
            "        65, 66, 49, 70, 54, 59, 52,  1, 65, 53, 50,  1, 58, 70, 64, 65, 50, 63,\n",
            "        54, 50, 64,  1, 60, 51,  1, 60, 66, 63,  1, 48, 60, 64, 58, 60, 57, 60,\n",
            "        52, 54, 48, 46, 57,  1, 66, 59, 54, 67, 50, 63, 64, 50,  8,  0, 21, 66,\n",
            "        65,  1, 53, 50,  5, 64,  1, 46, 57, 64, 60,  1, 64, 65, 66, 49, 54, 50,\n",
            "        49,  1, 46, 59, 49,  1, 49, 50, 57, 67, 50, 49,  1, 54, 59, 65, 60,  1,\n",
            "        65, 53, 50,  1, 47, 50, 59, 50, 51, 54, 48, 54, 46, 57,  0, 61, 60, 64,\n",
            "        64, 54, 47, 54, 57, 54, 65, 54, 50, 64,  1, 46, 59, 49,  1, 65, 53, 50,\n",
            "         1, 50, 69, 54, 64, 65, 50, 59, 65, 54, 46, 57,  1, 63, 54, 64, 56, 64,\n",
            "         0, 60, 51,  1, 46, 63, 65, 54, 51, 54, 48, 54, 46, 57,  1, 54, 59, 65,\n",
            "        50, 57, 57, 54, 52, 50, 59, 48, 50,  8,  0, 20, 58, 60, 59, 52, 64, 65,\n",
            "         1, 58, 46, 59, 70,  1, 60, 65, 53, 50, 63,  1, 65, 53, 54, 59, 52, 64,\n",
            "         7,  1, 53, 50,  1, 54, 64,  1, 65, 53, 50,  1, 48, 60, 51, 60, 66, 59,\n",
            "        49, 50, 63,  0, 60, 51,  1, 65, 53, 50,  1, 25, 66, 65, 66, 63, 50,  1,\n",
            "        60, 51,  1, 31, 54, 51, 50,  1, 28, 59, 64, 65, 54, 65, 66, 65, 50,  7,\n",
            "         1, 46, 66, 65, 53, 60, 63,  1, 60, 51,  1, 65, 68, 60,  1, 47, 60, 60,\n",
            "        56, 64,  7,  0, 47, 60, 65, 53,  1, 60, 51,  1, 68, 53, 54, 48, 53,  1,\n",
            "        28,  1, 53, 54, 52, 53, 57, 70,  1, 63, 50, 48, 60, 58, 58, 50, 59, 49,\n",
            "         8,  0, 25, 54, 63, 64, 65,  7,  1, 34, 66, 63,  1, 32, 46, 65, 53, 50,\n",
            "        58, 46, 65, 54, 48, 46, 57,  1, 40, 59, 54, 67, 50, 63, 64, 50,  8,  0,\n",
            "        38, 50, 48, 60, 59, 49,  1, 54, 64,  1, 31, 54, 51, 50,  1, 12,  8,  9,\n",
            "         8,  0, 27, 50,  5, 64,  1, 65, 63, 66, 57, 70,  1, 46, 59,  1, 60, 66,\n",
            "        65,  1, 60, 51,  1, 65, 53, 50,  1, 47, 60, 69,  1, 65, 53, 54, 59, 56,\n",
            "        50, 63,  1, 46, 59, 49,  1, 46,  1, 51, 66, 59,  1, 61, 50, 63, 64, 60,\n",
            "        59, 46, 57, 54, 65, 70,  7,  0, 64, 60,  1, 28,  1, 63, 50, 46, 57, 57,\n",
            "        70,  1, 50, 59, 55, 60, 70,  1, 65, 46, 57, 56, 54, 59, 52,  1, 65, 60,\n",
            "         1, 53, 54, 58,  8,  0, 28, 51,  1, 70, 60, 66,  5, 49,  1, 57, 54, 56,\n",
            "        50,  1, 65, 60,  1, 64, 50, 50,  1, 58, 60, 63, 50,  1, 60, 51,  1, 65,\n",
            "        53, 50, 64, 50,  1, 67, 54, 49, 50, 60, 64,  1, 54, 59,  1, 65, 53, 50,\n",
            "         1, 51, 66, 65, 66, 63, 50,  7,  0, 61, 57, 50, 46, 64, 50,  1, 64, 66,\n",
            "        47, 64, 48, 63, 54, 47, 50,  1, 46, 59, 49,  1, 46, 57, 64, 60,  1, 48,\n",
            "        57, 54, 48, 56,  1, 65, 53, 50,  1, 57, 54, 65, 65, 57, 50,  1, 47, 50,\n",
            "        57, 57,  1, 54, 48, 60, 59,  0, 65, 60,  1, 58, 46, 56, 50,  1, 64, 66,\n",
            "        63, 50,  1, 70, 60, 66,  1, 49, 60, 59,  5, 65,  1, 58, 54, 64, 64,  1,\n",
            "        46, 59, 70,  1, 67, 54, 49, 50, 60, 64,  8,  0, 20, 57, 64, 60,  7,  1,\n",
            "        39, 68, 54, 65, 65, 50, 63,  7,  1, 31, 54, 59, 56, 50, 49, 28, 59,  7,\n",
            "         1, 46, 52, 54,  8, 58, 54, 65,  8, 50, 49, 66,  0, 54, 51,  1, 70, 60,\n",
            "        66,  1, 68, 46, 59, 59, 46,  1, 68, 46, 65, 48, 53,  1, 60, 65, 53, 50,\n",
            "        63,  1, 57, 50, 48, 65, 66, 63, 50, 64,  0, 60, 63,  1, 48, 60, 59, 67,\n",
            "        50, 63, 64, 46, 65, 54, 60, 59, 64,  1, 57, 54, 56, 50,  1, 65, 53, 54,\n",
            "        64,  1, 60, 59, 50,  8,  0, 21, 50, 65, 65, 50, 63,  1, 70, 50, 65,  7,\n",
            "         1, 52, 60,  1, 63, 50, 46, 49,  1, 32, 46, 69,  5, 64,  1, 47, 60, 60,\n",
            "        56,  7,  1, 31, 54, 51, 50,  1, 12,  8,  9,  8,  0, 22, 53, 46, 61, 65,\n",
            "        50, 63,  1, 64, 50, 67, 50, 59,  1, 60, 59,  1, 52, 60, 46, 57, 64,  1,\n",
            "        54, 64,  1, 58, 70,  1, 51, 46, 67, 60, 63, 54, 65, 50,  8,  0, 28, 65,\n",
            "         5, 64,  1, 63, 50, 46, 57, 57, 70,  1])\n"
          ]
        }
      ]
    },
    {
      "cell_type": "code",
      "source": [
        "# Let's now split up the data into train and validation sets\n",
        "n = int(0.9*len(data)) # first 90% will be train, rest val\n",
        "train_data = data[:n]\n",
        "val_data = data[n:]"
      ],
      "metadata": {
        "id": "f_WIXqxz0lU5"
      },
      "execution_count": null,
      "outputs": []
    },
    {
      "cell_type": "code",
      "source": [
        "block_size = 8\n",
        "train_data[:block_size+1]"
      ],
      "metadata": {
        "colab": {
          "base_uri": "https://localhost:8080/"
        },
        "id": "TD5Bj8Y6IAD4",
        "outputId": "a6f3f80c-80b7-4135-efea-8a4f3cd8318c"
      },
      "execution_count": null,
      "outputs": [
        {
          "output_type": "execute_result",
          "data": {
            "text/plain": [
              "tensor([20, 64,  1, 61, 46, 63, 65,  1, 60])"
            ]
          },
          "metadata": {},
          "execution_count": 8
        }
      ]
    },
    {
      "cell_type": "code",
      "source": [
        "x = train_data[:block_size]\n",
        "y = train_data[1:block_size+1]\n",
        "for t in range(block_size):\n",
        "    context = x[:t+1]\n",
        "    target = y[t]\n",
        "    print(f\"when input is {context} the target: {target}\")"
      ],
      "metadata": {
        "colab": {
          "base_uri": "https://localhost:8080/"
        },
        "id": "9HXDe8vGJCEn",
        "outputId": "edb21624-5b62-4ec5-beb3-948cfa3ef68d"
      },
      "execution_count": null,
      "outputs": [
        {
          "output_type": "stream",
          "name": "stdout",
          "text": [
            "when input is tensor([20]) the target: 64\n",
            "when input is tensor([20, 64]) the target: 1\n",
            "when input is tensor([20, 64,  1]) the target: 61\n",
            "when input is tensor([20, 64,  1, 61]) the target: 46\n",
            "when input is tensor([20, 64,  1, 61, 46]) the target: 63\n",
            "when input is tensor([20, 64,  1, 61, 46, 63]) the target: 65\n",
            "when input is tensor([20, 64,  1, 61, 46, 63, 65]) the target: 1\n",
            "when input is tensor([20, 64,  1, 61, 46, 63, 65,  1]) the target: 60\n"
          ]
        }
      ]
    },
    {
      "cell_type": "code",
      "source": [
        "torch.manual_seed(1337)\n",
        "batch_size = 4 # how many independent sequences will we process in parallel?\n",
        "block_size = 8 # what is the maximum context length for predictions?\n",
        "\n",
        "def get_batch(split):\n",
        "    # generate a small batch of data of inputs x and targets y\n",
        "    data = train_data if split == 'train' else val_data\n",
        "    ix = torch.randint(len(data) - block_size, (batch_size,))\n",
        "    x = torch.stack([data[i:i+block_size] for i in ix])\n",
        "    y = torch.stack([data[i+1:i+block_size+1] for i in ix])\n",
        "    return x, y\n",
        "\n",
        "xb, yb = get_batch('train')\n",
        "print('inputs:')\n",
        "print(xb.shape)\n",
        "print(xb)\n",
        "print('targets:')\n",
        "print(yb.shape)\n",
        "print(yb)\n",
        "\n",
        "print('----')\n",
        "\n",
        "for b in range(batch_size): # batch dimension\n",
        "    for t in range(block_size): # time dimension\n",
        "        context = xb[b, :t+1]\n",
        "        target = yb[b,t]\n",
        "        print(f\"when input is {context.tolist()} the target: {target}\")"
      ],
      "metadata": {
        "colab": {
          "base_uri": "https://localhost:8080/"
        },
        "id": "Q3k1Czf7LuA9",
        "outputId": "ceb7ac72-a421-4e0a-a8f0-530d21c00acd"
      },
      "execution_count": null,
      "outputs": [
        {
          "output_type": "stream",
          "name": "stdout",
          "text": [
            "inputs:\n",
            "torch.Size([4, 8])\n",
            "tensor([[46, 58, 50,  0, 47, 50, 46, 66],\n",
            "        [46, 65,  1, 70, 60, 66,  1, 58],\n",
            "        [63,  1, 61, 50, 60, 61, 57, 50],\n",
            "        [ 1, 57, 54, 65, 50, 63, 46, 65]])\n",
            "targets:\n",
            "torch.Size([4, 8])\n",
            "tensor([[58, 50,  0, 47, 50, 46, 66, 65],\n",
            "        [65,  1, 70, 60, 66,  1, 58, 54],\n",
            "        [ 1, 61, 50, 60, 61, 57, 50,  1],\n",
            "        [57, 54, 65, 50, 63, 46, 65, 66]])\n",
            "----\n",
            "when input is [46] the target: 58\n",
            "when input is [46, 58] the target: 50\n",
            "when input is [46, 58, 50] the target: 0\n",
            "when input is [46, 58, 50, 0] the target: 47\n",
            "when input is [46, 58, 50, 0, 47] the target: 50\n",
            "when input is [46, 58, 50, 0, 47, 50] the target: 46\n",
            "when input is [46, 58, 50, 0, 47, 50, 46] the target: 66\n",
            "when input is [46, 58, 50, 0, 47, 50, 46, 66] the target: 65\n",
            "when input is [46] the target: 65\n",
            "when input is [46, 65] the target: 1\n",
            "when input is [46, 65, 1] the target: 70\n",
            "when input is [46, 65, 1, 70] the target: 60\n",
            "when input is [46, 65, 1, 70, 60] the target: 66\n",
            "when input is [46, 65, 1, 70, 60, 66] the target: 1\n",
            "when input is [46, 65, 1, 70, 60, 66, 1] the target: 58\n",
            "when input is [46, 65, 1, 70, 60, 66, 1, 58] the target: 54\n",
            "when input is [63] the target: 1\n",
            "when input is [63, 1] the target: 61\n",
            "when input is [63, 1, 61] the target: 50\n",
            "when input is [63, 1, 61, 50] the target: 60\n",
            "when input is [63, 1, 61, 50, 60] the target: 61\n",
            "when input is [63, 1, 61, 50, 60, 61] the target: 57\n",
            "when input is [63, 1, 61, 50, 60, 61, 57] the target: 50\n",
            "when input is [63, 1, 61, 50, 60, 61, 57, 50] the target: 1\n",
            "when input is [1] the target: 57\n",
            "when input is [1, 57] the target: 54\n",
            "when input is [1, 57, 54] the target: 65\n",
            "when input is [1, 57, 54, 65] the target: 50\n",
            "when input is [1, 57, 54, 65, 50] the target: 63\n",
            "when input is [1, 57, 54, 65, 50, 63] the target: 46\n",
            "when input is [1, 57, 54, 65, 50, 63, 46] the target: 65\n",
            "when input is [1, 57, 54, 65, 50, 63, 46, 65] the target: 66\n"
          ]
        }
      ]
    },
    {
      "cell_type": "code",
      "source": [
        "print(xb) # our input to the transformer"
      ],
      "metadata": {
        "colab": {
          "base_uri": "https://localhost:8080/"
        },
        "id": "qpyyAeIzQjlO",
        "outputId": "bf0d59a1-d6ee-4402-a73c-ce9ef5b74c07"
      },
      "execution_count": null,
      "outputs": [
        {
          "output_type": "stream",
          "name": "stdout",
          "text": [
            "tensor([[46, 58, 50,  0, 47, 50, 46, 66],\n",
            "        [46, 65,  1, 70, 60, 66,  1, 58],\n",
            "        [63,  1, 61, 50, 60, 61, 57, 50],\n",
            "        [ 1, 57, 54, 65, 50, 63, 46, 65]])\n"
          ]
        }
      ]
    },
    {
      "cell_type": "code",
      "source": [
        "import torch\n",
        "import torch.nn as nn\n",
        "from torch.nn import functional as F\n",
        "torch.manual_seed(1337)\n",
        "\n",
        "class BigramLanguageModel(nn.Module):\n",
        "\n",
        "    def __init__(self, vocab_size):\n",
        "        super().__init__()\n",
        "        # each token directly reads off the logits for the next token from a lookup table\n",
        "        self.token_embedding_table = nn.Embedding(vocab_size, vocab_size)\n",
        "\n",
        "    def forward(self, idx, targets=None):\n",
        "\n",
        "        # idx and targets are both (B,T) tensor of integers\n",
        "        logits = self.token_embedding_table(idx) # (B,T,C)\n",
        "        \n",
        "        if targets is None:\n",
        "            loss = None\n",
        "        else:\n",
        "            B, T, C = logits.shape\n",
        "            logits = logits.view(B*T, C)\n",
        "            targets = targets.view(B*T)\n",
        "            loss = F.cross_entropy(logits, targets)\n",
        "\n",
        "        return logits, loss\n",
        "    \n",
        "    def generate(self, idx, max_new_tokens):\n",
        "        # idx is (B, T) array of indices in the current context\n",
        "        for _ in range(max_new_tokens):\n",
        "            # get the predictions\n",
        "            logits, loss = self(idx)\n",
        "            # focus only on the last time step\n",
        "            logits = logits[:, -1, :] # becomes (B, C)\n",
        "            # apply softmax to get probabilities\n",
        "            probs = F.softmax(logits, dim=-1) # (B, C)\n",
        "            # sample from the distribution\n",
        "            idx_next = torch.multinomial(probs, num_samples=1) # (B, 1)\n",
        "            # append sampled index to the running sequence\n",
        "            idx = torch.cat((idx, idx_next), dim=1) # (B, T+1)\n",
        "        return idx\n",
        "\n",
        "m = BigramLanguageModel(vocab_size)\n",
        "logits, loss = m(xb, yb)\n",
        "print(logits.shape)\n",
        "print(loss)\n",
        "\n",
        "print(decode(m.generate(idx = torch.zeros((1, 1), dtype=torch.long), max_new_tokens=100)[0].tolist()))\n"
      ],
      "metadata": {
        "colab": {
          "base_uri": "https://localhost:8080/"
        },
        "id": "nql_1ER53oCf",
        "outputId": "add0f108-8fc6-4d12-9483-24fee2e842f3"
      },
      "execution_count": null,
      "outputs": [
        {
          "output_type": "stream",
          "name": "stdout",
          "text": [
            "torch.Size([32, 76])\n",
            "tensor(4.7052, grad_fn=<NllLossBackward0>)\n",
            "\n",
            "6dZ2NJ&jWoOfzFNOxAZLD,\n",
            "LOBEgaeedKryx…j&PzBVdUDweY&'oOU,févNqwSg.BtqAsRoU4n6Yxeg3fö9bwv5YD+8Erug6wVC,\n"
          ]
        }
      ]
    },
    {
      "cell_type": "code",
      "source": [
        "# create a PyTorch optimizer\n",
        "optimizer = torch.optim.AdamW(m.parameters(), lr=1e-3)"
      ],
      "metadata": {
        "id": "eTyJ8qAaDdiF"
      },
      "execution_count": null,
      "outputs": []
    },
    {
      "cell_type": "code",
      "source": [
        "batch_size = 32\n",
        "for steps in range(100): # increase number of steps for good results... \n",
        "    \n",
        "    # sample a batch of data\n",
        "    xb, yb = get_batch('train')\n",
        "\n",
        "    # evaluate the loss\n",
        "    logits, loss = m(xb, yb)\n",
        "    optimizer.zero_grad(set_to_none=True)\n",
        "    loss.backward()\n",
        "    optimizer.step()\n",
        "\n",
        "print(loss.item())\n"
      ],
      "metadata": {
        "colab": {
          "base_uri": "https://localhost:8080/"
        },
        "id": "Hs4kI8YdEkQj",
        "outputId": "b602db9f-0dbd-4b1d-8526-12f856c092a4"
      },
      "execution_count": null,
      "outputs": [
        {
          "output_type": "stream",
          "name": "stdout",
          "text": [
            "4.706178188323975\n"
          ]
        }
      ]
    },
    {
      "cell_type": "code",
      "source": [
        "print(decode(m.generate(idx = torch.zeros((1, 1), dtype=torch.long), max_new_tokens=500)[0].tolist()))"
      ],
      "metadata": {
        "colab": {
          "base_uri": "https://localhost:8080/"
        },
        "id": "EcVIDWAZEtjN",
        "outputId": "22ac730b-feca-4384-aba6-2b1b7d24800c"
      },
      "execution_count": null,
      "outputs": [
        {
          "output_type": "stream",
          "name": "stdout",
          "text": [
            "\n",
            "oajDb …phizdh+YsRXcOXHv q.l,zXHj&?MBJ5 zI8aHV1.eyPJOai8?cIfzAYKiv9$f1J1qU,&T…öNZézPM–e'he45eco2'.lSj$xlMlyvqjZCx'eIsf%K?OIXBPWxlcGbzsHzo2 lxl6RXVNHT4p\n",
            "PxJjAp,öC&7jcjDbmDl8W6&?0I925y…jtBkUWYSv.lOööL–Y…jqZT0péxiVvqoyVMoLaöLj'V$pz…jdjZkVr'BrU6'+HG7ZLbbD2XxstH%3öCX%+5C9T71p0B?Gk2eWq%Wcz%+hF8SgGöTöYIrEneYyxl%BVHIDF8Cg.lcpY0pz4ve%Hj5edxAi2tW x8jX$kU?B?tVd6YbifBVx?éN1éqOR Ezhö59y,\n",
            "iRJIXBVY0oL1O&?aoLfV&OkRfyNJs7RxK.BYY––tSöézo40Yh wGyEZ6OwN%5pb1S.ksQZM3fzy,MMtS2520Br.OQé9e\n",
            "Ru%es…?Wf…X2$27j1e+gA6PNEZl–Jx\n"
          ]
        }
      ]
    },
    {
      "cell_type": "markdown",
      "source": [
        "## The mathematical trick in self-attention"
      ],
      "metadata": {
        "id": "XinV8nmAnmKN"
      }
    },
    {
      "cell_type": "code",
      "source": [
        "# toy example illustrating how matrix multiplication can be used for a \"weighted aggregation\"\n",
        "torch.manual_seed(42)\n",
        "a = torch.tril(torch.ones(3, 3))\n",
        "a = a / torch.sum(a, 1, keepdim=True)\n",
        "b = torch.randint(0,10,(3,2)).float()\n",
        "c = a @ b\n",
        "print('a=')\n",
        "print(a)\n",
        "print('--')\n",
        "print('b=')\n",
        "print(b)\n",
        "print('--')\n",
        "print('c=')\n",
        "print(c)"
      ],
      "metadata": {
        "colab": {
          "base_uri": "https://localhost:8080/"
        },
        "id": "tukiH-NbRBhA",
        "outputId": "0e8a4672-7d4a-4bab-9963-f167fbe80aa5"
      },
      "execution_count": null,
      "outputs": [
        {
          "output_type": "stream",
          "name": "stdout",
          "text": [
            "a=\n",
            "tensor([[1.0000, 0.0000, 0.0000],\n",
            "        [0.5000, 0.5000, 0.0000],\n",
            "        [0.3333, 0.3333, 0.3333]])\n",
            "--\n",
            "b=\n",
            "tensor([[2., 7.],\n",
            "        [6., 4.],\n",
            "        [6., 5.]])\n",
            "--\n",
            "c=\n",
            "tensor([[2.0000, 7.0000],\n",
            "        [4.0000, 5.5000],\n",
            "        [4.6667, 5.3333]])\n"
          ]
        }
      ]
    },
    {
      "cell_type": "code",
      "source": [
        "# consider the following toy example:\n",
        "\n",
        "torch.manual_seed(1337)\n",
        "B,T,C = 4,8,2 # batch, time, channels\n",
        "x = torch.randn(B,T,C)\n",
        "x.shape"
      ],
      "metadata": {
        "colab": {
          "base_uri": "https://localhost:8080/"
        },
        "id": "Hs_E24uRE8kr",
        "outputId": "04f35174-e496-487b-8fa6-2a15365b7b53"
      },
      "execution_count": null,
      "outputs": [
        {
          "output_type": "execute_result",
          "data": {
            "text/plain": [
              "torch.Size([4, 8, 2])"
            ]
          },
          "metadata": {},
          "execution_count": 17
        }
      ]
    },
    {
      "cell_type": "code",
      "source": [
        "# We want x[b,t] = mean_{i<=t} x[b,i]\n",
        "xbow = torch.zeros((B,T,C))\n",
        "for b in range(B):\n",
        "    for t in range(T):\n",
        "        xprev = x[b,:t+1] # (t,C)\n",
        "        xbow[b,t] = torch.mean(xprev, 0)\n"
      ],
      "metadata": {
        "id": "86NuXX0fn7ps"
      },
      "execution_count": null,
      "outputs": []
    },
    {
      "cell_type": "code",
      "source": [
        "# version 2: using matrix multiply for a weighted aggregation\n",
        "wei = torch.tril(torch.ones(T, T))\n",
        "wei = wei / wei.sum(1, keepdim=True)\n",
        "xbow2 = wei @ x # (B, T, T) @ (B, T, C) ----> (B, T, C)\n",
        "torch.allclose(xbow, xbow2)"
      ],
      "metadata": {
        "colab": {
          "base_uri": "https://localhost:8080/"
        },
        "id": "yhdOAd6-wXkZ",
        "outputId": "e89212bd-3c64-4153-9ff1-791bc2a1afcb"
      },
      "execution_count": null,
      "outputs": [
        {
          "output_type": "execute_result",
          "data": {
            "text/plain": [
              "True"
            ]
          },
          "metadata": {},
          "execution_count": 19
        }
      ]
    },
    {
      "cell_type": "code",
      "source": [
        "# version 3: use Softmax\n",
        "tril = torch.tril(torch.ones(T, T))\n",
        "wei = torch.zeros((T,T))\n",
        "wei = wei.masked_fill(tril == 0, float('-inf'))\n",
        "wei = F.softmax(wei, dim=-1)\n",
        "xbow3 = wei @ x\n",
        "torch.allclose(xbow, xbow3)\n"
      ],
      "metadata": {
        "colab": {
          "base_uri": "https://localhost:8080/"
        },
        "id": "wOURrfG-ysoL",
        "outputId": "2db109e2-6a74-4306-bb7f-eaf5c32c8140"
      },
      "execution_count": null,
      "outputs": [
        {
          "output_type": "execute_result",
          "data": {
            "text/plain": [
              "True"
            ]
          },
          "metadata": {},
          "execution_count": 20
        }
      ]
    },
    {
      "cell_type": "code",
      "source": [
        "# version 4: self-attention!\n",
        "torch.manual_seed(1337)\n",
        "B,T,C = 4,8,32 # batch, time, channels\n",
        "x = torch.randn(B,T,C)\n",
        "\n",
        "# let's see a single Head perform self-attention\n",
        "head_size = 16\n",
        "key = nn.Linear(C, head_size, bias=False)\n",
        "query = nn.Linear(C, head_size, bias=False)\n",
        "value = nn.Linear(C, head_size, bias=False)\n",
        "k = key(x)   # (B, T, 16)\n",
        "q = query(x) # (B, T, 16)\n",
        "wei =  q @ k.transpose(-2, -1) # (B, T, 16) @ (B, 16, T) ---> (B, T, T)\n",
        "\n",
        "tril = torch.tril(torch.ones(T, T))\n",
        "#wei = torch.zeros((T,T))\n",
        "wei = wei.masked_fill(tril == 0, float('-inf'))\n",
        "wei = F.softmax(wei, dim=-1)\n",
        "\n",
        "v = value(x)\n",
        "out = wei @ v\n",
        "#out = wei @ x\n",
        "\n",
        "out.shape"
      ],
      "metadata": {
        "colab": {
          "base_uri": "https://localhost:8080/"
        },
        "id": "EDarxEWIRMKq",
        "outputId": "5c1a97b0-1879-4fa1-a8c0-c5199195a859"
      },
      "execution_count": null,
      "outputs": [
        {
          "output_type": "execute_result",
          "data": {
            "text/plain": [
              "torch.Size([4, 8, 16])"
            ]
          },
          "metadata": {},
          "execution_count": 21
        }
      ]
    },
    {
      "cell_type": "code",
      "source": [
        "wei[0]"
      ],
      "metadata": {
        "colab": {
          "base_uri": "https://localhost:8080/"
        },
        "id": "vT1hdtzXCjgL",
        "outputId": "7e4ea021-4d88-41c7-9dfd-d8d1844f028a"
      },
      "execution_count": null,
      "outputs": [
        {
          "output_type": "execute_result",
          "data": {
            "text/plain": [
              "tensor([[1.0000, 0.0000, 0.0000, 0.0000, 0.0000, 0.0000, 0.0000, 0.0000],\n",
              "        [0.1574, 0.8426, 0.0000, 0.0000, 0.0000, 0.0000, 0.0000, 0.0000],\n",
              "        [0.2088, 0.1646, 0.6266, 0.0000, 0.0000, 0.0000, 0.0000, 0.0000],\n",
              "        [0.5792, 0.1187, 0.1889, 0.1131, 0.0000, 0.0000, 0.0000, 0.0000],\n",
              "        [0.0294, 0.1052, 0.0469, 0.0276, 0.7909, 0.0000, 0.0000, 0.0000],\n",
              "        [0.0176, 0.2689, 0.0215, 0.0089, 0.6812, 0.0019, 0.0000, 0.0000],\n",
              "        [0.1691, 0.4066, 0.0438, 0.0416, 0.1048, 0.2012, 0.0329, 0.0000],\n",
              "        [0.0210, 0.0843, 0.0555, 0.2297, 0.0573, 0.0709, 0.2423, 0.2391]],\n",
              "       grad_fn=<SelectBackward0>)"
            ]
          },
          "metadata": {},
          "execution_count": 22
        }
      ]
    },
    {
      "cell_type": "markdown",
      "source": [
        "Notes:\n",
        "- Attention is a **communication mechanism**. Can be seen as nodes in a directed graph looking at each other and aggregating information with a weighted sum from all nodes that point to them, with data-dependent weights.\n",
        "- There is no notion of space. Attention simply acts over a set of vectors. This is why we need to positionally encode tokens.\n",
        "- Each example across batch dimension is of course processed completely independently and never \"talk\" to each other\n",
        "- In an \"encoder\" attention block just delete the single line that does masking with `tril`, allowing all tokens to communicate. This block here is called a \"decoder\" attention block because it has triangular masking, and is usually used in autoregressive settings, like language modeling.\n",
        "- \"self-attention\" just means that the keys and values are produced from the same source as queries. In \"cross-attention\", the queries still get produced from x, but the keys and values come from some other, external source (e.g. an encoder module)\n",
        "- \"Scaled\" attention additional divides `wei` by 1/sqrt(head_size). This makes it so when input Q,K are unit variance, wei will be unit variance too and Softmax will stay diffuse and not saturate too much. Illustration below"
      ],
      "metadata": {
        "id": "M5CvobiQ0pLr"
      }
    },
    {
      "cell_type": "code",
      "source": [
        "k = torch.randn(B,T,head_size)\n",
        "q = torch.randn(B,T,head_size)\n",
        "wei = q @ k.transpose(-2, -1) * head_size**-0.5"
      ],
      "metadata": {
        "id": "4SNbLq5z3oBw"
      },
      "execution_count": null,
      "outputs": []
    },
    {
      "cell_type": "code",
      "source": [
        "k.var()"
      ],
      "metadata": {
        "colab": {
          "base_uri": "https://localhost:8080/"
        },
        "id": "Nl6I9n9IRTSo",
        "outputId": "dcbe5290-94fb-49c8-c822-3f52187e0808"
      },
      "execution_count": null,
      "outputs": [
        {
          "output_type": "execute_result",
          "data": {
            "text/plain": [
              "tensor(1.0449)"
            ]
          },
          "metadata": {},
          "execution_count": 24
        }
      ]
    },
    {
      "cell_type": "code",
      "source": [
        "q.var()"
      ],
      "metadata": {
        "colab": {
          "base_uri": "https://localhost:8080/"
        },
        "id": "T1tQx7oeRvtc",
        "outputId": "911524fe-0c88-42ec-e619-7b3b6cd9fcd1"
      },
      "execution_count": null,
      "outputs": [
        {
          "output_type": "execute_result",
          "data": {
            "text/plain": [
              "tensor(1.0700)"
            ]
          },
          "metadata": {},
          "execution_count": 25
        }
      ]
    },
    {
      "cell_type": "code",
      "source": [
        "wei.var()"
      ],
      "metadata": {
        "colab": {
          "base_uri": "https://localhost:8080/"
        },
        "id": "MLb_odHU3iKM",
        "outputId": "1a2cee1f-6aec-4908-a9c6-d8a3a0f2f7cb"
      },
      "execution_count": null,
      "outputs": [
        {
          "output_type": "execute_result",
          "data": {
            "text/plain": [
              "tensor(1.0918)"
            ]
          },
          "metadata": {},
          "execution_count": 26
        }
      ]
    },
    {
      "cell_type": "code",
      "source": [
        "torch.softmax(torch.tensor([0.1, -0.2, 0.3, -0.2, 0.5]), dim=-1)"
      ],
      "metadata": {
        "colab": {
          "base_uri": "https://localhost:8080/"
        },
        "id": "JB82yzt44REI",
        "outputId": "ccc2e3c0-94b7-4acd-9d4b-08785a60cdc1"
      },
      "execution_count": null,
      "outputs": [
        {
          "output_type": "execute_result",
          "data": {
            "text/plain": [
              "tensor([0.1925, 0.1426, 0.2351, 0.1426, 0.2872])"
            ]
          },
          "metadata": {},
          "execution_count": 27
        }
      ]
    },
    {
      "cell_type": "code",
      "source": [
        "torch.softmax(torch.tensor([0.1, -0.2, 0.3, -0.2, 0.5])*8, dim=-1) # gets too peaky, converges to one-hot"
      ],
      "metadata": {
        "colab": {
          "base_uri": "https://localhost:8080/"
        },
        "id": "Mpt8569BB9_f",
        "outputId": "7002b493-a57e-4c49-e9f9-bff78b30de78"
      },
      "execution_count": null,
      "outputs": [
        {
          "output_type": "execute_result",
          "data": {
            "text/plain": [
              "tensor([0.0326, 0.0030, 0.1615, 0.0030, 0.8000])"
            ]
          },
          "metadata": {},
          "execution_count": 28
        }
      ]
    },
    {
      "cell_type": "code",
      "source": [
        "class LayerNorm1d: # (used to be BatchNorm1d)\n",
        "  \n",
        "  def __init__(self, dim, eps=1e-5, momentum=0.1):\n",
        "    self.eps = eps\n",
        "    self.gamma = torch.ones(dim)\n",
        "    self.beta = torch.zeros(dim)\n",
        "  \n",
        "  def __call__(self, x):\n",
        "    # calculate the forward pass\n",
        "    xmean = x.mean(1, keepdim=True) # batch mean\n",
        "    xvar = x.var(1, keepdim=True) # batch variance\n",
        "    xhat = (x - xmean) / torch.sqrt(xvar + self.eps) # normalize to unit variance\n",
        "    self.out = self.gamma * xhat + self.beta\n",
        "    return self.out\n",
        "  \n",
        "  def parameters(self):\n",
        "    return [self.gamma, self.beta]\n",
        "\n",
        "torch.manual_seed(1337)\n",
        "module = LayerNorm1d(100)\n",
        "x = torch.randn(32, 100) # batch size 32 of 100-dimensional vectors\n",
        "x = module(x)\n",
        "x.shape"
      ],
      "metadata": {
        "colab": {
          "base_uri": "https://localhost:8080/"
        },
        "id": "2Num7sX9CKOH",
        "outputId": "3bed159b-3209-482b-bd66-67c39f21aa10"
      },
      "execution_count": null,
      "outputs": [
        {
          "output_type": "execute_result",
          "data": {
            "text/plain": [
              "torch.Size([32, 100])"
            ]
          },
          "metadata": {},
          "execution_count": 29
        }
      ]
    },
    {
      "cell_type": "code",
      "source": [
        "x[:,0].mean(), x[:,0].std() # mean,std of one feature across all batch inputs"
      ],
      "metadata": {
        "colab": {
          "base_uri": "https://localhost:8080/"
        },
        "id": "633T2cmnW1uk",
        "outputId": "9ae1763e-0352-487b-ba08-035c505a923b"
      },
      "execution_count": null,
      "outputs": [
        {
          "output_type": "execute_result",
          "data": {
            "text/plain": [
              "(tensor(0.1469), tensor(0.8803))"
            ]
          },
          "metadata": {},
          "execution_count": 30
        }
      ]
    },
    {
      "cell_type": "code",
      "source": [
        "x[0,:].mean(), x[0,:].std() # mean,std of a single input from the batch, of its features"
      ],
      "metadata": {
        "colab": {
          "base_uri": "https://localhost:8080/"
        },
        "id": "LN9cK9BoXCYb",
        "outputId": "2c2e8a14-60c2-47d3-905f-d475fc555362"
      },
      "execution_count": null,
      "outputs": [
        {
          "output_type": "execute_result",
          "data": {
            "text/plain": [
              "(tensor(-9.5367e-09), tensor(1.0000))"
            ]
          },
          "metadata": {},
          "execution_count": 31
        }
      ]
    },
    {
      "cell_type": "code",
      "source": [
        "# French to English translation example:\n",
        "\n",
        "# <--------- ENCODE ------------------><--------------- DECODE ----------------->\n",
        "# les réseaux de neurones sont géniaux! <START> neural networks are awesome!<END>\n",
        "\n"
      ],
      "metadata": {
        "id": "dRJH6wM_XFfU"
      },
      "execution_count": null,
      "outputs": []
    },
    {
      "cell_type": "markdown",
      "source": [
        "### Full finished code, for reference\n",
        "\n",
        "You may want to refer directly to the git repo instead though."
      ],
      "metadata": {
        "id": "ZcvKeBXoZFOY"
      }
    },
    {
      "cell_type": "code",
      "source": [
        "import torch\n",
        "import torch.nn as nn\n",
        "from torch.nn import functional as F\n",
        "\n",
        "# hyperparameters\n",
        "batch_size = 16 # how many independent sequences will we process in parallel?\n",
        "block_size = 32 # what is the maximum context length for predictions?\n",
        "max_iters = 5000\n",
        "eval_interval = 100\n",
        "learning_rate = 1e-3\n",
        "device = 'cuda' if torch.cuda.is_available() else 'cpu'\n",
        "eval_iters = 200\n",
        "n_embd = 64\n",
        "n_head = 4\n",
        "n_layer = 4\n",
        "dropout = 0.0\n",
        "# ------------\n",
        "\n",
        "torch.manual_seed(1337)\n",
        "\n",
        "# wget https://raw.githubusercontent.com/karpathy/char-rnn/master/data/tinyshakespeare/input.txt\n",
        "with open('input.txt', 'r', encoding='utf-8') as f:\n",
        "    text = f.read()\n",
        "\n",
        "# here are all the unique characters that occur in this text\n",
        "chars = sorted(list(set(text)))\n",
        "vocab_size = len(chars)\n",
        "# create a mapping from characters to integers\n",
        "stoi = { ch:i for i,ch in enumerate(chars) }\n",
        "itos = { i:ch for i,ch in enumerate(chars) }\n",
        "encode = lambda s: [stoi[c] for c in s] # encoder: take a string, output a list of integers\n",
        "decode = lambda l: ''.join([itos[i] for i in l]) # decoder: take a list of integers, output a string\n",
        "\n",
        "# Train and test splits\n",
        "data = torch.tensor(encode(text), dtype=torch.long)\n",
        "n = int(0.9*len(data)) # first 90% will be train, rest val\n",
        "train_data = data[:n]\n",
        "val_data = data[n:]\n",
        "\n",
        "# data loading\n",
        "def get_batch(split):\n",
        "    # generate a small batch of data of inputs x and targets y\n",
        "    data = train_data if split == 'train' else val_data\n",
        "    ix = torch.randint(len(data) - block_size, (batch_size,))\n",
        "    x = torch.stack([data[i:i+block_size] for i in ix])\n",
        "    y = torch.stack([data[i+1:i+block_size+1] for i in ix])\n",
        "    x, y = x.to(device), y.to(device)\n",
        "    return x, y\n",
        "\n",
        "@torch.no_grad()\n",
        "def estimate_loss():\n",
        "    out = {}\n",
        "    model.eval()\n",
        "    for split in ['train', 'val']:\n",
        "        losses = torch.zeros(eval_iters)\n",
        "        for k in range(eval_iters):\n",
        "            X, Y = get_batch(split)\n",
        "            logits, loss = model(X, Y)\n",
        "            losses[k] = loss.item()\n",
        "        out[split] = losses.mean()\n",
        "    model.train()\n",
        "    return out\n",
        "\n",
        "class Head(nn.Module):\n",
        "    \"\"\" one head of self-attention \"\"\"\n",
        "\n",
        "    def __init__(self, head_size):\n",
        "        super().__init__()\n",
        "        self.key = nn.Linear(n_embd, head_size, bias=False)\n",
        "        self.query = nn.Linear(n_embd, head_size, bias=False)\n",
        "        self.value = nn.Linear(n_embd, head_size, bias=False)\n",
        "        self.register_buffer('tril', torch.tril(torch.ones(block_size, block_size)))\n",
        "\n",
        "        self.dropout = nn.Dropout(dropout)\n",
        "\n",
        "    def forward(self, x):\n",
        "        B,T,C = x.shape\n",
        "        k = self.key(x)   # (B,T,C)\n",
        "        q = self.query(x) # (B,T,C)\n",
        "        # compute attention scores (\"affinities\")\n",
        "        wei = q @ k.transpose(-2,-1) * C**-0.5 # (B, T, C) @ (B, C, T) -> (B, T, T)\n",
        "        wei = wei.masked_fill(self.tril[:T, :T] == 0, float('-inf')) # (B, T, T)\n",
        "        wei = F.softmax(wei, dim=-1) # (B, T, T)\n",
        "        wei = self.dropout(wei)\n",
        "        # perform the weighted aggregation of the values\n",
        "        v = self.value(x) # (B,T,C)\n",
        "        out = wei @ v # (B, T, T) @ (B, T, C) -> (B, T, C)\n",
        "        return out\n",
        "\n",
        "class MultiHeadAttention(nn.Module):\n",
        "    \"\"\" multiple heads of self-attention in parallel \"\"\"\n",
        "\n",
        "    def __init__(self, num_heads, head_size):\n",
        "        super().__init__()\n",
        "        self.heads = nn.ModuleList([Head(head_size) for _ in range(num_heads)])\n",
        "        self.proj = nn.Linear(n_embd, n_embd)\n",
        "        self.dropout = nn.Dropout(dropout)\n",
        "\n",
        "    def forward(self, x):\n",
        "        out = torch.cat([h(x) for h in self.heads], dim=-1)\n",
        "        out = self.dropout(self.proj(out))\n",
        "        return out\n",
        "\n",
        "class FeedFoward(nn.Module):\n",
        "    \"\"\" a simple linear layer followed by a non-linearity \"\"\"\n",
        "\n",
        "    def __init__(self, n_embd):\n",
        "        super().__init__()\n",
        "        self.net = nn.Sequential(\n",
        "            nn.Linear(n_embd, 4 * n_embd),\n",
        "            nn.ReLU(),\n",
        "            nn.Linear(4 * n_embd, n_embd),\n",
        "            nn.Dropout(dropout),\n",
        "        )\n",
        "\n",
        "    def forward(self, x):\n",
        "        return self.net(x)\n",
        "\n",
        "class Block(nn.Module):\n",
        "    \"\"\" Transformer block: communication followed by computation \"\"\"\n",
        "\n",
        "    def __init__(self, n_embd, n_head):\n",
        "        # n_embd: embedding dimension, n_head: the number of heads we'd like\n",
        "        super().__init__()\n",
        "        head_size = n_embd // n_head\n",
        "        self.sa = MultiHeadAttention(n_head, head_size)\n",
        "        self.ffwd = FeedFoward(n_embd)\n",
        "        self.ln1 = nn.LayerNorm(n_embd)\n",
        "        self.ln2 = nn.LayerNorm(n_embd)\n",
        "\n",
        "    def forward(self, x):\n",
        "        x = x + self.sa(self.ln1(x))\n",
        "        x = x + self.ffwd(self.ln2(x))\n",
        "        return x\n",
        "\n",
        "# super simple bigram model\n",
        "class BigramLanguageModel(nn.Module):\n",
        "\n",
        "    def __init__(self):\n",
        "        super().__init__()\n",
        "        # each token directly reads off the logits for the next token from a lookup table\n",
        "        self.token_embedding_table = nn.Embedding(vocab_size, n_embd)\n",
        "        self.position_embedding_table = nn.Embedding(block_size, n_embd)\n",
        "        self.blocks = nn.Sequential(*[Block(n_embd, n_head=n_head) for _ in range(n_layer)])\n",
        "        self.ln_f = nn.LayerNorm(n_embd) # final layer norm\n",
        "        self.lm_head = nn.Linear(n_embd, vocab_size)\n",
        "\n",
        "    def forward(self, idx, targets=None):\n",
        "        B, T = idx.shape\n",
        "\n",
        "        # idx and targets are both (B,T) tensor of integers\n",
        "        tok_emb = self.token_embedding_table(idx) # (B,T,C)\n",
        "        pos_emb = self.position_embedding_table(torch.arange(T, device=device)) # (T,C)\n",
        "        x = tok_emb + pos_emb # (B,T,C)\n",
        "        x = self.blocks(x) # (B,T,C)\n",
        "        x = self.ln_f(x) # (B,T,C)\n",
        "        logits = self.lm_head(x) # (B,T,vocab_size)\n",
        "\n",
        "        if targets is None:\n",
        "            loss = None\n",
        "        else:\n",
        "            B, T, C = logits.shape\n",
        "            logits = logits.view(B*T, C)\n",
        "            targets = targets.view(B*T)\n",
        "            loss = F.cross_entropy(logits, targets)\n",
        "\n",
        "        return logits, loss\n",
        "\n",
        "    def generate(self, idx, max_new_tokens):\n",
        "        # idx is (B, T) array of indices in the current context\n",
        "        for _ in range(max_new_tokens):\n",
        "            # crop idx to the last block_size tokens\n",
        "            idx_cond = idx[:, -block_size:]\n",
        "            # get the predictions\n",
        "            logits, loss = self(idx_cond)\n",
        "            # focus only on the last time step\n",
        "            logits = logits[:, -1, :] # becomes (B, C)\n",
        "            # apply softmax to get probabilities\n",
        "            probs = F.softmax(logits, dim=-1) # (B, C)\n",
        "            # sample from the distribution\n",
        "            idx_next = torch.multinomial(probs, num_samples=1) # (B, 1)\n",
        "            # append sampled index to the running sequence\n",
        "            idx = torch.cat((idx, idx_next), dim=1) # (B, T+1)\n",
        "        return idx\n",
        "\n",
        "model = BigramLanguageModel()\n",
        "m = model.to(device)\n",
        "# print the number of parameters in the model\n",
        "print(sum(p.numel() for p in m.parameters())/1e6, 'M parameters')\n",
        "\n",
        "# create a PyTorch optimizer\n",
        "optimizer = torch.optim.AdamW(model.parameters(), lr=learning_rate)\n",
        "\n",
        "for iter in range(max_iters):\n",
        "\n",
        "    # every once in a while evaluate the loss on train and val sets\n",
        "    if iter % eval_interval == 0 or iter == max_iters - 1:\n",
        "        losses = estimate_loss()\n",
        "        print(f\"step {iter}: train loss {losses['train']:.4f}, val loss {losses['val']:.4f}\")\n",
        "\n",
        "    # sample a batch of data\n",
        "    xb, yb = get_batch('train')\n",
        "\n",
        "    # evaluate the loss\n",
        "    logits, loss = model(xb, yb)\n",
        "    optimizer.zero_grad(set_to_none=True)\n",
        "    loss.backward()\n",
        "    optimizer.step()\n",
        "\n",
        "# generate from the model\n",
        "context = torch.zeros((1, 1), dtype=torch.long, device=device)\n",
        "print(decode(m.generate(context, max_new_tokens=2000)[0].tolist()))\n"
      ],
      "metadata": {
        "colab": {
          "base_uri": "https://localhost:8080/"
        },
        "id": "hoelkOrFY8bN",
        "outputId": "91006b17-6874-42b9-f37e-b989b57bce50"
      },
      "execution_count": null,
      "outputs": [
        {
          "output_type": "stream",
          "name": "stdout",
          "text": [
            "0.211148 M parameters\n",
            "step 0: train loss 4.5327, val loss 4.5323\n",
            "step 100: train loss 2.5735, val loss 2.5740\n",
            "step 200: train loss 2.4569, val loss 2.4490\n",
            "step 300: train loss 2.3375, val loss 2.3442\n",
            "step 400: train loss 2.2428, val loss 2.2284\n",
            "step 500: train loss 2.1488, val loss 2.1518\n",
            "step 600: train loss 2.0861, val loss 2.0801\n",
            "step 700: train loss 2.0093, val loss 2.0039\n",
            "step 800: train loss 1.9684, val loss 1.9547\n",
            "step 900: train loss 1.9003, val loss 1.9104\n",
            "step 1000: train loss 1.8531, val loss 1.8716\n",
            "step 1100: train loss 1.8384, val loss 1.8541\n",
            "step 1200: train loss 1.8098, val loss 1.8221\n",
            "step 1300: train loss 1.7880, val loss 1.7953\n",
            "step 1400: train loss 1.7334, val loss 1.7590\n",
            "step 1500: train loss 1.7285, val loss 1.7540\n",
            "step 1600: train loss 1.6977, val loss 1.7282\n",
            "step 1700: train loss 1.6988, val loss 1.7202\n",
            "step 1800: train loss 1.6694, val loss 1.7010\n",
            "step 1900: train loss 1.6458, val loss 1.6785\n",
            "step 2000: train loss 1.6319, val loss 1.6743\n",
            "step 2100: train loss 1.6345, val loss 1.6733\n",
            "step 2200: train loss 1.6169, val loss 1.6427\n",
            "step 2300: train loss 1.6051, val loss 1.6258\n",
            "step 2400: train loss 1.5934, val loss 1.6262\n",
            "step 2500: train loss 1.5941, val loss 1.6229\n",
            "step 2600: train loss 1.5741, val loss 1.6114\n",
            "step 2700: train loss 1.5618, val loss 1.6023\n",
            "step 2800: train loss 1.5698, val loss 1.6142\n",
            "step 2900: train loss 1.5389, val loss 1.5831\n",
            "step 3000: train loss 1.5391, val loss 1.5712\n",
            "step 3100: train loss 1.5286, val loss 1.5725\n",
            "step 3200: train loss 1.5268, val loss 1.5507\n",
            "step 3300: train loss 1.5222, val loss 1.5655\n",
            "step 3400: train loss 1.5206, val loss 1.5586\n",
            "step 3500: train loss 1.4936, val loss 1.5351\n",
            "step 3600: train loss 1.5011, val loss 1.5368\n",
            "step 3700: train loss 1.4967, val loss 1.5371\n",
            "step 3800: train loss 1.4989, val loss 1.5480\n",
            "step 3900: train loss 1.4813, val loss 1.5132\n",
            "step 4000: train loss 1.4839, val loss 1.5057\n",
            "step 4100: train loss 1.4757, val loss 1.5152\n",
            "step 4200: train loss 1.4702, val loss 1.5118\n",
            "step 4300: train loss 1.4761, val loss 1.4991\n",
            "step 4400: train loss 1.4653, val loss 1.5022\n",
            "step 4500: train loss 1.4661, val loss 1.5101\n",
            "step 4600: train loss 1.4702, val loss 1.4975\n",
            "step 4700: train loss 1.4398, val loss 1.4926\n",
            "step 4800: train loss 1.4298, val loss 1.4935\n",
            "step 4900: train loss 1.4457, val loss 1.4935\n",
            "step 4999: train loss 1.4354, val loss 1.4770\n",
            "\n",
            "And you so fam was a shill,\n",
            "wain or Jovang there too incomplexs of any sovietive,\n",
            "It I at selucally?\n",
            "I research are, right mayers.\n",
            "And it's a wrrindime the poet the into take our most worked,\n",
            "tire one,\n",
            "is the movie isipies. You can not, right?\n",
            "So people as had or all term,rian, then you just wasn't in to dess, they and that it the really reasons,\n",
            "we'll, up to alsaida.\n",
            "Or lecand.\n",
            "It likes, quite griving fase, so espends fause a gree learning to lime,\n",
            "rules too something\n",
            "to bain in giveligen stead toeal eacher\n",
            "one that arided can diserad soolvalue, something you will acversion, how with do event coness something that that building to like so constion is. So some a uspeatate nige on thse, the good to, reellist easyers in human an during namations are aligimation soul jishic. It's entire, weple any like invenove fow strivents,\n",
            "can numan exace to thinkips out building orde,\n",
            "the you can side, one that's a been networks way,\n",
            "and it a has going on a sesen on moves to of unce an on.\n",
            "Can it has, yes you will wind piers evolutes that, with self stacking dandain.\n",
            "It fom you want togething wee askin.\n",
            "And I will say you taked one who was being hous as some.\n",
            "And I should a had wrong\n",
            "ac beliencing at the he, right, but my emination fier the, gack that, understand. NoTques try really geneerally literally at conscious to repagely come follawf that that done Was ven instive a network?\n",
            "The something something the world, but momement we about sand to trachly proodinatis,\n",
            "we'll just dood some times functly way think it pariedical.\n",
            "Plike as that is that.\n",
            "So CHide stall inting all to ago the ben to reason,\n",
            "you suppodent of conscious with you didn't really higen cilisista with.\n",
            "Yes, people are varis with in a one. You I would thinkips of Cand so retequs of whatdods.\n",
            "Thouse are ercone.\n",
            "It mean, it was is not kind on in on a part of the one your it more than certain a something we had thind the are and valuage deeps.\n",
            "And to I would veriet us histe at tense into the sensuationse so fame of neg\n"
          ]
        }
      ]
    },
    {
      "cell_type": "code",
      "source": [],
      "metadata": {
        "id": "fjjvMifYZf7x"
      },
      "execution_count": null,
      "outputs": []
    }
  ]
}